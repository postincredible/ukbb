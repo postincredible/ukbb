{
 "cells": [
  {
   "cell_type": "markdown",
   "metadata": {},
   "source": [
    "# medication indicators"
   ]
  },
  {
   "cell_type": "code",
   "execution_count": 1,
   "metadata": {},
   "outputs": [],
   "source": [
    "import os\n",
    "import pandas as pd\n",
    "import numpy as np"
   ]
  },
  {
   "cell_type": "code",
   "execution_count": 2,
   "metadata": {},
   "outputs": [],
   "source": [
    "def lst_ind(dfa_list,ind_val):\n",
    "    pre0=[]\n",
    "    for i in dfa_list:\n",
    "        if pd.isnull(i):\n",
    "            pre0.append([])\n",
    "        elif pd.notnull(i):\n",
    "            si=[]\n",
    "            jl=i.split(',')\n",
    "            for ei in jl:\n",
    "                ef=ei.replace(',','')\n",
    "                efa,efb,efc=ef.partition(str(ind_val))\n",
    "                if efa=='':\n",
    "                    si.append(ef)\n",
    "            pre0.append(si)\n",
    "    return pre0\n",
    "\n",
    "def mm_gen_ind_raw(fid_int,key_code,evnt, detail=False):\n",
    "    dfc=load_data_by_fid(fid_int)\n",
    "    #df_icd9m=dfc.copy()\n",
    "    dfa=dfc.copy()\n",
    "\n",
    "    dfa_lst=dfa[dfa.columns[1]].values.tolist()\n",
    "    \n",
    "    pre0=lst_ind(dfa_lst,str(key_code))\n",
    "    \n",
    "    gen_fid_name='fid'+str(fid_int)+'_'+str(evnt)+str(key_code)\n",
    "    gen_ind_name='ind'+str(fid_int)+'_'+str(evnt)+str(key_code)\n",
    "    \n",
    "    dfa[str(gen_fid_name)]=pre0\n",
    "    dfa[dfa.columns[dfa.columns.get_loc(str(gen_fid_name))]]=dfa[dfa.columns[dfa.columns.get_loc(str(gen_fid_name))]].apply(lambda y: np.nan if len(y)==0 else y )\n",
    "    \n",
    "    dfa[str(gen_ind_name)]=pre0\n",
    "    dfa[dfa.columns[dfa.columns.get_loc(str(gen_ind_name))]]=dfa[dfa.columns[dfa.columns.get_loc(str(gen_ind_name))]].apply(lambda y: 0 if len(y)==0 else 1 )\n",
    "    \n",
    "    print('fid '+str(fid_int)+' ',str(evnt)+str(key_code)+' count: '+str(dfa[dfa.columns[dfa.columns.get_loc(str(gen_fid_name))]].count())+', ind '+str(dfa[dfa.columns[dfa.columns.get_loc(str(gen_ind_name))]].count()))\n",
    "    dfb=dfa[['eid',str(gen_ind_name)]]\n",
    "    \n",
    "    if detail==True:\n",
    "        return dfa\n",
    "    else:\n",
    "        return dfb\n",
    "\n",
    "\n",
    "\n",
    "\n",
    "def mm_gen_ind_list(fid_in, key_code_list, evt, detai=False):\n",
    "    dfcl=[]\n",
    "    if detai==False:\n",
    "        for l in key_code_list:\n",
    "            df_l=mm_gen_ind_raw(fid_in, l, str(evt), detail=False)\n",
    "            dfcl.append(df_l)\n",
    "        dfcl_merge=pd.concat(dfcl,axis=1)\n",
    "        dfcl_merge=dfcl_merge.loc[:,~dfcl_merge.columns.duplicated()]  # drop duplicated 'eid' columns\n",
    "        return dfcl_merge\n",
    "\n",
    "    if detai==True:\n",
    "        for l in key_code_list:\n",
    "            df_l=mm_gen_ind_raw(fid_in, l, str(evt), detail=True)\n",
    "            dfcl.append(df_l)\n",
    "        dfcl_merge=pd.concat(dfcl,axis=1)\n",
    "        dfcl_merge=dfcl_merge.loc[:,~dfcl_merge.columns.duplicated()]  # drop duplicated 'eid' columns\n",
    "        return dfcl_merge"
   ]
  },
  {
   "cell_type": "code",
   "execution_count": 3,
   "metadata": {},
   "outputs": [],
   "source": [
    "dc4=pd.read_csv('/temp_project/ukbb/data/data_coding/coding4.tsv', sep='\\t')"
   ]
  },
  {
   "cell_type": "code",
   "execution_count": 4,
   "metadata": {},
   "outputs": [
    {
     "data": {
      "text/html": [
       "<div>\n",
       "<style scoped>\n",
       "    .dataframe tbody tr th:only-of-type {\n",
       "        vertical-align: middle;\n",
       "    }\n",
       "\n",
       "    .dataframe tbody tr th {\n",
       "        vertical-align: top;\n",
       "    }\n",
       "\n",
       "    .dataframe thead th {\n",
       "        text-align: right;\n",
       "    }\n",
       "</style>\n",
       "<table border=\"1\" class=\"dataframe\">\n",
       "  <thead>\n",
       "    <tr style=\"text-align: right;\">\n",
       "      <th></th>\n",
       "      <th>coding</th>\n",
       "      <th>meaning</th>\n",
       "    </tr>\n",
       "  </thead>\n",
       "  <tbody>\n",
       "    <tr>\n",
       "      <th>0</th>\n",
       "      <td>1185</td>\n",
       "      <td>vitamin e product [ctsu]</td>\n",
       "    </tr>\n",
       "    <tr>\n",
       "      <th>1</th>\n",
       "      <td>1187</td>\n",
       "      <td>chondroitin product</td>\n",
       "    </tr>\n",
       "    <tr>\n",
       "      <th>2</th>\n",
       "      <td>1189</td>\n",
       "      <td>co-enzyme q10/ubiquinone/bio-quinone/coenzyme q10</td>\n",
       "    </tr>\n",
       "    <tr>\n",
       "      <th>3</th>\n",
       "      <td>1191</td>\n",
       "      <td>indigestion remedy (over the counter)</td>\n",
       "    </tr>\n",
       "    <tr>\n",
       "      <th>4</th>\n",
       "      <td>1193</td>\n",
       "      <td>omega-3/fish oil supplement</td>\n",
       "    </tr>\n",
       "  </tbody>\n",
       "</table>\n",
       "</div>"
      ],
      "text/plain": [
       "   coding                                            meaning\n",
       "0    1185                           vitamin e product [ctsu]\n",
       "1    1187                                chondroitin product\n",
       "2    1189  co-enzyme q10/ubiquinone/bio-quinone/coenzyme q10\n",
       "3    1191              indigestion remedy (over the counter)\n",
       "4    1193                        omega-3/fish oil supplement"
      ]
     },
     "execution_count": 4,
     "metadata": {},
     "output_type": "execute_result"
    }
   ],
   "source": [
    "dc4.head()"
   ]
  },
  {
   "cell_type": "code",
   "execution_count": 5,
   "metadata": {},
   "outputs": [],
   "source": [
    "def search_med_des(keyword):\n",
    "    klow=str(keyword).lower()\n",
    "    dc4['meaning']=dc4.meaning.str.lower()\n",
    "    key_des=dc4[dc4.meaning.str.contains(klow)][['coding','meaning']]\n",
    "    return key_des"
   ]
  },
  {
   "cell_type": "code",
   "execution_count": 6,
   "metadata": {},
   "outputs": [
    {
     "data": {
      "text/html": [
       "<div>\n",
       "<style scoped>\n",
       "    .dataframe tbody tr th:only-of-type {\n",
       "        vertical-align: middle;\n",
       "    }\n",
       "\n",
       "    .dataframe tbody tr th {\n",
       "        vertical-align: top;\n",
       "    }\n",
       "\n",
       "    .dataframe thead th {\n",
       "        text-align: right;\n",
       "    }\n",
       "</style>\n",
       "<table border=\"1\" class=\"dataframe\">\n",
       "  <thead>\n",
       "    <tr style=\"text-align: right;\">\n",
       "      <th></th>\n",
       "      <th>coding</th>\n",
       "      <th>meaning</th>\n",
       "    </tr>\n",
       "  </thead>\n",
       "  <tbody>\n",
       "    <tr>\n",
       "      <th>5717</th>\n",
       "      <td>1141168668</td>\n",
       "      <td>novonorm 0.5mg tablet</td>\n",
       "    </tr>\n",
       "    <tr>\n",
       "      <th>6122</th>\n",
       "      <td>1141180766</td>\n",
       "      <td>novofem tablet</td>\n",
       "    </tr>\n",
       "    <tr>\n",
       "      <th>6608</th>\n",
       "      <td>1141195280</td>\n",
       "      <td>novolizer budesonide 200micrograms/dose cartri...</td>\n",
       "    </tr>\n",
       "  </tbody>\n",
       "</table>\n",
       "</div>"
      ],
      "text/plain": [
       "          coding                                            meaning\n",
       "5717  1141168668                              novonorm 0.5mg tablet\n",
       "6122  1141180766                                     novofem tablet\n",
       "6608  1141195280  novolizer budesonide 200micrograms/dose cartri..."
      ]
     },
     "execution_count": 6,
     "metadata": {},
     "output_type": "execute_result"
    }
   ],
   "source": [
    "search_med_des('novo')"
   ]
  },
  {
   "cell_type": "code",
   "execution_count": 6,
   "metadata": {},
   "outputs": [],
   "source": [
    "def related_meds(key_list, dis):\n",
    "    savepath1='/temp_project/ukbb/data/disease/'\n",
    "    savepath2=savepath1+str(dis).upper()\n",
    "    os.chdir(savepath2)\n",
    "    d_lst=[]\n",
    "    for k in key_list:\n",
    "        df_k=search_med_des(str(k).strip())\n",
    "        d_lst.append(df_k)\n",
    "\n",
    "    d_coma=pd.concat(d_lst)\n",
    "    d_comb=d_coma.drop_duplicates()\n",
    "    print('Searched keyword(s): '+str(key_list)+'\\n'+'save related_meds_chk.csv file at '+str(savepath2))\n",
    "    d_comb.to_csv('related_meds_chk.csv')\n",
    "    return d_comb\n"
   ]
  },
  {
   "cell_type": "markdown",
   "metadata": {},
   "source": [
    "### T1D checked med list: \n",
    "praml,syml,apid,exub,hum,humal,humu,ilet,insul\n",
    "\n",
    "isoph,lantu,lenta,lente,levem,mixtar,monotar,novol,relio,velos\n",
    "\n",
    "Found possible meds: \n",
    "\n",
    "|code|meaning|\n",
    "|---|---|\n",
    "|1140883066|insulin product|"
   ]
  },
  {
   "cell_type": "markdown",
   "metadata": {},
   "source": [
    "### T2D checked med list: 19 meds\n",
    "\n",
    "|keywords|useful keywords|found code|meanning|\n",
    "|---|\n",
    "|appfo,fortam,glucop,glumet,metform,riome|glucop,metform|1140874686|glucophage 500mg tablet\n",
    "|||1140884600|metformin|\n",
    "|||1141189090|rosiglitazone 1mg / metformin 500mg tablet|\n",
    "|janu,ongly,saxagl,sitag,byett,exena,lirag,victoza,nategl,prand,repaglin,starlix|nategl,repaglin,starlix|1141173882|nateglinide|\n",
    "|||1141168660|repaglinide|\n",
    "|||1141173786|starlix 60mg tablet|\n",
    "|acetohex,amary,chlorabeti,chlorr,diabe,diabi,dibat,dymel|acetohex,amary,diabe,diabi|1140857584|acetohexamide|\n",
    "|glimep,glipiz,glucami,glucotrol,glucovance,glyburi,glycron,glynase|glimep,glipiz|1141156984|amaryl 1mg tablet|\n",
    "|||1140874736|diabetamide 2.5mg tablet|\n",
    "|||1140874712|diabinese 100mg tablet|\n",
    "|||1141152590|glimepiride|\n",
    "|||1140874646|glipizide|\n",
    "|||1141157284|glipizide product|\n",
    "|tolam,insulase,micronase,oribeti,orinas,ronase,tolbutami,tolamid|tolbutami|1140874674|tolbutamide|\n",
    "|tolazamid,tolinase,actoplus,actos,avand,duetac|tolazamid,actos,avand|1140874664|tolazamide,actos,avand|\n",
    "|pioglit,rezulin,rosiglitaz,troglitaz|pioglit,rosiglitaz,troglitaz|1141171652|actos 15mg tablet|\n",
    "|||1141177606|avandia 4mg tablet|\n",
    "|||1141189094|avandamet 1mg / 500mg tablet|\n",
    "|||1141171646|pioglitazone|\n",
    "|||1141177600|rosiglitazone|\n",
    "|||1141189090|rosiglitazone 1mg / metformin 500mg tablet|\n",
    "|||1141153254|troglitazone|\n",
    "\n",
    "useful terms: glucop,metform,nategl,repaglin,starlix,acetohex,amary,diabe,diabi,glimep,glipiz,tolbutami,tolazamid,actos,avand,pioglit,rosiglitaz,troglitaz\n"
   ]
  },
  {
   "cell_type": "code",
   "execution_count": 8,
   "metadata": {},
   "outputs": [
    {
     "name": "stdout",
     "output_type": "stream",
     "text": [
      "Searched keyword(s): ['glucop', 'metform', 'nategl', 'repaglin', 'starlix', 'acetohex', 'amary', 'diabe', 'diabi', 'glimep', 'glipiz', 'tolbutami', 'tolazamid', 'actos', 'avand', 'pioglit', 'rosiglitaz', 'troglitaz']\n",
      "save related_meds_chk.csv file at /temp_project/ukbb/data/disease/T2D\n",
      "totsl meds count: coding     21\n",
      "meaning    21\n",
      "dtype: int64\n"
     ]
    },
    {
     "data": {
      "text/html": [
       "<div>\n",
       "<style scoped>\n",
       "    .dataframe tbody tr th:only-of-type {\n",
       "        vertical-align: middle;\n",
       "    }\n",
       "\n",
       "    .dataframe tbody tr th {\n",
       "        vertical-align: top;\n",
       "    }\n",
       "\n",
       "    .dataframe thead th {\n",
       "        text-align: right;\n",
       "    }\n",
       "</style>\n",
       "<table border=\"1\" class=\"dataframe\">\n",
       "  <thead>\n",
       "    <tr style=\"text-align: right;\">\n",
       "      <th></th>\n",
       "      <th>coding</th>\n",
       "      <th>meaning</th>\n",
       "    </tr>\n",
       "  </thead>\n",
       "  <tbody>\n",
       "    <tr>\n",
       "      <th>2928</th>\n",
       "      <td>1140874686</td>\n",
       "      <td>glucophage 500mg tablet</td>\n",
       "    </tr>\n",
       "    <tr>\n",
       "      <th>4206</th>\n",
       "      <td>1140884600</td>\n",
       "      <td>metformin</td>\n",
       "    </tr>\n",
       "    <tr>\n",
       "      <th>6420</th>\n",
       "      <td>1141189090</td>\n",
       "      <td>rosiglitazone 1mg / metformin 500mg tablet</td>\n",
       "    </tr>\n",
       "    <tr>\n",
       "      <th>5942</th>\n",
       "      <td>1141173882</td>\n",
       "      <td>nateglinide</td>\n",
       "    </tr>\n",
       "    <tr>\n",
       "      <th>5716</th>\n",
       "      <td>1141168660</td>\n",
       "      <td>repaglinide</td>\n",
       "    </tr>\n",
       "    <tr>\n",
       "      <th>5938</th>\n",
       "      <td>1141173786</td>\n",
       "      <td>starlix 60mg tablet</td>\n",
       "    </tr>\n",
       "    <tr>\n",
       "      <th>734</th>\n",
       "      <td>1140857584</td>\n",
       "      <td>acetohexamide</td>\n",
       "    </tr>\n",
       "    <tr>\n",
       "      <th>5355</th>\n",
       "      <td>1141156984</td>\n",
       "      <td>amaryl 1mg tablet</td>\n",
       "    </tr>\n",
       "    <tr>\n",
       "      <th>2938</th>\n",
       "      <td>1140874736</td>\n",
       "      <td>diabetamide 2.5mg tablet</td>\n",
       "    </tr>\n",
       "    <tr>\n",
       "      <th>2931</th>\n",
       "      <td>1140874712</td>\n",
       "      <td>diabinese 100mg tablet</td>\n",
       "    </tr>\n",
       "    <tr>\n",
       "      <th>5271</th>\n",
       "      <td>1141152590</td>\n",
       "      <td>glimepiride</td>\n",
       "    </tr>\n",
       "    <tr>\n",
       "      <th>2918</th>\n",
       "      <td>1140874646</td>\n",
       "      <td>glipizide</td>\n",
       "    </tr>\n",
       "    <tr>\n",
       "      <th>5390</th>\n",
       "      <td>1141157284</td>\n",
       "      <td>glipizide product</td>\n",
       "    </tr>\n",
       "    <tr>\n",
       "      <th>2925</th>\n",
       "      <td>1140874674</td>\n",
       "      <td>tolbutamide</td>\n",
       "    </tr>\n",
       "    <tr>\n",
       "      <th>2923</th>\n",
       "      <td>1140874664</td>\n",
       "      <td>tolazamide</td>\n",
       "    </tr>\n",
       "    <tr>\n",
       "      <th>5834</th>\n",
       "      <td>1141171652</td>\n",
       "      <td>actos 15mg tablet</td>\n",
       "    </tr>\n",
       "    <tr>\n",
       "      <th>6030</th>\n",
       "      <td>1141177606</td>\n",
       "      <td>avandia 4mg tablet</td>\n",
       "    </tr>\n",
       "    <tr>\n",
       "      <th>6421</th>\n",
       "      <td>1141189094</td>\n",
       "      <td>avandamet 1mg / 500mg tablet</td>\n",
       "    </tr>\n",
       "    <tr>\n",
       "      <th>5833</th>\n",
       "      <td>1141171646</td>\n",
       "      <td>pioglitazone</td>\n",
       "    </tr>\n",
       "    <tr>\n",
       "      <th>6029</th>\n",
       "      <td>1141177600</td>\n",
       "      <td>rosiglitazone</td>\n",
       "    </tr>\n",
       "    <tr>\n",
       "      <th>5316</th>\n",
       "      <td>1141153254</td>\n",
       "      <td>troglitazone</td>\n",
       "    </tr>\n",
       "  </tbody>\n",
       "</table>\n",
       "</div>"
      ],
      "text/plain": [
       "          coding                                     meaning\n",
       "2928  1140874686                     glucophage 500mg tablet\n",
       "4206  1140884600                                   metformin\n",
       "6420  1141189090  rosiglitazone 1mg / metformin 500mg tablet\n",
       "5942  1141173882                                 nateglinide\n",
       "5716  1141168660                                 repaglinide\n",
       "5938  1141173786                         starlix 60mg tablet\n",
       "734   1140857584                               acetohexamide\n",
       "5355  1141156984                           amaryl 1mg tablet\n",
       "2938  1140874736                    diabetamide 2.5mg tablet\n",
       "2931  1140874712                      diabinese 100mg tablet\n",
       "5271  1141152590                                 glimepiride\n",
       "2918  1140874646                                   glipizide\n",
       "5390  1141157284                           glipizide product\n",
       "2925  1140874674                                 tolbutamide\n",
       "2923  1140874664                                  tolazamide\n",
       "5834  1141171652                           actos 15mg tablet\n",
       "6030  1141177606                          avandia 4mg tablet\n",
       "6421  1141189094                avandamet 1mg / 500mg tablet\n",
       "5833  1141171646                                pioglitazone\n",
       "6029  1141177600                               rosiglitazone\n",
       "5316  1141153254                                troglitazone"
      ]
     },
     "execution_count": 8,
     "metadata": {},
     "output_type": "execute_result"
    }
   ],
   "source": [
    "meds_T2D=related_meds(input('enter keyword(s) (seperate by ,): ').split(','),input('check disease (T2D/RA/AD): '))\n",
    "#glucop,metform,nategl,repaglin,starlix,acetohex,amary,diabe,diabi,glimep,glipiz,tolbutami,tolazamid,actos,avand,pioglit,rosiglitaz,troglitaz\n",
    "\n",
    "print('totsl meds count: '+str(meds_T2D.count()))\n",
    "meds_T2D"
   ]
  },
  {
   "cell_type": "code",
   "execution_count": 9,
   "metadata": {},
   "outputs": [],
   "source": [
    "meds_T2D_list=meds_T2D.coding.values.tolist()"
   ]
  },
  {
   "cell_type": "code",
   "execution_count": 10,
   "metadata": {},
   "outputs": [
    {
     "data": {
      "text/plain": [
       "[1140874686, 1140884600, 1141189090, 1141173882, 1141168660]"
      ]
     },
     "execution_count": 10,
     "metadata": {},
     "output_type": "execute_result"
    }
   ],
   "source": [
    "meds_T2D_list[0:5]"
   ]
  },
  {
   "cell_type": "code",
   "execution_count": 11,
   "metadata": {},
   "outputs": [],
   "source": [
    "os.chdir('/temp_project/all_codes')\n",
    "from ukbb_ldbf import load_data_by_fid"
   ]
  },
  {
   "cell_type": "code",
   "execution_count": 12,
   "metadata": {},
   "outputs": [
    {
     "name": "stdout",
     "output_type": "stream",
     "text": [
      "fid 20003 is a single-measure categorical (multiple) variable, which is \n",
      "Treatment/medication codeUses data-coding 4 comprises 6745 Integer-valued members in a simple list.\n"
     ]
    }
   ],
   "source": [
    "meds=load_data_by_fid(fid=20003)"
   ]
  },
  {
   "cell_type": "code",
   "execution_count": 13,
   "metadata": {},
   "outputs": [
    {
     "data": {
      "text/plain": [
       "364052"
      ]
     },
     "execution_count": 13,
     "metadata": {},
     "output_type": "execute_result"
    }
   ],
   "source": [
    "meds.vec_cam20003i0.dropna().count()"
   ]
  },
  {
   "cell_type": "code",
   "execution_count": 15,
   "metadata": {},
   "outputs": [],
   "source": []
  },
  {
   "cell_type": "code",
   "execution_count": 16,
   "metadata": {},
   "outputs": [
    {
     "name": "stdout",
     "output_type": "stream",
     "text": [
      "fid 20003 is a multiple-measure categorical (multiple) variable\n",
      "fid 20003  T2D1140874686 count: 492, ind 502602\n",
      "fid 20003 is a multiple-measure categorical (multiple) variable\n",
      "fid 20003  T2D1140884600 count: 13995, ind 502602\n",
      "fid 20003 is a multiple-measure categorical (multiple) variable\n",
      "fid 20003  T2D1141189090 count: 214, ind 502602\n",
      "fid 20003 is a multiple-measure categorical (multiple) variable\n",
      "fid 20003  T2D1141173882 count: 42, ind 502602\n",
      "fid 20003 is a multiple-measure categorical (multiple) variable\n",
      "fid 20003  T2D1141168660 count: 84, ind 502602\n",
      "fid 20003 is a multiple-measure categorical (multiple) variable\n",
      "fid 20003  T2D1141173786 count: 8, ind 502602\n",
      "fid 20003 is a multiple-measure categorical (multiple) variable\n",
      "fid 20003  T2D1140857584 count: 0, ind 502602\n",
      "fid 20003 is a multiple-measure categorical (multiple) variable\n",
      "fid 20003  T2D1141156984 count: 49, ind 502602\n",
      "fid 20003 is a multiple-measure categorical (multiple) variable\n",
      "fid 20003  T2D1140874736 count: 0, ind 502602\n",
      "fid 20003 is a multiple-measure categorical (multiple) variable\n",
      "fid 20003  T2D1140874712 count: 0, ind 502602\n",
      "fid 20003 is a multiple-measure categorical (multiple) variable\n",
      "fid 20003  T2D1141152590 count: 472, ind 502602\n",
      "fid 20003 is a multiple-measure categorical (multiple) variable\n",
      "fid 20003  T2D1140874646 count: 89, ind 502602\n",
      "fid 20003 is a multiple-measure categorical (multiple) variable\n",
      "fid 20003  T2D1141157284 count: 2, ind 502602\n",
      "fid 20003 is a multiple-measure categorical (multiple) variable\n",
      "fid 20003  T2D1140874674 count: 51, ind 502602\n",
      "fid 20003 is a multiple-measure categorical (multiple) variable\n",
      "fid 20003  T2D1140874664 count: 0, ind 502602\n",
      "fid 20003 is a multiple-measure categorical (multiple) variable\n",
      "fid 20003  T2D1141171652 count: 91, ind 502602\n",
      "fid 20003 is a multiple-measure categorical (multiple) variable\n",
      "fid 20003  T2D1141177606 count: 72, ind 502602\n",
      "fid 20003 is a multiple-measure categorical (multiple) variable\n",
      "fid 20003  T2D1141189094 count: 205, ind 502602\n",
      "fid 20003 is a multiple-measure categorical (multiple) variable\n",
      "fid 20003  T2D1141171646 count: 1082, ind 502602\n",
      "fid 20003 is a multiple-measure categorical (multiple) variable\n",
      "fid 20003  T2D1141177600 count: 757, ind 502602\n",
      "fid 20003 is a multiple-measure categorical (multiple) variable\n",
      "fid 20003  T2D1141153254 count: 0, ind 502602\n"
     ]
    }
   ],
   "source": [
    "\n",
    "meds_ind_pre=mm_gen_ind_list(fid_in=20003, key_code_list=meds_T2D_list, evt='T2D')"
   ]
  },
  {
   "cell_type": "code",
   "execution_count": 22,
   "metadata": {},
   "outputs": [
    {
     "data": {
      "text/plain": [
       "0    487267\n",
       "1     15335\n",
       "Name: ind20003_T2D, dtype: int64"
      ]
     },
     "execution_count": 22,
     "metadata": {},
     "output_type": "execute_result"
    }
   ],
   "source": [
    "\n",
    "df_ind20003_T2D=meds_ind_pre[['eid']].copy()\n",
    "df_ind20003_T2D['ind20003_T2D']=meds_ind_pre.drop('eid',axis=1).sum(axis=1)\n",
    "df_ind20003_T2D.ind20003_T2D=df_ind20003_T2D.ind20003_T2D.apply(lambda y: 1 if int(y)>0 else 0)\n",
    "df_ind20003_T2D.ind20003_T2D.value_counts()"
   ]
  },
  {
   "cell_type": "code",
   "execution_count": 25,
   "metadata": {},
   "outputs": [],
   "source": [
    "os.chdir('/temp_project/ukbb/data/i0/varOutcome/T2D')\n",
    "df_ind20003_T2D.to_csv('meds_ind_T2D.csv', index=None)"
   ]
  },
  {
   "cell_type": "code",
   "execution_count": 28,
   "metadata": {},
   "outputs": [
    {
     "name": "stdout",
     "output_type": "stream",
     "text": [
      "fid 20003 is a multiple-measure categorical (multiple) variable\n",
      "fid 20003  T2D1140883066 count: 5317, ind 502602\n"
     ]
    }
   ],
   "source": [
    "df_ind20003_possibleT1D=mm_gen_ind_list(fid_in=20003, key_code_list=['1140883066'], evt='T2D')"
   ]
  },
  {
   "cell_type": "code",
   "execution_count": null,
   "metadata": {},
   "outputs": [],
   "source": []
  },
  {
   "cell_type": "code",
   "execution_count": null,
   "metadata": {},
   "outputs": [],
   "source": []
  },
  {
   "cell_type": "code",
   "execution_count": null,
   "metadata": {},
   "outputs": [],
   "source": []
  },
  {
   "cell_type": "code",
   "execution_count": 22,
   "metadata": {},
   "outputs": [],
   "source": [
    "#os.mkdir('/temp_project/ukbb/data/disease/DM')"
   ]
  },
  {
   "cell_type": "code",
   "execution_count": 24,
   "metadata": {},
   "outputs": [
    {
     "name": "stdout",
     "output_type": "stream",
     "text": [
      "Searched keyword(s): ['insulin']\n",
      "save related_meds_chk.csv file at /temp_project/ukbb/data/disease/DM\n",
      "totsl meds count: 1\n"
     ]
    },
    {
     "data": {
      "text/html": [
       "<div>\n",
       "<style scoped>\n",
       "    .dataframe tbody tr th:only-of-type {\n",
       "        vertical-align: middle;\n",
       "    }\n",
       "\n",
       "    .dataframe tbody tr th {\n",
       "        vertical-align: top;\n",
       "    }\n",
       "\n",
       "    .dataframe thead th {\n",
       "        text-align: right;\n",
       "    }\n",
       "</style>\n",
       "<table border=\"1\" class=\"dataframe\">\n",
       "  <thead>\n",
       "    <tr style=\"text-align: right;\">\n",
       "      <th></th>\n",
       "      <th>coding</th>\n",
       "      <th>meaning</th>\n",
       "    </tr>\n",
       "  </thead>\n",
       "  <tbody>\n",
       "    <tr>\n",
       "      <th>3999</th>\n",
       "      <td>1140883066</td>\n",
       "      <td>insulin product</td>\n",
       "    </tr>\n",
       "  </tbody>\n",
       "</table>\n",
       "</div>"
      ],
      "text/plain": [
       "          coding          meaning\n",
       "3999  1140883066  insulin product"
      ]
     },
     "execution_count": 24,
     "metadata": {},
     "output_type": "execute_result"
    }
   ],
   "source": [
    "meds_insulin=related_meds(input('enter keyword(s) (seperate by ,): ').split(','),input('check disease (DM/T2D/RA/AD): '))\n",
    "# insulin\n",
    "\n",
    "print('totsl meds count: '+str(meds_insulin.coding.count()))\n",
    "meds_insulin"
   ]
  },
  {
   "cell_type": "code",
   "execution_count": 25,
   "metadata": {},
   "outputs": [],
   "source": [
    "meds_insulin_list=meds_insulin.coding.values.tolist()"
   ]
  },
  {
   "cell_type": "code",
   "execution_count": 26,
   "metadata": {},
   "outputs": [
    {
     "name": "stdout",
     "output_type": "stream",
     "text": [
      "fid 20003 is a multiple-measure categorical (multiple) variable\n",
      "fid 20003  DM1140883066 count: 5317, ind 502602\n"
     ]
    }
   ],
   "source": [
    "\n",
    "insulin_meds_ind_pre=mm_gen_ind_list(fid_in=20003, key_code_list=meds_insulin_list, evt='DM')"
   ]
  },
  {
   "cell_type": "code",
   "execution_count": 27,
   "metadata": {},
   "outputs": [],
   "source": [
    "insulin_meds_ind_pre.columns=['eid','ind20003_insulin']"
   ]
  },
  {
   "cell_type": "code",
   "execution_count": 29,
   "metadata": {},
   "outputs": [
    {
     "data": {
      "text/plain": [
       "0    497285\n",
       "1      5317\n",
       "Name: ind20003_insulin, dtype: int64"
      ]
     },
     "execution_count": 29,
     "metadata": {},
     "output_type": "execute_result"
    }
   ],
   "source": [
    "insulin_meds_ind_pre.ind20003_insulin.value_counts()"
   ]
  },
  {
   "cell_type": "code",
   "execution_count": 31,
   "metadata": {},
   "outputs": [],
   "source": [
    "insulin_meds_ind_pre.to_csv('/temp_project/ukbb/data/i0/varOutcome/T2D/meds_ind_insulin.csv', index=None)"
   ]
  },
  {
   "cell_type": "code",
   "execution_count": null,
   "metadata": {},
   "outputs": [],
   "source": []
  },
  {
   "cell_type": "code",
   "execution_count": null,
   "metadata": {},
   "outputs": [],
   "source": []
  }
 ],
 "metadata": {
  "kernelspec": {
   "display_name": "Python 3",
   "language": "python",
   "name": "python3"
  },
  "language_info": {
   "codemirror_mode": {
    "name": "ipython",
    "version": 3
   },
   "file_extension": ".py",
   "mimetype": "text/x-python",
   "name": "python",
   "nbconvert_exporter": "python",
   "pygments_lexer": "ipython3",
   "version": "3.6.5"
  }
 },
 "nbformat": 4,
 "nbformat_minor": 2
}
