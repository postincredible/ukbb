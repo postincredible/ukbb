{
 "cells": [
  {
   "cell_type": "code",
   "execution_count": 6,
   "metadata": {},
   "outputs": [],
   "source": [
    "import os\n",
    "import wget\n",
    "import pandas as pd\n"
   ]
  },
  {
   "cell_type": "code",
   "execution_count": 121,
   "metadata": {},
   "outputs": [],
   "source": [
    "## use full function\n",
    "\n",
    "## check categorical variable frequence for each level \n",
    "def freq_chk(dataframe,var='',output=True):\n",
    "    ctab=pd.crosstab(dataframe[var], columns='count')\n",
    "    if output==True:\n",
    "        print(ctab)\n",
    "    else:\n",
    "        pass\n",
    "    return;"
   ]
  },
  {
   "cell_type": "code",
   "execution_count": 7,
   "metadata": {},
   "outputs": [
    {
     "data": {
      "text/html": [
       "<div>\n",
       "<style scoped>\n",
       "    .dataframe tbody tr th:only-of-type {\n",
       "        vertical-align: middle;\n",
       "    }\n",
       "\n",
       "    .dataframe tbody tr th {\n",
       "        vertical-align: top;\n",
       "    }\n",
       "\n",
       "    .dataframe thead th {\n",
       "        text-align: right;\n",
       "    }\n",
       "</style>\n",
       "<table border=\"1\" class=\"dataframe\">\n",
       "  <thead>\n",
       "    <tr style=\"text-align: right;\">\n",
       "      <th></th>\n",
       "      <th>Column</th>\n",
       "      <th>UDI</th>\n",
       "      <th>Count</th>\n",
       "      <th>Type</th>\n",
       "      <th>Description</th>\n",
       "      <th>DC</th>\n",
       "      <th>CatLv</th>\n",
       "      <th>udip1</th>\n",
       "      <th>udip2</th>\n",
       "      <th>udip2m</th>\n",
       "      <th>udip2n</th>\n",
       "      <th>miss_ct</th>\n",
       "      <th>miss_pt</th>\n",
       "      <th>obs_ct</th>\n",
       "      <th>obs_pt</th>\n",
       "    </tr>\n",
       "  </thead>\n",
       "  <tbody>\n",
       "    <tr>\n",
       "      <th>0</th>\n",
       "      <td>0</td>\n",
       "      <td>eid</td>\n",
       "      <td>502602</td>\n",
       "      <td>Sequence</td>\n",
       "      <td>Encoded anonymised participant ID</td>\n",
       "      <td>NaN</td>\n",
       "      <td>NaN</td>\n",
       "      <td>eid</td>\n",
       "      <td>eid</td>\n",
       "      <td>-999</td>\n",
       "      <td>-999</td>\n",
       "      <td>0</td>\n",
       "      <td>0.000000</td>\n",
       "      <td>502602</td>\n",
       "      <td>1.000000</td>\n",
       "    </tr>\n",
       "    <tr>\n",
       "      <th>1</th>\n",
       "      <td>1</td>\n",
       "      <td>21-0.0</td>\n",
       "      <td>500887</td>\n",
       "      <td>Categorical (single)</td>\n",
       "      <td>Weight methodUses data-coding 100261 comprises...</td>\n",
       "      <td>100261</td>\n",
       "      <td>5</td>\n",
       "      <td>21</td>\n",
       "      <td>0.0</td>\n",
       "      <td>0</td>\n",
       "      <td>0</td>\n",
       "      <td>1715</td>\n",
       "      <td>0.003412</td>\n",
       "      <td>500887</td>\n",
       "      <td>0.996588</td>\n",
       "    </tr>\n",
       "    <tr>\n",
       "      <th>2</th>\n",
       "      <td>2</td>\n",
       "      <td>21-1.0</td>\n",
       "      <td>20336</td>\n",
       "      <td>Categorical (single)</td>\n",
       "      <td>Weight methodUses data-coding 100261 comprises...</td>\n",
       "      <td>100261</td>\n",
       "      <td>5</td>\n",
       "      <td>21</td>\n",
       "      <td>1.0</td>\n",
       "      <td>1</td>\n",
       "      <td>0</td>\n",
       "      <td>482266</td>\n",
       "      <td>0.959539</td>\n",
       "      <td>20336</td>\n",
       "      <td>0.040461</td>\n",
       "    </tr>\n",
       "    <tr>\n",
       "      <th>3</th>\n",
       "      <td>3</td>\n",
       "      <td>21-2.0</td>\n",
       "      <td>23167</td>\n",
       "      <td>Categorical (single)</td>\n",
       "      <td>Weight methodUses data-coding 100261 comprises...</td>\n",
       "      <td>100261</td>\n",
       "      <td>5</td>\n",
       "      <td>21</td>\n",
       "      <td>2.0</td>\n",
       "      <td>2</td>\n",
       "      <td>0</td>\n",
       "      <td>479435</td>\n",
       "      <td>0.953906</td>\n",
       "      <td>23167</td>\n",
       "      <td>0.046094</td>\n",
       "    </tr>\n",
       "    <tr>\n",
       "      <th>4</th>\n",
       "      <td>4</td>\n",
       "      <td>31-0.0</td>\n",
       "      <td>502602</td>\n",
       "      <td>Categorical (single)</td>\n",
       "      <td>SexUses data-coding 9 comprises 2 Integer-valu...</td>\n",
       "      <td>9</td>\n",
       "      <td>2</td>\n",
       "      <td>31</td>\n",
       "      <td>0.0</td>\n",
       "      <td>0</td>\n",
       "      <td>0</td>\n",
       "      <td>0</td>\n",
       "      <td>0.000000</td>\n",
       "      <td>502602</td>\n",
       "      <td>1.000000</td>\n",
       "    </tr>\n",
       "  </tbody>\n",
       "</table>\n",
       "</div>"
      ],
      "text/plain": [
       "   Column     UDI   Count                  Type  \\\n",
       "0       0     eid  502602              Sequence   \n",
       "1       1  21-0.0  500887  Categorical (single)   \n",
       "2       2  21-1.0   20336  Categorical (single)   \n",
       "3       3  21-2.0   23167  Categorical (single)   \n",
       "4       4  31-0.0  502602  Categorical (single)   \n",
       "\n",
       "                                         Description      DC CatLv udip1  \\\n",
       "0                  Encoded anonymised participant ID     NaN   NaN   eid   \n",
       "1  Weight methodUses data-coding 100261 comprises...  100261     5    21   \n",
       "2  Weight methodUses data-coding 100261 comprises...  100261     5    21   \n",
       "3  Weight methodUses data-coding 100261 comprises...  100261     5    21   \n",
       "4  SexUses data-coding 9 comprises 2 Integer-valu...       9     2    31   \n",
       "\n",
       "  udip2  udip2m  udip2n  miss_ct   miss_pt  obs_ct    obs_pt  \n",
       "0   eid    -999    -999        0  0.000000  502602  1.000000  \n",
       "1   0.0       0       0     1715  0.003412  500887  0.996588  \n",
       "2   1.0       1       0   482266  0.959539   20336  0.040461  \n",
       "3   2.0       2       0   479435  0.953906   23167  0.046094  \n",
       "4   0.0       0       0        0  0.000000  502602  1.000000  "
      ]
     },
     "execution_count": 7,
     "metadata": {},
     "output_type": "execute_result"
    }
   ],
   "source": [
    "os.chdir(\"/temp_project/ukbb/data\")\n",
    "df_tab1_adv=pd.read_csv('ukb22598_html_tab1_adv.csv')\n",
    "df_tab1_adv['DC'] = df_tab1_adv['DC'].fillna('NaN')\n",
    "df_tab1_adv['CatLv'] = df_tab1_adv['CatLv'].fillna('NaN')\n",
    "df_tab1_adv.head()"
   ]
  },
  {
   "cell_type": "code",
   "execution_count": 8,
   "metadata": {},
   "outputs": [],
   "source": [
    "os.mkdir(\"/temp_project/ukbb/data/data_coding\")"
   ]
  },
  {
   "cell_type": "code",
   "execution_count": 127,
   "metadata": {},
   "outputs": [
    {
     "data": {
      "text/plain": [
       "count     6067.0\n",
       "unique     247.0\n",
       "top         19.0\n",
       "freq       924.0\n",
       "Name: DC, dtype: float64"
      ]
     },
     "execution_count": 127,
     "metadata": {},
     "output_type": "execute_result"
    }
   ],
   "source": [
    "coding=df_tab1_adv[df_tab1_adv['DC']!='NaN']\n",
    "coding.DC.describe()\n",
    "#freq_chk(coding,'CatLv')"
   ]
  },
  {
   "cell_type": "code",
   "execution_count": 93,
   "metadata": {},
   "outputs": [],
   "source": [
    "coding_df = coding.groupby('DC').head(1).reset_index(drop=True)"
   ]
  },
  {
   "cell_type": "code",
   "execution_count": 96,
   "metadata": {},
   "outputs": [],
   "source": [
    "#coding_list=[int(i) for i in coding_df.DC]\n",
    "coding_df['DC'].astype(int).to_csv('/temp_project/ukbb/data/data_coding/coding_list.csv',header='DC', index=False,sep=',')"
   ]
  },
  {
   "cell_type": "code",
   "execution_count": null,
   "metadata": {},
   "outputs": [],
   "source": []
  },
  {
   "cell_type": "code",
   "execution_count": 97,
   "metadata": {},
   "outputs": [],
   "source": [
    "coding_df=pd.read_csv('/temp_project/ukbb/data/data_coding/coding_list.csv')"
   ]
  },
  {
   "cell_type": "code",
   "execution_count": 100,
   "metadata": {},
   "outputs": [],
   "source": [
    "coding_list=coding_df['DC'].astype(str).tolist()"
   ]
  },
  {
   "cell_type": "code",
   "execution_count": 109,
   "metadata": {},
   "outputs": [],
   "source": []
  },
  {
   "cell_type": "code",
   "execution_count": 111,
   "metadata": {},
   "outputs": [],
   "source": [
    "for dcode in coding_list:\n",
    "    preurl=r'http://biobank.ndph.ox.ac.uk/showcase/codown.cgi?id='\n",
    "    url=preurl+dcode\n",
    "    filename='/temp_project/ukbb/data/data_coding/coding'+str(dcode)+'.tsv'\n",
    "    wget.download(url,filename)\n",
    "    "
   ]
  },
  {
   "cell_type": "code",
   "execution_count": 113,
   "metadata": {},
   "outputs": [],
   "source": [
    "#coding_chk=pd.read_csv('/temp_project/ukbb/data/data_coding/coding2.tsv',sep='\\t')\n",
    "#coding_chk"
   ]
  },
  {
   "cell_type": "code",
   "execution_count": null,
   "metadata": {},
   "outputs": [],
   "source": []
  }
 ],
 "metadata": {
  "kernelspec": {
   "display_name": "Python 3",
   "language": "python",
   "name": "python3"
  },
  "language_info": {
   "codemirror_mode": {
    "name": "ipython",
    "version": 3
   },
   "file_extension": ".py",
   "mimetype": "text/x-python",
   "name": "python",
   "nbconvert_exporter": "python",
   "pygments_lexer": "ipython3",
   "version": "3.6.5"
  }
 },
 "nbformat": 4,
 "nbformat_minor": 2
}
