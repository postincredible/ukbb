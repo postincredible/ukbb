{
 "cells": [
  {
   "cell_type": "code",
   "execution_count": 1,
   "metadata": {},
   "outputs": [],
   "source": [
    "import os \n",
    "import pandas as pd\n",
    "import numpy as np"
   ]
  },
  {
   "cell_type": "code",
   "execution_count": 2,
   "metadata": {},
   "outputs": [],
   "source": [
    "\n",
    "\n",
    "def chk_unique_eid(df):\n",
    "    \"\"\"\n",
    "    Check unique eid number for a dataframe\n",
    "    \"\"\"\n",
    "    print('loaded df has unique eid count: '+ str(len(df.eid.unique())))\n",
    "\n",
    "    \n",
    "    \n",
    "\n",
    "def lst_ind(dfa_list,ind_val):\n",
    "    \"\"\"\n",
    "    return a list of icd code that match with 'ind_val'\n",
    "    \"\"\"\n",
    "    \n",
    "    pre0=[]\n",
    "    for i in dfa_list:\n",
    "        if pd.isnull(i):\n",
    "            pre0.append([])\n",
    "        elif pd.notnull(i):\n",
    "            si=[]\n",
    "            jl=i.split(',')\n",
    "            for ei in jl:\n",
    "                ef=ei.replace(',','')\n",
    "                efa,efb,efc=ef.partition(str(ind_val))\n",
    "                if efa=='':\n",
    "                    si.append(ef)\n",
    "            pre0.append(si)\n",
    "    return pre0\n",
    "\n",
    "def hes_gen_ind_raw(icd,hesin_dfin,key_code,evnt, detail=False):\n",
    "    \"\"\"\n",
    "    return a dataframe that contains indicator variable for a specific 'key_code' in HES data\n",
    "        use 'detail= True' to get the detail matched code info\n",
    "    \"\"\"\n",
    "\n",
    "    #dfc=load_data_by_fid(fid_int)\n",
    "    #df_icd9m=dfc.copy()\n",
    "    #dfa=hesin[['eid',str(icd)]].copy()\n",
    "    dfa=hesin_dfin[['eid','record_id',str(icd)]].copy()\n",
    "\n",
    "\n",
    "    \n",
    "    dfa_lst=dfa[dfa.columns[dfa.columns.get_loc(str(icd))]].values.tolist()\n",
    "    pre0=lst_ind(dfa_lst,str(key_code))\n",
    "\n",
    "    gen_hes_name='hes_'+str(icd)+'_'+str(evnt)+str(key_code)\n",
    "    gen_ind_name='ind_'+str(icd)+'_'+str(evnt)+str(key_code)\n",
    "\n",
    "    dfa[str(gen_hes_name)]=pre0\n",
    "    dfa[dfa.columns[dfa.columns.get_loc(str(gen_hes_name))]]=dfa[dfa.columns[dfa.columns.get_loc(str(gen_hes_name))]].apply(lambda y: np.nan if len(y)==0 else y )\n",
    "    \n",
    "    dfa[str(gen_ind_name)]=pre0\n",
    "    dfa[dfa.columns[dfa.columns.get_loc(str(gen_ind_name))]]=dfa[dfa.columns[dfa.columns.get_loc(str(gen_ind_name))]].apply(lambda y: 0 if len(y)==0 else 1 )\n",
    "    \n",
    "    print('\\nHES '+str(icd)+' ',str(evnt)+'('+str(key_code)+')'+' count: '+str(dfa[dfa.columns[dfa.columns.get_loc(str(gen_hes_name))]].count())+',\\nFreq_tab \\n'+str(dfa[dfa.columns[dfa.columns.get_loc(str(gen_ind_name))]].value_counts()))\n",
    "    dfb=dfa[['eid','record_id',str(gen_ind_name)]]   \n",
    "    \n",
    "    if detail==True:\n",
    "        return dfa\n",
    "    else:\n",
    "        return dfb\n",
    "\n",
    "\n",
    "\n",
    "\n",
    "def hes_gen_ind_list(icd_in, hesin_dfin, key_code_list, evt, detai=False):\n",
    "    \"\"\"\n",
    "    return a dataframe that contains indicator variables for each specific 'key_code' in 'key_code_list'\n",
    "        use 'detai= True' to get the detail matched codes info\n",
    "    \"\"\"\n",
    "    dfcl=[]\n",
    "    if detai==False:\n",
    "        for l in key_code_list:\n",
    "            df_l=hes_gen_ind_raw(icd_in,hesin_dfin, l, str(evt), detail=False)\n",
    "            dfcl.append(df_l)\n",
    "        dfcl_merge=pd.concat(dfcl,axis=1)\n",
    "        dfcl_merge=dfcl_merge.loc[:,~dfcl_merge.columns.duplicated()]  # drop duplicated 'eid' columns\n",
    "        return dfcl_merge\n",
    "\n",
    "    if detai==True:\n",
    "        for l in key_code_list:\n",
    "            df_l=hes_gen_ind_raw(icd_in,hesin_dfin, l, str(evt), detail=True)\n",
    "            dfcl.append(df_l)\n",
    "        dfcl_merge=pd.concat(dfcl,axis=1)\n",
    "        dfcl_merge=dfcl_merge.loc[:,~dfcl_merge.columns.duplicated()]  # drop duplicated 'eid' columns\n",
    "        return dfcl_merge\n"
   ]
  },
  {
   "cell_type": "code",
   "execution_count": null,
   "metadata": {},
   "outputs": [],
   "source": []
  },
  {
   "cell_type": "code",
   "execution_count": null,
   "metadata": {},
   "outputs": [],
   "source": []
  },
  {
   "cell_type": "code",
   "execution_count": null,
   "metadata": {},
   "outputs": [],
   "source": []
  },
  {
   "cell_type": "code",
   "execution_count": 3,
   "metadata": {},
   "outputs": [],
   "source": [
    "os.chdir(\"/oasis/scratch/comet/yhuan162/temp_project/HES\")\n",
    "\n",
    "#load ICD main diagnosis\n",
    "hesin=pd.read_csv('ukb_hesin.tsv',delimiter='\\t',encoding='utf-8')\n",
    "\n",
    "#load ICD secondary diagnosis\n",
    "hesin_icd9s=pd.read_csv('ukb_hesin_diag9_wide_vec.tsv',delimiter='\\t',encoding='utf-8')\n",
    "hesin_icd10s=pd.read_csv('ukb_hesin_diag10_wide_vec.tsv',delimiter='\\t',encoding='utf-8')"
   ]
  },
  {
   "cell_type": "code",
   "execution_count": 4,
   "metadata": {},
   "outputs": [
    {
     "data": {
      "text/plain": [
       "Index(['eid', 'record_id', 'diag_icd10_sec', 'diag_icd10_nb_sec'], dtype='object')"
      ]
     },
     "execution_count": 4,
     "metadata": {},
     "output_type": "execute_result"
    }
   ],
   "source": [
    "hesin_icd10s.columns"
   ]
  },
  {
   "cell_type": "code",
   "execution_count": null,
   "metadata": {},
   "outputs": [],
   "source": []
  },
  {
   "cell_type": "code",
   "execution_count": 5,
   "metadata": {},
   "outputs": [
    {
     "name": "stdout",
     "output_type": "stream",
     "text": [
      "CPU times: user 2 ms, sys: 0 ns, total: 2 ms\n",
      "Wall time: 393 µs\n",
      "hesin records count: 2577597\n",
      "hesin unique eid count: 395859\n"
     ]
    }
   ],
   "source": [
    "%time hesin.head()\n",
    "print('hesin records count: '+ str(hesin.eid.count()))\n",
    "print('hesin unique eid count: '+ str(len(hesin.eid.unique())))"
   ]
  },
  {
   "cell_type": "code",
   "execution_count": 6,
   "metadata": {},
   "outputs": [
    {
     "name": "stdout",
     "output_type": "stream",
     "text": [
      "CPU times: user 2 ms, sys: 0 ns, total: 2 ms\n",
      "Wall time: 346 µs\n",
      "hesin_icd9s records count: 14808\n",
      "hesin_icd9s unique eid count: 8716\n"
     ]
    }
   ],
   "source": [
    "%time hesin_icd9s.head()\n",
    "print('hesin_icd9s records count: '+ str(hesin_icd9s.eid.count()))\n",
    "print('hesin_icd9s unique eid count: '+ str(len(hesin_icd9s.eid.unique())))"
   ]
  },
  {
   "cell_type": "code",
   "execution_count": 7,
   "metadata": {},
   "outputs": [
    {
     "name": "stdout",
     "output_type": "stream",
     "text": [
      "CPU times: user 2 ms, sys: 0 ns, total: 2 ms\n",
      "Wall time: 287 µs\n",
      "hesin_icd10s records count: 1694827\n",
      "hesin_icd10s unique eid count: 320334\n"
     ]
    }
   ],
   "source": [
    "%time hesin_icd10s.head()\n",
    "print('hesin_icd10s records count: '+ str(hesin_icd10s.eid.count()))\n",
    "print('hesin_icd10s unique eid count: '+ str(len(hesin_icd10s.eid.unique())))"
   ]
  },
  {
   "cell_type": "code",
   "execution_count": 8,
   "metadata": {},
   "outputs": [],
   "source": [
    "#hesin.columns.tolist()\n",
    "#hesin_icd10s.columns=['eid','record_id','diag_icd10_sec','diag_icd10_nb_sec']\n",
    "#hesin_icd9s.columns=['eid','record_id','diag_icd9_sec','diag_icd9_nb_sec']"
   ]
  },
  {
   "cell_type": "code",
   "execution_count": 9,
   "metadata": {},
   "outputs": [],
   "source": [
    "### merge 9s / 10s to hesin\n",
    "hesin_add_sec9=pd.merge(hesin, hesin_icd9s, on=['eid','record_id'], how='outer')\n",
    "hesin_add_sec910=pd.merge(hesin_add_sec9, hesin_icd10s, on=['eid','record_id'], how='outer')\n",
    "hesin_add_sec910.to_csv('hesin_add_sec910.tsv', index=None, sep='\\t')"
   ]
  },
  {
   "cell_type": "code",
   "execution_count": 10,
   "metadata": {},
   "outputs": [
    {
     "data": {
      "text/html": [
       "<div>\n",
       "<style scoped>\n",
       "    .dataframe tbody tr th:only-of-type {\n",
       "        vertical-align: middle;\n",
       "    }\n",
       "\n",
       "    .dataframe tbody tr th {\n",
       "        vertical-align: top;\n",
       "    }\n",
       "\n",
       "    .dataframe thead th {\n",
       "        text-align: right;\n",
       "    }\n",
       "</style>\n",
       "<table border=\"1\" class=\"dataframe\">\n",
       "  <thead>\n",
       "    <tr style=\"text-align: right;\">\n",
       "      <th></th>\n",
       "      <th>eid</th>\n",
       "      <th>record_id</th>\n",
       "      <th>admidate</th>\n",
       "      <th>anagest</th>\n",
       "      <th>anasdate</th>\n",
       "      <th>cause_icd10</th>\n",
       "      <th>cause_icd10_nb</th>\n",
       "      <th>diag_icd10</th>\n",
       "      <th>diag_icd10_nb</th>\n",
       "      <th>diag_icd9</th>\n",
       "      <th>...</th>\n",
       "      <th>numbaby</th>\n",
       "      <th>numpreg</th>\n",
       "      <th>opdate</th>\n",
       "      <th>oper4</th>\n",
       "      <th>oper4_nb</th>\n",
       "      <th>operstat</th>\n",
       "      <th>diag_icd9_sec</th>\n",
       "      <th>diag_icd9_nb_sec</th>\n",
       "      <th>diag_icd10_sec</th>\n",
       "      <th>diag_icd10_nb_sec</th>\n",
       "    </tr>\n",
       "  </thead>\n",
       "  <tbody>\n",
       "    <tr>\n",
       "      <th>0</th>\n",
       "      <td>1772719</td>\n",
       "      <td>1071463</td>\n",
       "      <td>2003-05-15</td>\n",
       "      <td>NaN</td>\n",
       "      <td>NaN</td>\n",
       "      <td>NaN</td>\n",
       "      <td>NaN</td>\n",
       "      <td>R198</td>\n",
       "      <td>NaN</td>\n",
       "      <td>NaN</td>\n",
       "      <td>...</td>\n",
       "      <td>NaN</td>\n",
       "      <td>NaN</td>\n",
       "      <td>NaN</td>\n",
       "      <td>X998</td>\n",
       "      <td>NaN</td>\n",
       "      <td>NaN</td>\n",
       "      <td>NaN</td>\n",
       "      <td>NaN</td>\n",
       "      <td>Z530</td>\n",
       "      <td>NaN</td>\n",
       "    </tr>\n",
       "    <tr>\n",
       "      <th>1</th>\n",
       "      <td>1772719</td>\n",
       "      <td>1077874</td>\n",
       "      <td>2003-06-05</td>\n",
       "      <td>NaN</td>\n",
       "      <td>NaN</td>\n",
       "      <td>NaN</td>\n",
       "      <td>NaN</td>\n",
       "      <td>R104</td>\n",
       "      <td>NaN</td>\n",
       "      <td>NaN</td>\n",
       "      <td>...</td>\n",
       "      <td>NaN</td>\n",
       "      <td>NaN</td>\n",
       "      <td>2003-06-05</td>\n",
       "      <td>H251</td>\n",
       "      <td>NaN</td>\n",
       "      <td>NaN</td>\n",
       "      <td>NaN</td>\n",
       "      <td>NaN</td>\n",
       "      <td>K529</td>\n",
       "      <td>NaN</td>\n",
       "    </tr>\n",
       "    <tr>\n",
       "      <th>2</th>\n",
       "      <td>1772719</td>\n",
       "      <td>1127881</td>\n",
       "      <td>2000-05-01</td>\n",
       "      <td>NaN</td>\n",
       "      <td>NaN</td>\n",
       "      <td>NaN</td>\n",
       "      <td>NaN</td>\n",
       "      <td>M512</td>\n",
       "      <td>NaN</td>\n",
       "      <td>NaN</td>\n",
       "      <td>...</td>\n",
       "      <td>NaN</td>\n",
       "      <td>NaN</td>\n",
       "      <td>NaN</td>\n",
       "      <td>X998</td>\n",
       "      <td>NaN</td>\n",
       "      <td>NaN</td>\n",
       "      <td>NaN</td>\n",
       "      <td>NaN</td>\n",
       "      <td>NaN</td>\n",
       "      <td>NaN</td>\n",
       "    </tr>\n",
       "    <tr>\n",
       "      <th>3</th>\n",
       "      <td>1277767</td>\n",
       "      <td>3208109</td>\n",
       "      <td>NaN</td>\n",
       "      <td>NaN</td>\n",
       "      <td>NaN</td>\n",
       "      <td>NaN</td>\n",
       "      <td>NaN</td>\n",
       "      <td>M8414</td>\n",
       "      <td>NaN</td>\n",
       "      <td>NaN</td>\n",
       "      <td>...</td>\n",
       "      <td>NaN</td>\n",
       "      <td>NaN</td>\n",
       "      <td>2005-10-05</td>\n",
       "      <td>W201</td>\n",
       "      <td>NaN</td>\n",
       "      <td>NaN</td>\n",
       "      <td>NaN</td>\n",
       "      <td>NaN</td>\n",
       "      <td>NaN</td>\n",
       "      <td>NaN</td>\n",
       "    </tr>\n",
       "    <tr>\n",
       "      <th>4</th>\n",
       "      <td>1277767</td>\n",
       "      <td>4218015</td>\n",
       "      <td>NaN</td>\n",
       "      <td>NaN</td>\n",
       "      <td>NaN</td>\n",
       "      <td>NaN</td>\n",
       "      <td>NaN</td>\n",
       "      <td>M8414</td>\n",
       "      <td>NaN</td>\n",
       "      <td>NaN</td>\n",
       "      <td>...</td>\n",
       "      <td>NaN</td>\n",
       "      <td>NaN</td>\n",
       "      <td>2005-10-05</td>\n",
       "      <td>W201</td>\n",
       "      <td>NaN</td>\n",
       "      <td>NaN</td>\n",
       "      <td>NaN</td>\n",
       "      <td>NaN</td>\n",
       "      <td>NaN</td>\n",
       "      <td>NaN</td>\n",
       "    </tr>\n",
       "  </tbody>\n",
       "</table>\n",
       "<p>5 rows × 26 columns</p>\n",
       "</div>"
      ],
      "text/plain": [
       "       eid  record_id    admidate  anagest anasdate cause_icd10  \\\n",
       "0  1772719    1071463  2003-05-15      NaN      NaN         NaN   \n",
       "1  1772719    1077874  2003-06-05      NaN      NaN         NaN   \n",
       "2  1772719    1127881  2000-05-01      NaN      NaN         NaN   \n",
       "3  1277767    3208109         NaN      NaN      NaN         NaN   \n",
       "4  1277767    4218015         NaN      NaN      NaN         NaN   \n",
       "\n",
       "   cause_icd10_nb diag_icd10  diag_icd10_nb diag_icd9        ...         \\\n",
       "0             NaN       R198            NaN       NaN        ...          \n",
       "1             NaN       R104            NaN       NaN        ...          \n",
       "2             NaN       M512            NaN       NaN        ...          \n",
       "3             NaN      M8414            NaN       NaN        ...          \n",
       "4             NaN      M8414            NaN       NaN        ...          \n",
       "\n",
       "   numbaby numpreg      opdate oper4  oper4_nb  operstat diag_icd9_sec  \\\n",
       "0      NaN     NaN         NaN  X998       NaN       NaN           NaN   \n",
       "1      NaN     NaN  2003-06-05  H251       NaN       NaN           NaN   \n",
       "2      NaN     NaN         NaN  X998       NaN       NaN           NaN   \n",
       "3      NaN     NaN  2005-10-05  W201       NaN       NaN           NaN   \n",
       "4      NaN     NaN  2005-10-05  W201       NaN       NaN           NaN   \n",
       "\n",
       "   diag_icd9_nb_sec diag_icd10_sec diag_icd10_nb_sec  \n",
       "0               NaN           Z530               NaN  \n",
       "1               NaN           K529               NaN  \n",
       "2               NaN            NaN               NaN  \n",
       "3               NaN            NaN               NaN  \n",
       "4               NaN            NaN               NaN  \n",
       "\n",
       "[5 rows x 26 columns]"
      ]
     },
     "execution_count": 10,
     "metadata": {},
     "output_type": "execute_result"
    }
   ],
   "source": [
    "hesin_add_sec910.head()"
   ]
  },
  {
   "cell_type": "code",
   "execution_count": 11,
   "metadata": {},
   "outputs": [
    {
     "name": "stdout",
     "output_type": "stream",
     "text": [
      "main diag count: 2577597\n",
      "secondary icd 9 diag count: 14808\n",
      "secondary icd 10 diag count: 1694827\n"
     ]
    },
    {
     "data": {
      "text/plain": [
       "['eid',\n",
       " 'record_id',\n",
       " 'admidate',\n",
       " 'anagest',\n",
       " 'anasdate',\n",
       " 'cause_icd10',\n",
       " 'cause_icd10_nb',\n",
       " 'diag_icd10',\n",
       " 'diag_icd10_nb',\n",
       " 'diag_icd9',\n",
       " 'diag_icd9_nb',\n",
       " 'disdate',\n",
       " 'epiend',\n",
       " 'epistart',\n",
       " 'matage',\n",
       " 'neocare',\n",
       " 'numbaby',\n",
       " 'numpreg',\n",
       " 'opdate',\n",
       " 'oper4',\n",
       " 'oper4_nb',\n",
       " 'operstat',\n",
       " 'diag_icd9_sec',\n",
       " 'diag_icd9_nb_sec',\n",
       " 'diag_icd10_sec',\n",
       " 'diag_icd10_nb_sec']"
      ]
     },
     "execution_count": 11,
     "metadata": {},
     "output_type": "execute_result"
    }
   ],
   "source": [
    "\n",
    "print('main diag count: '+str(hesin.eid.count()))\n",
    "print('secondary icd 9 diag count: '+str(hesin_icd9s.eid.count()))\n",
    "print('secondary icd 10 diag count: '+str(hesin_icd10s.eid.count()))\n",
    "hesin_icd10s.head()\n",
    "hesin_icd9s.head()\n",
    "hesin_add_sec910.columns.tolist()"
   ]
  },
  {
   "cell_type": "code",
   "execution_count": 12,
   "metadata": {},
   "outputs": [
    {
     "data": {
      "text/plain": [
       "Index(['eid', 'record_id', 'admidate', 'anagest', 'anasdate', 'cause_icd10',\n",
       "       'cause_icd10_nb', 'diag_icd10', 'diag_icd10_nb', 'diag_icd9',\n",
       "       'diag_icd9_nb', 'disdate', 'epiend', 'epistart', 'matage', 'neocare',\n",
       "       'numbaby', 'numpreg', 'opdate', 'oper4', 'oper4_nb', 'operstat',\n",
       "       'diag_icd9_sec', 'diag_icd9_nb_sec', 'diag_icd10_sec',\n",
       "       'diag_icd10_nb_sec'],\n",
       "      dtype='object')"
      ]
     },
     "execution_count": 12,
     "metadata": {},
     "output_type": "execute_result"
    }
   ],
   "source": [
    "#hesin_allicd=hesin_add_sec910[['eid', 'record_id', 'admidate', 'anasdate', 'diag_icd10', 'diag_icd9',\n",
    "#                              'disdate', 'epiend', 'epistart', 'opdate', 'oper4', 'arr_index_icd9_sec',\n",
    "#                              'diag_icd9_sec', 'arr_index_icd10_sec', 'diag_icd10_sec']]\n",
    "hesin_allicd=hesin_add_sec910.copy()\n",
    "hesin_allicd.columns"
   ]
  },
  {
   "cell_type": "code",
   "execution_count": null,
   "metadata": {},
   "outputs": [],
   "source": []
  },
  {
   "cell_type": "code",
   "execution_count": 13,
   "metadata": {},
   "outputs": [
    {
     "name": "stdout",
     "output_type": "stream",
     "text": [
      "\n",
      "HES diag_icd10_sec  T1D(E10) count: 13969,\n",
      "Freq_tab \n",
      "0    2563628\n",
      "1      13969\n",
      "Name: ind_diag_icd10_sec_T1DE10, dtype: int64\n",
      "\n",
      "HES diag_icd9_sec  T1D(25001) count: 14,\n",
      "Freq_tab \n",
      "0    2577583\n",
      "1         14\n",
      "Name: ind_diag_icd9_sec_T1D25001, dtype: int64\n",
      "\n",
      "HES diag_icd9_sec  T1D(25011) count: 1,\n",
      "Freq_tab \n",
      "0    2577596\n",
      "1          1\n",
      "Name: ind_diag_icd9_sec_T1D25011, dtype: int64\n",
      "\n",
      "HES diag_icd9_sec  T1D(25021) count: 0,\n",
      "Freq_tab \n",
      "0    2577597\n",
      "Name: ind_diag_icd9_sec_T1D25021, dtype: int64\n",
      "\n",
      "HES diag_icd9_sec  T1D(25091) count: 0,\n",
      "Freq_tab \n",
      "0    2577597\n",
      "Name: ind_diag_icd9_sec_T1D25091, dtype: int64\n"
     ]
    }
   ],
   "source": [
    "hes_icd10s_T1D=hes_gen_ind_list(icd_in='diag_icd10_sec',hesin_dfin=hesin_allicd, evt='T1D',key_code_list=['E10'])\n",
    "hes_icd9s_T1D=hes_gen_ind_list(icd_in='diag_icd9_sec',hesin_dfin=hesin_allicd, evt='T1D',key_code_list=['25001','25011','25021','25091'])\n"
   ]
  },
  {
   "cell_type": "code",
   "execution_count": 14,
   "metadata": {},
   "outputs": [
    {
     "name": "stdout",
     "output_type": "stream",
     "text": [
      "\n",
      "HES diag_icd10  T1D(E10) count: 2701,\n",
      "Freq_tab \n",
      "0    2574896\n",
      "1       2701\n",
      "Name: ind_diag_icd10_T1DE10, dtype: int64\n",
      "\n",
      "HES diag_icd9  T1D(25001) count: 19,\n",
      "Freq_tab \n",
      "0    2577578\n",
      "1         19\n",
      "Name: ind_diag_icd9_T1D25001, dtype: int64\n",
      "\n",
      "HES diag_icd9  T1D(25011) count: 2,\n",
      "Freq_tab \n",
      "0    2577595\n",
      "1          2\n",
      "Name: ind_diag_icd9_T1D25011, dtype: int64\n",
      "\n",
      "HES diag_icd9  T1D(25021) count: 0,\n",
      "Freq_tab \n",
      "0    2577597\n",
      "Name: ind_diag_icd9_T1D25021, dtype: int64\n",
      "\n",
      "HES diag_icd9  T1D(25091) count: 0,\n",
      "Freq_tab \n",
      "0    2577597\n",
      "Name: ind_diag_icd9_T1D25091, dtype: int64\n",
      "\n",
      "HES diag_icd10  T2D(E11) count: 3124,\n",
      "Freq_tab \n",
      "0    2574473\n",
      "1       3124\n",
      "Name: ind_diag_icd10_T2DE11, dtype: int64\n",
      "\n",
      "HES diag_icd9  T2D(25000) count: 39,\n",
      "Freq_tab \n",
      "0    2577558\n",
      "1         39\n",
      "Name: ind_diag_icd9_T2D25000, dtype: int64\n",
      "\n",
      "HES diag_icd9  T2D(25020) count: 0,\n",
      "Freq_tab \n",
      "0    2577597\n",
      "Name: ind_diag_icd9_T2D25020, dtype: int64\n",
      "\n",
      "HES diag_icd9  T2D(25090) count: 0,\n",
      "Freq_tab \n",
      "0    2577597\n",
      "Name: ind_diag_icd9_T2D25090, dtype: int64\n",
      "\n",
      "HES diag_icd10  T2Dex(E111) count: 224,\n",
      "Freq_tab \n",
      "0    2577373\n",
      "1        224\n",
      "Name: ind_diag_icd10_T2DexE111, dtype: int64\n",
      "\n",
      "HES diag_icd10  T2Dex(E116) count: 53,\n",
      "Freq_tab \n",
      "0    2577544\n",
      "1         53\n",
      "Name: ind_diag_icd10_T2DexE116, dtype: int64\n",
      "\n",
      "HES diag_icd10  T2Dex(E131) count: 11,\n",
      "Freq_tab \n",
      "0    2577586\n",
      "1         11\n",
      "Name: ind_diag_icd10_T2DexE131, dtype: int64\n",
      "\n",
      "HES diag_icd9  T2Dex(25010) count: 2,\n",
      "Freq_tab \n",
      "0    2577595\n",
      "1          2\n",
      "Name: ind_diag_icd9_T2Dex25010, dtype: int64\n",
      "CPU times: user 1min 57s, sys: 6.05 s, total: 2min 3s\n",
      "Wall time: 1min 27s\n"
     ]
    }
   ],
   "source": [
    "%%time\n",
    "hes_icd10m_T1D=hes_gen_ind_list(icd_in='diag_icd10',hesin_dfin=hesin_allicd, evt='T1D',key_code_list=['E10'])\n",
    "hes_icd9m_T1D=hes_gen_ind_list(icd_in='diag_icd9',hesin_dfin=hesin_allicd, evt='T1D',key_code_list=['25001','25011','25021','25091'])\n",
    "\n",
    "hes_icd10m_T2D=hes_gen_ind_list(icd_in='diag_icd10',hesin_dfin=hesin_allicd, evt='T2D',key_code_list=['E11'])\n",
    "hes_icd9m_T2D=hes_gen_ind_list(icd_in='diag_icd9',hesin_dfin=hesin_allicd, evt='T2D',key_code_list=['25000','25020','25090'])\n",
    "\n",
    "hes_icd10m_T2Dex=hes_gen_ind_list(icd_in='diag_icd10',hesin_dfin=hesin_allicd, evt='T2Dex',key_code_list=['E111','E116','E131'])\n",
    "hes_icd9m_T2Dex=hes_gen_ind_list(icd_in='diag_icd9',hesin_dfin=hesin_allicd, evt='T2Dex',key_code_list=['25010'])"
   ]
  },
  {
   "cell_type": "code",
   "execution_count": 15,
   "metadata": {},
   "outputs": [
    {
     "name": "stdout",
     "output_type": "stream",
     "text": [
      "\n",
      "HES diag_icd10_sec  T1D(E10) count: 13969,\n",
      "Freq_tab \n",
      "0    2563628\n",
      "1      13969\n",
      "Name: ind_diag_icd10_sec_T1DE10, dtype: int64\n",
      "\n",
      "HES diag_icd9_sec  T1D(25001) count: 14,\n",
      "Freq_tab \n",
      "0    2577583\n",
      "1         14\n",
      "Name: ind_diag_icd9_sec_T1D25001, dtype: int64\n",
      "\n",
      "HES diag_icd9_sec  T1D(25011) count: 1,\n",
      "Freq_tab \n",
      "0    2577596\n",
      "1          1\n",
      "Name: ind_diag_icd9_sec_T1D25011, dtype: int64\n",
      "\n",
      "HES diag_icd9_sec  T1D(25021) count: 0,\n",
      "Freq_tab \n",
      "0    2577597\n",
      "Name: ind_diag_icd9_sec_T1D25021, dtype: int64\n",
      "\n",
      "HES diag_icd9_sec  T1D(25091) count: 0,\n",
      "Freq_tab \n",
      "0    2577597\n",
      "Name: ind_diag_icd9_sec_T1D25091, dtype: int64\n",
      "\n",
      "HES diag_icd10_sec  T2D(E11) count: 116784,\n",
      "Freq_tab \n",
      "0    2460813\n",
      "1     116784\n",
      "Name: ind_diag_icd10_sec_T2DE11, dtype: int64\n",
      "\n",
      "HES diag_icd9_sec  T2D(25000) count: 31,\n",
      "Freq_tab \n",
      "0    2577566\n",
      "1         31\n",
      "Name: ind_diag_icd9_sec_T2D25000, dtype: int64\n",
      "\n",
      "HES diag_icd9_sec  T2D(25020) count: 0,\n",
      "Freq_tab \n",
      "0    2577597\n",
      "Name: ind_diag_icd9_sec_T2D25020, dtype: int64\n",
      "\n",
      "HES diag_icd9_sec  T2D(25090) count: 0,\n",
      "Freq_tab \n",
      "0    2577597\n",
      "Name: ind_diag_icd9_sec_T2D25090, dtype: int64\n",
      "\n",
      "HES diag_icd10_sec  T2Dex(E111) count: 129,\n",
      "Freq_tab \n",
      "0    2577468\n",
      "1        129\n",
      "Name: ind_diag_icd10_sec_T2DexE111, dtype: int64\n",
      "\n",
      "HES diag_icd10_sec  T2Dex(E116) count: 216,\n",
      "Freq_tab \n",
      "0    2577381\n",
      "1        216\n",
      "Name: ind_diag_icd10_sec_T2DexE116, dtype: int64\n",
      "\n",
      "HES diag_icd10_sec  T2Dex(E131) count: 2,\n",
      "Freq_tab \n",
      "0    2577595\n",
      "1          2\n",
      "Name: ind_diag_icd10_sec_T2DexE131, dtype: int64\n",
      "\n",
      "HES diag_icd9_sec  T2Dex(25010) count: 0,\n",
      "Freq_tab \n",
      "0    2577597\n",
      "Name: ind_diag_icd9_sec_T2Dex25010, dtype: int64\n",
      "CPU times: user 2min 6s, sys: 6.25 s, total: 2min 12s\n",
      "Wall time: 1min 35s\n"
     ]
    }
   ],
   "source": [
    "%%time\n",
    "hes_icd10s_T1D=hes_gen_ind_list(icd_in='diag_icd10_sec',hesin_dfin=hesin_allicd, evt='T1D',key_code_list=['E10'])\n",
    "hes_icd9s_T1D=hes_gen_ind_list(icd_in='diag_icd9_sec',hesin_dfin=hesin_allicd, evt='T1D',key_code_list=['25001','25011','25021','25091'])\n",
    "\n",
    "hes_icd10s_T2D=hes_gen_ind_list(icd_in='diag_icd10_sec',hesin_dfin=hesin_allicd, evt='T2D',key_code_list=['E11'])\n",
    "hes_icd9s_T2D=hes_gen_ind_list(icd_in='diag_icd9_sec',hesin_dfin=hesin_allicd, evt='T2D',key_code_list=['25000','25020','25090'])\n",
    "\n",
    "hes_icd10s_T2Dex=hes_gen_ind_list(icd_in='diag_icd10_sec',hesin_dfin=hesin_allicd, evt='T2Dex',key_code_list=['E111','E116','E131'])\n",
    "hes_icd9s_T2Dex=hes_gen_ind_list(icd_in='diag_icd9_sec',hesin_dfin=hesin_allicd, evt='T2Dex',key_code_list=['25010'])"
   ]
  },
  {
   "cell_type": "code",
   "execution_count": 16,
   "metadata": {},
   "outputs": [],
   "source": [
    "df_icd_T1D_list=[hes_icd10m_T1D, hes_icd10s_T1D, hes_icd9m_T1D, hes_icd9s_T1D]\n",
    "df_icd_T2D_list=[hes_icd10m_T2D, hes_icd10s_T2D, hes_icd9m_T2D, hes_icd9s_T2D]\n",
    "df_icd_T2Dex_list=[hes_icd10m_T2Dex, hes_icd10s_T2Dex, hes_icd9m_T2Dex, hes_icd9s_T2Dex]"
   ]
  },
  {
   "cell_type": "code",
   "execution_count": 17,
   "metadata": {},
   "outputs": [],
   "source": [
    "icd_T1D_ind_pre=pd.concat(df_icd_T1D_list,axis=1)\n",
    "icd_T1D_ind_pre=icd_T1D_ind_pre.loc[:,~icd_T1D_ind_pre.columns.duplicated()] \n",
    "icd_T1D_ind=icd_T1D_ind_pre[['eid','record_id']].copy()\n",
    "icd_T1D_ind['icd_T1D_ind']=icd_T1D_ind_pre.drop(['eid','record_id'],axis=1).sum(axis=1)\n",
    "icd_T1D_ind.icd_T1D_ind=icd_T1D_ind.icd_T1D_ind.apply(lambda y: 1 if y>0 else y)\n",
    "\n",
    "icd_T2D_ind_pre=pd.concat(df_icd_T2D_list,axis=1)\n",
    "icd_T2D_ind_pre=icd_T2D_ind_pre.loc[:,~icd_T2D_ind_pre.columns.duplicated()] \n",
    "icd_T2D_ind=icd_T2D_ind_pre[['eid','record_id']].copy()\n",
    "icd_T2D_ind['icd_T2D_ind']=icd_T2D_ind_pre.drop(['eid','record_id'],axis=1).sum(axis=1)\n",
    "icd_T2D_ind.icd_T2D_ind=icd_T2D_ind.icd_T2D_ind.apply(lambda y: 1 if y>0 else y)\n",
    "\n",
    "icd_T2Dex_ind_pre=pd.concat(df_icd_T2Dex_list,axis=1)\n",
    "icd_T2Dex_ind_pre=icd_T2Dex_ind_pre.loc[:,~icd_T2Dex_ind_pre.columns.duplicated()] \n",
    "icd_T2Dex_ind=icd_T2Dex_ind_pre[['eid','record_id']].copy()\n",
    "icd_T2Dex_ind['icd_T2Dex_ind']=icd_T2Dex_ind_pre.drop(['eid','record_id'],axis=1).sum(axis=1)\n",
    "icd_T2Dex_ind.icd_T2Dex_ind=icd_T2Dex_ind.icd_T2Dex_ind.apply(lambda y: 1 if y>0 else y)"
   ]
  },
  {
   "cell_type": "code",
   "execution_count": 18,
   "metadata": {},
   "outputs": [
    {
     "name": "stdout",
     "output_type": "stream",
     "text": [
      "T1D freq:\n",
      "0    2561163\n",
      "1      16434\n",
      "Name: icd_T1D_ind, dtype: int64\n",
      "\n",
      "T2D freq:\n",
      "0    2457898\n",
      "1     119699\n",
      "Name: icd_T2D_ind, dtype: int64\n",
      "\n",
      "T2Dex freq:\n",
      "0    2576961\n",
      "1        636\n",
      "Name: icd_T2Dex_ind, dtype: int64\n"
     ]
    }
   ],
   "source": [
    "print('T1D freq:')\n",
    "print(icd_T1D_ind.icd_T1D_ind.value_counts())\n",
    "print('\\nT2D freq:')\n",
    "print(icd_T2D_ind.icd_T2D_ind.value_counts())\n",
    "print('\\nT2Dex freq:')\n",
    "print(icd_T2Dex_ind.icd_T2Dex_ind.value_counts())"
   ]
  },
  {
   "cell_type": "code",
   "execution_count": 19,
   "metadata": {},
   "outputs": [],
   "source": [
    "icd_ind_list=[icd_T1D_ind,icd_T2D_ind,icd_T2Dex_ind]\n",
    "icd_ind=pd.concat(icd_ind_list,axis=1)\n",
    "icd_ind=icd_ind.loc[:,~icd_ind.columns.duplicated()] "
   ]
  },
  {
   "cell_type": "code",
   "execution_count": 20,
   "metadata": {},
   "outputs": [],
   "source": [
    "len(icd_ind.eid.unique())\n",
    "cond1=icd_ind.icd_T1D_ind==1\n",
    "cond2=icd_ind.icd_T2D_ind==1\n",
    "cond3=icd_ind.icd_T2Dex_ind==1"
   ]
  },
  {
   "cell_type": "code",
   "execution_count": 21,
   "metadata": {},
   "outputs": [],
   "source": [
    "T2D_rec=icd_ind[~cond1 & cond2 & ~cond3]"
   ]
  },
  {
   "cell_type": "code",
   "execution_count": 22,
   "metadata": {},
   "outputs": [
    {
     "data": {
      "text/plain": [
       "24121"
      ]
     },
     "execution_count": 22,
     "metadata": {},
     "output_type": "execute_result"
    }
   ],
   "source": [
    "len(T2D_rec.eid.unique())"
   ]
  },
  {
   "cell_type": "code",
   "execution_count": 24,
   "metadata": {},
   "outputs": [
    {
     "data": {
      "text/html": [
       "<div>\n",
       "<style scoped>\n",
       "    .dataframe tbody tr th:only-of-type {\n",
       "        vertical-align: middle;\n",
       "    }\n",
       "\n",
       "    .dataframe tbody tr th {\n",
       "        vertical-align: top;\n",
       "    }\n",
       "\n",
       "    .dataframe thead th {\n",
       "        text-align: right;\n",
       "    }\n",
       "</style>\n",
       "<table border=\"1\" class=\"dataframe\">\n",
       "  <thead>\n",
       "    <tr style=\"text-align: right;\">\n",
       "      <th></th>\n",
       "      <th>eid</th>\n",
       "      <th>record_id</th>\n",
       "      <th>icd_T1D_ind</th>\n",
       "      <th>icd_T2D_ind</th>\n",
       "      <th>icd_T2Dex_ind</th>\n",
       "    </tr>\n",
       "  </thead>\n",
       "  <tbody>\n",
       "    <tr>\n",
       "      <th>0</th>\n",
       "      <td>1772719</td>\n",
       "      <td>1071463</td>\n",
       "      <td>0</td>\n",
       "      <td>0</td>\n",
       "      <td>0</td>\n",
       "    </tr>\n",
       "    <tr>\n",
       "      <th>1</th>\n",
       "      <td>1772719</td>\n",
       "      <td>1077874</td>\n",
       "      <td>0</td>\n",
       "      <td>0</td>\n",
       "      <td>0</td>\n",
       "    </tr>\n",
       "    <tr>\n",
       "      <th>2</th>\n",
       "      <td>1772719</td>\n",
       "      <td>1127881</td>\n",
       "      <td>0</td>\n",
       "      <td>0</td>\n",
       "      <td>0</td>\n",
       "    </tr>\n",
       "    <tr>\n",
       "      <th>3</th>\n",
       "      <td>1277767</td>\n",
       "      <td>3208109</td>\n",
       "      <td>0</td>\n",
       "      <td>0</td>\n",
       "      <td>0</td>\n",
       "    </tr>\n",
       "    <tr>\n",
       "      <th>4</th>\n",
       "      <td>1277767</td>\n",
       "      <td>4218015</td>\n",
       "      <td>0</td>\n",
       "      <td>0</td>\n",
       "      <td>0</td>\n",
       "    </tr>\n",
       "  </tbody>\n",
       "</table>\n",
       "</div>"
      ],
      "text/plain": [
       "       eid  record_id  icd_T1D_ind  icd_T2D_ind  icd_T2Dex_ind\n",
       "0  1772719    1071463            0            0              0\n",
       "1  1772719    1077874            0            0              0\n",
       "2  1772719    1127881            0            0              0\n",
       "3  1277767    3208109            0            0              0\n",
       "4  1277767    4218015            0            0              0"
      ]
     },
     "execution_count": 24,
     "metadata": {},
     "output_type": "execute_result"
    }
   ],
   "source": [
    "#list(T2D_rec.eid.unique())\n",
    "icd_ind.head()"
   ]
  },
  {
   "cell_type": "code",
   "execution_count": 25,
   "metadata": {},
   "outputs": [
    {
     "name": "stdout",
     "output_type": "stream",
     "text": [
      "CPU times: user 6min 44s, sys: 3.32 s, total: 6min 47s\n",
      "Wall time: 6min 44s\n"
     ]
    }
   ],
   "source": [
    "%%time\n",
    "icd_ind['vec_icd_3ind']=icd_ind[icd_ind.columns[icd_ind.columns.get_loc('icd_T1D_ind'):]].apply(lambda x: ','.join(x.dropna().astype(str)),axis=1)\n"
   ]
  },
  {
   "cell_type": "code",
   "execution_count": 26,
   "metadata": {},
   "outputs": [
    {
     "data": {
      "text/html": [
       "<div>\n",
       "<style scoped>\n",
       "    .dataframe tbody tr th:only-of-type {\n",
       "        vertical-align: middle;\n",
       "    }\n",
       "\n",
       "    .dataframe tbody tr th {\n",
       "        vertical-align: top;\n",
       "    }\n",
       "\n",
       "    .dataframe thead th {\n",
       "        text-align: right;\n",
       "    }\n",
       "</style>\n",
       "<table border=\"1\" class=\"dataframe\">\n",
       "  <thead>\n",
       "    <tr style=\"text-align: right;\">\n",
       "      <th></th>\n",
       "      <th>eid</th>\n",
       "      <th>record_id</th>\n",
       "      <th>icd_T1D_ind</th>\n",
       "      <th>icd_T2D_ind</th>\n",
       "      <th>icd_T2Dex_ind</th>\n",
       "      <th>vec_icd_3ind</th>\n",
       "    </tr>\n",
       "  </thead>\n",
       "  <tbody>\n",
       "    <tr>\n",
       "      <th>0</th>\n",
       "      <td>1772719</td>\n",
       "      <td>1071463</td>\n",
       "      <td>0</td>\n",
       "      <td>0</td>\n",
       "      <td>0</td>\n",
       "      <td>0,0,0</td>\n",
       "    </tr>\n",
       "    <tr>\n",
       "      <th>1</th>\n",
       "      <td>1772719</td>\n",
       "      <td>1077874</td>\n",
       "      <td>0</td>\n",
       "      <td>0</td>\n",
       "      <td>0</td>\n",
       "      <td>0,0,0</td>\n",
       "    </tr>\n",
       "    <tr>\n",
       "      <th>2</th>\n",
       "      <td>1772719</td>\n",
       "      <td>1127881</td>\n",
       "      <td>0</td>\n",
       "      <td>0</td>\n",
       "      <td>0</td>\n",
       "      <td>0,0,0</td>\n",
       "    </tr>\n",
       "    <tr>\n",
       "      <th>3</th>\n",
       "      <td>1277767</td>\n",
       "      <td>3208109</td>\n",
       "      <td>0</td>\n",
       "      <td>0</td>\n",
       "      <td>0</td>\n",
       "      <td>0,0,0</td>\n",
       "    </tr>\n",
       "    <tr>\n",
       "      <th>4</th>\n",
       "      <td>1277767</td>\n",
       "      <td>4218015</td>\n",
       "      <td>0</td>\n",
       "      <td>0</td>\n",
       "      <td>0</td>\n",
       "      <td>0,0,0</td>\n",
       "    </tr>\n",
       "  </tbody>\n",
       "</table>\n",
       "</div>"
      ],
      "text/plain": [
       "       eid  record_id  icd_T1D_ind  icd_T2D_ind  icd_T2Dex_ind vec_icd_3ind\n",
       "0  1772719    1071463            0            0              0        0,0,0\n",
       "1  1772719    1077874            0            0              0        0,0,0\n",
       "2  1772719    1127881            0            0              0        0,0,0\n",
       "3  1277767    3208109            0            0              0        0,0,0\n",
       "4  1277767    4218015            0            0              0        0,0,0"
      ]
     },
     "execution_count": 26,
     "metadata": {},
     "output_type": "execute_result"
    }
   ],
   "source": [
    "icd_ind.head()"
   ]
  },
  {
   "cell_type": "code",
   "execution_count": 27,
   "metadata": {},
   "outputs": [
    {
     "data": {
      "text/plain": [
       "0    2458580\n",
       "1     119017\n",
       "Name: HES_T2D_ind, dtype: int64"
      ]
     },
     "execution_count": 27,
     "metadata": {},
     "output_type": "execute_result"
    }
   ],
   "source": [
    "icd_ind['HES_T2D_ind']=icd_ind.vec_icd_3ind.apply(lambda y: 1 if y=='0,1,0' else 0)\n",
    "icd_ind.HES_T2D_ind.value_counts()"
   ]
  },
  {
   "cell_type": "code",
   "execution_count": 30,
   "metadata": {},
   "outputs": [
    {
     "data": {
      "text/html": [
       "<div>\n",
       "<style scoped>\n",
       "    .dataframe tbody tr th:only-of-type {\n",
       "        vertical-align: middle;\n",
       "    }\n",
       "\n",
       "    .dataframe tbody tr th {\n",
       "        vertical-align: top;\n",
       "    }\n",
       "\n",
       "    .dataframe thead th {\n",
       "        text-align: right;\n",
       "    }\n",
       "</style>\n",
       "<table border=\"1\" class=\"dataframe\">\n",
       "  <thead>\n",
       "    <tr style=\"text-align: right;\">\n",
       "      <th></th>\n",
       "      <th>eid</th>\n",
       "      <th>record_id</th>\n",
       "      <th>icd_T1D_ind</th>\n",
       "      <th>icd_T2D_ind</th>\n",
       "      <th>icd_T2Dex_ind</th>\n",
       "      <th>vec_icd_3ind</th>\n",
       "      <th>HES_T2D_ind</th>\n",
       "    </tr>\n",
       "  </thead>\n",
       "  <tbody>\n",
       "    <tr>\n",
       "      <th>0</th>\n",
       "      <td>1772719</td>\n",
       "      <td>1071463</td>\n",
       "      <td>0</td>\n",
       "      <td>0</td>\n",
       "      <td>0</td>\n",
       "      <td>0,0,0</td>\n",
       "      <td>0</td>\n",
       "    </tr>\n",
       "    <tr>\n",
       "      <th>1</th>\n",
       "      <td>1772719</td>\n",
       "      <td>1077874</td>\n",
       "      <td>0</td>\n",
       "      <td>0</td>\n",
       "      <td>0</td>\n",
       "      <td>0,0,0</td>\n",
       "      <td>0</td>\n",
       "    </tr>\n",
       "    <tr>\n",
       "      <th>2</th>\n",
       "      <td>1772719</td>\n",
       "      <td>1127881</td>\n",
       "      <td>0</td>\n",
       "      <td>0</td>\n",
       "      <td>0</td>\n",
       "      <td>0,0,0</td>\n",
       "      <td>0</td>\n",
       "    </tr>\n",
       "    <tr>\n",
       "      <th>3</th>\n",
       "      <td>1277767</td>\n",
       "      <td>3208109</td>\n",
       "      <td>0</td>\n",
       "      <td>0</td>\n",
       "      <td>0</td>\n",
       "      <td>0,0,0</td>\n",
       "      <td>0</td>\n",
       "    </tr>\n",
       "    <tr>\n",
       "      <th>4</th>\n",
       "      <td>1277767</td>\n",
       "      <td>4218015</td>\n",
       "      <td>0</td>\n",
       "      <td>0</td>\n",
       "      <td>0</td>\n",
       "      <td>0,0,0</td>\n",
       "      <td>0</td>\n",
       "    </tr>\n",
       "  </tbody>\n",
       "</table>\n",
       "</div>"
      ],
      "text/plain": [
       "       eid  record_id  icd_T1D_ind  icd_T2D_ind  icd_T2Dex_ind vec_icd_3ind  \\\n",
       "0  1772719    1071463            0            0              0        0,0,0   \n",
       "1  1772719    1077874            0            0              0        0,0,0   \n",
       "2  1772719    1127881            0            0              0        0,0,0   \n",
       "3  1277767    3208109            0            0              0        0,0,0   \n",
       "4  1277767    4218015            0            0              0        0,0,0   \n",
       "\n",
       "   HES_T2D_ind  \n",
       "0            0  \n",
       "1            0  \n",
       "2            0  \n",
       "3            0  \n",
       "4            0  "
      ]
     },
     "execution_count": 30,
     "metadata": {},
     "output_type": "execute_result"
    }
   ],
   "source": [
    "icd_ind.head()"
   ]
  },
  {
   "cell_type": "code",
   "execution_count": 32,
   "metadata": {},
   "outputs": [
    {
     "data": {
      "text/plain": [
       "24121"
      ]
     },
     "execution_count": 32,
     "metadata": {},
     "output_type": "execute_result"
    }
   ],
   "source": [
    "len(icd_ind[icd_ind.HES_T2D_ind==1].eid.unique())"
   ]
  },
  {
   "cell_type": "code",
   "execution_count": 84,
   "metadata": {},
   "outputs": [],
   "source": [
    "HES_T2D_case = icd_ind[icd_ind.HES_T2D_ind==1]\n",
    "HES_T2D_case.to_csv('/temp_project/HES/outcomes/T2D/HES_T2D_case.tsv', index=False, sep='\\t')"
   ]
  },
  {
   "cell_type": "code",
   "execution_count": 37,
   "metadata": {},
   "outputs": [],
   "source": [
    "icd_ind.to_csv('/temp_project/HES/outcomes/T2D/HES_T2D_ind.tsv', index=False, sep='\\t')"
   ]
  },
  {
   "cell_type": "code",
   "execution_count": 38,
   "metadata": {},
   "outputs": [
    {
     "data": {
      "text/plain": [
       "['eid',\n",
       " 'record_id',\n",
       " 'icd_T1D_ind',\n",
       " 'icd_T2D_ind',\n",
       " 'icd_T2Dex_ind',\n",
       " 'vec_icd_3ind',\n",
       " 'HES_T2D_ind']"
      ]
     },
     "execution_count": 38,
     "metadata": {},
     "output_type": "execute_result"
    }
   ],
   "source": [
    "icd_ind=pd.read_csv('/temp_project/HES/outcomes/T2D/HES_T2D_ind.tsv', sep='\\t')\n",
    "icd_ind.columns.tolist()"
   ]
  },
  {
   "cell_type": "code",
   "execution_count": 40,
   "metadata": {},
   "outputs": [],
   "source": [
    "T2D_ind=icd_ind[['eid','record_id','HES_T2D_ind']]"
   ]
  },
  {
   "cell_type": "code",
   "execution_count": 41,
   "metadata": {},
   "outputs": [],
   "source": [
    "hesin_T2D=pd.merge(hesin, T2D_ind, on=['eid','record_id'], how='outer')\n",
    "hesin_T2D.to_csv('/temp_project/HES/outcomes/T2D/hesin_T2D.tsv', index=None, sep='\\t')"
   ]
  },
  {
   "cell_type": "code",
   "execution_count": 42,
   "metadata": {},
   "outputs": [
    {
     "data": {
      "text/plain": [
       "0    2458580\n",
       "1     119017\n",
       "Name: HES_T2D_ind, dtype: int64"
      ]
     },
     "execution_count": 42,
     "metadata": {},
     "output_type": "execute_result"
    }
   ],
   "source": [
    "hesin_T2D.HES_T2D_ind.value_counts()"
   ]
  },
  {
   "cell_type": "code",
   "execution_count": 43,
   "metadata": {},
   "outputs": [
    {
     "name": "stdout",
     "output_type": "stream",
     "text": [
      "record count: 2577597\n",
      "any_date count: 2577595\n"
     ]
    }
   ],
   "source": [
    "### Get date var from HES\n",
    "\n",
    "\n",
    "hesin_date=hesin[['eid','record_id','admidate','anasdate','disdate','epiend','epistart','opdate']].copy()\n",
    "hesin_date['admidate'] = pd.to_datetime(hesin_date['admidate'])\n",
    "hesin_date['anasdate'] = pd.to_datetime(hesin_date['anasdate'])\n",
    "hesin_date['disdate'] = pd.to_datetime(hesin_date['disdate'])\n",
    "hesin_date['epiend'] = pd.to_datetime(hesin_date['epiend'])\n",
    "hesin_date['epistart'] = pd.to_datetime(hesin_date['epistart'])\n",
    "hesin_date['opdate'] = pd.to_datetime(hesin_date['opdate'])\n",
    "\n",
    "hesin_date['any_date']=hesin_date.drop(['eid','record_id'],axis=1).min(axis=1)\n",
    "hesin_date['any_yr']=hesin_date['any_date'].dt.year\n",
    "print('record count: '+str(hesin_date.eid.count()))\n",
    "print('any_date count: '+str(hesin_date.any_date.count()))\n",
    "\n",
    "hesin_date.to_csv('hesin_date.tsv', sep='\\t', index=None)\n",
    "\n",
    "\n",
    "\n",
    "\n",
    "### load date from ukbb\n",
    "ukbb_date = pd.read_csv('/temp_project/ukbb/data/dfoi/ukbb_date.csv')\n",
    "ukbb_date['att_date'] = pd.to_datetime(ukbb_date['att_date'])\n",
    "\n",
    "\n",
    "hesin_ukbb_date = pd.merge(hesin_date, ukbb_date, on='eid', how='left')"
   ]
  },
  {
   "cell_type": "code",
   "execution_count": null,
   "metadata": {},
   "outputs": [],
   "source": []
  },
  {
   "cell_type": "code",
   "execution_count": 44,
   "metadata": {},
   "outputs": [
    {
     "data": {
      "text/html": [
       "<div>\n",
       "<style scoped>\n",
       "    .dataframe tbody tr th:only-of-type {\n",
       "        vertical-align: middle;\n",
       "    }\n",
       "\n",
       "    .dataframe tbody tr th {\n",
       "        vertical-align: top;\n",
       "    }\n",
       "\n",
       "    .dataframe thead th {\n",
       "        text-align: right;\n",
       "    }\n",
       "</style>\n",
       "<table border=\"1\" class=\"dataframe\">\n",
       "  <thead>\n",
       "    <tr style=\"text-align: right;\">\n",
       "      <th></th>\n",
       "      <th>eid</th>\n",
       "      <th>att_date</th>\n",
       "      <th>att_yr</th>\n",
       "    </tr>\n",
       "  </thead>\n",
       "  <tbody>\n",
       "    <tr>\n",
       "      <th>0</th>\n",
       "      <td>1000011</td>\n",
       "      <td>2008-01-07</td>\n",
       "      <td>2008</td>\n",
       "    </tr>\n",
       "    <tr>\n",
       "      <th>1</th>\n",
       "      <td>1000026</td>\n",
       "      <td>2009-03-04</td>\n",
       "      <td>2009</td>\n",
       "    </tr>\n",
       "    <tr>\n",
       "      <th>2</th>\n",
       "      <td>1000032</td>\n",
       "      <td>2008-04-11</td>\n",
       "      <td>2008</td>\n",
       "    </tr>\n",
       "    <tr>\n",
       "      <th>3</th>\n",
       "      <td>1000044</td>\n",
       "      <td>2009-01-14</td>\n",
       "      <td>2009</td>\n",
       "    </tr>\n",
       "    <tr>\n",
       "      <th>4</th>\n",
       "      <td>1000058</td>\n",
       "      <td>2009-02-25</td>\n",
       "      <td>2009</td>\n",
       "    </tr>\n",
       "  </tbody>\n",
       "</table>\n",
       "</div>"
      ],
      "text/plain": [
       "       eid   att_date  att_yr\n",
       "0  1000011 2008-01-07    2008\n",
       "1  1000026 2009-03-04    2009\n",
       "2  1000032 2008-04-11    2008\n",
       "3  1000044 2009-01-14    2009\n",
       "4  1000058 2009-02-25    2009"
      ]
     },
     "execution_count": 44,
     "metadata": {},
     "output_type": "execute_result"
    }
   ],
   "source": [
    "ukbb_date.head()"
   ]
  },
  {
   "cell_type": "code",
   "execution_count": 45,
   "metadata": {},
   "outputs": [
    {
     "data": {
      "text/html": [
       "<div>\n",
       "<style scoped>\n",
       "    .dataframe tbody tr th:only-of-type {\n",
       "        vertical-align: middle;\n",
       "    }\n",
       "\n",
       "    .dataframe tbody tr th {\n",
       "        vertical-align: top;\n",
       "    }\n",
       "\n",
       "    .dataframe thead th {\n",
       "        text-align: right;\n",
       "    }\n",
       "</style>\n",
       "<table border=\"1\" class=\"dataframe\">\n",
       "  <thead>\n",
       "    <tr style=\"text-align: right;\">\n",
       "      <th></th>\n",
       "      <th>eid</th>\n",
       "      <th>record_id</th>\n",
       "      <th>admidate</th>\n",
       "      <th>anasdate</th>\n",
       "      <th>disdate</th>\n",
       "      <th>epiend</th>\n",
       "      <th>epistart</th>\n",
       "      <th>opdate</th>\n",
       "      <th>any_date</th>\n",
       "      <th>any_yr</th>\n",
       "    </tr>\n",
       "  </thead>\n",
       "  <tbody>\n",
       "    <tr>\n",
       "      <th>0</th>\n",
       "      <td>1772719</td>\n",
       "      <td>1071463</td>\n",
       "      <td>2003-05-15</td>\n",
       "      <td>NaT</td>\n",
       "      <td>2003-05-15</td>\n",
       "      <td>2003-05-15</td>\n",
       "      <td>2003-05-15</td>\n",
       "      <td>NaT</td>\n",
       "      <td>2003-05-15</td>\n",
       "      <td>2003.0</td>\n",
       "    </tr>\n",
       "    <tr>\n",
       "      <th>1</th>\n",
       "      <td>1772719</td>\n",
       "      <td>1077874</td>\n",
       "      <td>2003-06-05</td>\n",
       "      <td>NaT</td>\n",
       "      <td>2003-06-05</td>\n",
       "      <td>2003-06-05</td>\n",
       "      <td>2003-06-05</td>\n",
       "      <td>2003-06-05</td>\n",
       "      <td>2003-06-05</td>\n",
       "      <td>2003.0</td>\n",
       "    </tr>\n",
       "    <tr>\n",
       "      <th>2</th>\n",
       "      <td>1772719</td>\n",
       "      <td>1127881</td>\n",
       "      <td>2000-05-01</td>\n",
       "      <td>NaT</td>\n",
       "      <td>2000-05-01</td>\n",
       "      <td>2000-05-01</td>\n",
       "      <td>2000-05-01</td>\n",
       "      <td>NaT</td>\n",
       "      <td>2000-05-01</td>\n",
       "      <td>2000.0</td>\n",
       "    </tr>\n",
       "    <tr>\n",
       "      <th>3</th>\n",
       "      <td>1277767</td>\n",
       "      <td>3208109</td>\n",
       "      <td>NaT</td>\n",
       "      <td>NaT</td>\n",
       "      <td>NaT</td>\n",
       "      <td>2005-10-05</td>\n",
       "      <td>2005-10-05</td>\n",
       "      <td>2005-10-05</td>\n",
       "      <td>2005-10-05</td>\n",
       "      <td>2005.0</td>\n",
       "    </tr>\n",
       "    <tr>\n",
       "      <th>4</th>\n",
       "      <td>1277767</td>\n",
       "      <td>4218015</td>\n",
       "      <td>NaT</td>\n",
       "      <td>NaT</td>\n",
       "      <td>NaT</td>\n",
       "      <td>2005-10-05</td>\n",
       "      <td>2005-10-05</td>\n",
       "      <td>2005-10-05</td>\n",
       "      <td>2005-10-05</td>\n",
       "      <td>2005.0</td>\n",
       "    </tr>\n",
       "  </tbody>\n",
       "</table>\n",
       "</div>"
      ],
      "text/plain": [
       "       eid  record_id   admidate anasdate    disdate     epiend   epistart  \\\n",
       "0  1772719    1071463 2003-05-15      NaT 2003-05-15 2003-05-15 2003-05-15   \n",
       "1  1772719    1077874 2003-06-05      NaT 2003-06-05 2003-06-05 2003-06-05   \n",
       "2  1772719    1127881 2000-05-01      NaT 2000-05-01 2000-05-01 2000-05-01   \n",
       "3  1277767    3208109        NaT      NaT        NaT 2005-10-05 2005-10-05   \n",
       "4  1277767    4218015        NaT      NaT        NaT 2005-10-05 2005-10-05   \n",
       "\n",
       "      opdate   any_date  any_yr  \n",
       "0        NaT 2003-05-15  2003.0  \n",
       "1 2003-06-05 2003-06-05  2003.0  \n",
       "2        NaT 2000-05-01  2000.0  \n",
       "3 2005-10-05 2005-10-05  2005.0  \n",
       "4 2005-10-05 2005-10-05  2005.0  "
      ]
     },
     "execution_count": 45,
     "metadata": {},
     "output_type": "execute_result"
    }
   ],
   "source": [
    "hesin_date.head()"
   ]
  },
  {
   "cell_type": "code",
   "execution_count": null,
   "metadata": {},
   "outputs": [],
   "source": []
  },
  {
   "cell_type": "code",
   "execution_count": 46,
   "metadata": {},
   "outputs": [],
   "source": [
    "hesin_date.to_csv('hesin_date.tsv', sep='\\t', index=None)"
   ]
  },
  {
   "cell_type": "code",
   "execution_count": 47,
   "metadata": {},
   "outputs": [],
   "source": [
    "hesin_ukbb_date = pd.merge(hesin_date, ukbb_date, on='eid', how='left')"
   ]
  },
  {
   "cell_type": "code",
   "execution_count": 48,
   "metadata": {},
   "outputs": [
    {
     "data": {
      "text/html": [
       "<div>\n",
       "<style scoped>\n",
       "    .dataframe tbody tr th:only-of-type {\n",
       "        vertical-align: middle;\n",
       "    }\n",
       "\n",
       "    .dataframe tbody tr th {\n",
       "        vertical-align: top;\n",
       "    }\n",
       "\n",
       "    .dataframe thead th {\n",
       "        text-align: right;\n",
       "    }\n",
       "</style>\n",
       "<table border=\"1\" class=\"dataframe\">\n",
       "  <thead>\n",
       "    <tr style=\"text-align: right;\">\n",
       "      <th></th>\n",
       "      <th>eid</th>\n",
       "      <th>record_id</th>\n",
       "      <th>admidate</th>\n",
       "      <th>anasdate</th>\n",
       "      <th>disdate</th>\n",
       "      <th>epiend</th>\n",
       "      <th>epistart</th>\n",
       "      <th>opdate</th>\n",
       "      <th>any_date</th>\n",
       "      <th>any_yr</th>\n",
       "    </tr>\n",
       "  </thead>\n",
       "  <tbody>\n",
       "    <tr>\n",
       "      <th>0</th>\n",
       "      <td>1772719</td>\n",
       "      <td>1071463</td>\n",
       "      <td>2003-05-15</td>\n",
       "      <td>NaT</td>\n",
       "      <td>2003-05-15</td>\n",
       "      <td>2003-05-15</td>\n",
       "      <td>2003-05-15</td>\n",
       "      <td>NaT</td>\n",
       "      <td>2003-05-15</td>\n",
       "      <td>2003.0</td>\n",
       "    </tr>\n",
       "    <tr>\n",
       "      <th>1</th>\n",
       "      <td>1772719</td>\n",
       "      <td>1077874</td>\n",
       "      <td>2003-06-05</td>\n",
       "      <td>NaT</td>\n",
       "      <td>2003-06-05</td>\n",
       "      <td>2003-06-05</td>\n",
       "      <td>2003-06-05</td>\n",
       "      <td>2003-06-05</td>\n",
       "      <td>2003-06-05</td>\n",
       "      <td>2003.0</td>\n",
       "    </tr>\n",
       "    <tr>\n",
       "      <th>2</th>\n",
       "      <td>1772719</td>\n",
       "      <td>1127881</td>\n",
       "      <td>2000-05-01</td>\n",
       "      <td>NaT</td>\n",
       "      <td>2000-05-01</td>\n",
       "      <td>2000-05-01</td>\n",
       "      <td>2000-05-01</td>\n",
       "      <td>NaT</td>\n",
       "      <td>2000-05-01</td>\n",
       "      <td>2000.0</td>\n",
       "    </tr>\n",
       "    <tr>\n",
       "      <th>3</th>\n",
       "      <td>1277767</td>\n",
       "      <td>3208109</td>\n",
       "      <td>NaT</td>\n",
       "      <td>NaT</td>\n",
       "      <td>NaT</td>\n",
       "      <td>2005-10-05</td>\n",
       "      <td>2005-10-05</td>\n",
       "      <td>2005-10-05</td>\n",
       "      <td>2005-10-05</td>\n",
       "      <td>2005.0</td>\n",
       "    </tr>\n",
       "    <tr>\n",
       "      <th>4</th>\n",
       "      <td>1277767</td>\n",
       "      <td>4218015</td>\n",
       "      <td>NaT</td>\n",
       "      <td>NaT</td>\n",
       "      <td>NaT</td>\n",
       "      <td>2005-10-05</td>\n",
       "      <td>2005-10-05</td>\n",
       "      <td>2005-10-05</td>\n",
       "      <td>2005-10-05</td>\n",
       "      <td>2005.0</td>\n",
       "    </tr>\n",
       "  </tbody>\n",
       "</table>\n",
       "</div>"
      ],
      "text/plain": [
       "       eid  record_id   admidate anasdate    disdate     epiend   epistart  \\\n",
       "0  1772719    1071463 2003-05-15      NaT 2003-05-15 2003-05-15 2003-05-15   \n",
       "1  1772719    1077874 2003-06-05      NaT 2003-06-05 2003-06-05 2003-06-05   \n",
       "2  1772719    1127881 2000-05-01      NaT 2000-05-01 2000-05-01 2000-05-01   \n",
       "3  1277767    3208109        NaT      NaT        NaT 2005-10-05 2005-10-05   \n",
       "4  1277767    4218015        NaT      NaT        NaT 2005-10-05 2005-10-05   \n",
       "\n",
       "      opdate   any_date  any_yr  \n",
       "0        NaT 2003-05-15  2003.0  \n",
       "1 2003-06-05 2003-06-05  2003.0  \n",
       "2        NaT 2000-05-01  2000.0  \n",
       "3 2005-10-05 2005-10-05  2005.0  \n",
       "4 2005-10-05 2005-10-05  2005.0  "
      ]
     },
     "execution_count": 48,
     "metadata": {},
     "output_type": "execute_result"
    }
   ],
   "source": [
    "hesin_date.head()"
   ]
  },
  {
   "cell_type": "code",
   "execution_count": null,
   "metadata": {},
   "outputs": [],
   "source": []
  },
  {
   "cell_type": "code",
   "execution_count": null,
   "metadata": {},
   "outputs": [],
   "source": []
  },
  {
   "cell_type": "code",
   "execution_count": 49,
   "metadata": {},
   "outputs": [],
   "source": [
    "hesin_T2D_merge=hesin_T2D.drop(['admidate','anasdate','disdate','epiend','epistart','opdate'],axis=1)"
   ]
  },
  {
   "cell_type": "code",
   "execution_count": 50,
   "metadata": {},
   "outputs": [
    {
     "data": {
      "text/plain": [
       "Index(['eid', 'record_id', 'anagest', 'cause_icd10', 'cause_icd10_nb',\n",
       "       'diag_icd10', 'diag_icd10_nb', 'diag_icd9', 'diag_icd9_nb', 'matage',\n",
       "       'neocare', 'numbaby', 'numpreg', 'oper4', 'oper4_nb', 'operstat',\n",
       "       'HES_T2D_ind'],\n",
       "      dtype='object')"
      ]
     },
     "execution_count": 50,
     "metadata": {},
     "output_type": "execute_result"
    }
   ],
   "source": [
    "hesin_T2D_merge.columns"
   ]
  },
  {
   "cell_type": "code",
   "execution_count": 51,
   "metadata": {},
   "outputs": [],
   "source": [
    "hesin_T2D_wd=pd.merge(hesin_T2D_merge, hesin_date, on=['eid','record_id'], how='outer')"
   ]
  },
  {
   "cell_type": "code",
   "execution_count": 52,
   "metadata": {},
   "outputs": [
    {
     "data": {
      "text/plain": [
       "eid               2577597\n",
       "record_id         2577597\n",
       "anagest             10263\n",
       "cause_icd10        101660\n",
       "cause_icd10_nb        208\n",
       "diag_icd10        2512419\n",
       "diag_icd10_nb        5244\n",
       "diag_icd9           52121\n",
       "diag_icd9_nb            0\n",
       "matage              14321\n",
       "neocare           1848633\n",
       "numbaby             31070\n",
       "numpreg             31063\n",
       "oper4             2386150\n",
       "oper4_nb                0\n",
       "operstat          1372220\n",
       "HES_T2D_ind       2577597\n",
       "admidate          2287724\n",
       "anasdate            13121\n",
       "disdate           2172998\n",
       "epiend            2518087\n",
       "epistart          2520356\n",
       "opdate            1914276\n",
       "any_date          2577595\n",
       "any_yr            2577595\n",
       "dtype: int64"
      ]
     },
     "execution_count": 52,
     "metadata": {},
     "output_type": "execute_result"
    }
   ],
   "source": [
    "hesin_T2D_wd.count()"
   ]
  },
  {
   "cell_type": "code",
   "execution_count": 53,
   "metadata": {},
   "outputs": [],
   "source": [
    "hesin_T2D_wd[hesin_T2D_wd.any_date.isna()].to_csv('any_date_miss.csv', index=None,)"
   ]
  },
  {
   "cell_type": "code",
   "execution_count": 55,
   "metadata": {},
   "outputs": [
    {
     "data": {
      "text/plain": [
       "'/oasis/scratch/comet/yhuan162/temp_project/HES'"
      ]
     },
     "execution_count": 55,
     "metadata": {},
     "output_type": "execute_result"
    }
   ],
   "source": [
    "pwd()"
   ]
  },
  {
   "cell_type": "code",
   "execution_count": 54,
   "metadata": {},
   "outputs": [],
   "source": [
    "hesin_T2D_wd.to_pickle(\"/temp_project/HES/outcomes/T2D/hesin_T2D_wd.pkl\")"
   ]
  },
  {
   "cell_type": "code",
   "execution_count": 44,
   "metadata": {},
   "outputs": [],
   "source": [
    "hesin_T2D_wd=pd.read_pickle(\"/temp_project/HES/outcomes/T2D/hesin_T2D_wd.pkl\")"
   ]
  },
  {
   "cell_type": "code",
   "execution_count": 56,
   "metadata": {},
   "outputs": [
    {
     "data": {
      "text/html": [
       "<div>\n",
       "<style scoped>\n",
       "    .dataframe tbody tr th:only-of-type {\n",
       "        vertical-align: middle;\n",
       "    }\n",
       "\n",
       "    .dataframe tbody tr th {\n",
       "        vertical-align: top;\n",
       "    }\n",
       "\n",
       "    .dataframe thead th {\n",
       "        text-align: right;\n",
       "    }\n",
       "</style>\n",
       "<table border=\"1\" class=\"dataframe\">\n",
       "  <thead>\n",
       "    <tr style=\"text-align: right;\">\n",
       "      <th></th>\n",
       "      <th>eid</th>\n",
       "      <th>record_id</th>\n",
       "      <th>anagest</th>\n",
       "      <th>cause_icd10</th>\n",
       "      <th>cause_icd10_nb</th>\n",
       "      <th>diag_icd10</th>\n",
       "      <th>diag_icd10_nb</th>\n",
       "      <th>diag_icd9</th>\n",
       "      <th>diag_icd9_nb</th>\n",
       "      <th>matage</th>\n",
       "      <th>...</th>\n",
       "      <th>operstat</th>\n",
       "      <th>HES_T2D_ind</th>\n",
       "      <th>admidate</th>\n",
       "      <th>anasdate</th>\n",
       "      <th>disdate</th>\n",
       "      <th>epiend</th>\n",
       "      <th>epistart</th>\n",
       "      <th>opdate</th>\n",
       "      <th>any_date</th>\n",
       "      <th>any_yr</th>\n",
       "    </tr>\n",
       "  </thead>\n",
       "  <tbody>\n",
       "    <tr>\n",
       "      <th>0</th>\n",
       "      <td>1772719</td>\n",
       "      <td>1071463</td>\n",
       "      <td>NaN</td>\n",
       "      <td>NaN</td>\n",
       "      <td>NaN</td>\n",
       "      <td>R198</td>\n",
       "      <td>NaN</td>\n",
       "      <td>NaN</td>\n",
       "      <td>NaN</td>\n",
       "      <td>NaN</td>\n",
       "      <td>...</td>\n",
       "      <td>NaN</td>\n",
       "      <td>0</td>\n",
       "      <td>2003-05-15</td>\n",
       "      <td>NaT</td>\n",
       "      <td>2003-05-15</td>\n",
       "      <td>2003-05-15</td>\n",
       "      <td>2003-05-15</td>\n",
       "      <td>NaT</td>\n",
       "      <td>2003-05-15</td>\n",
       "      <td>2003.0</td>\n",
       "    </tr>\n",
       "    <tr>\n",
       "      <th>1</th>\n",
       "      <td>1772719</td>\n",
       "      <td>1077874</td>\n",
       "      <td>NaN</td>\n",
       "      <td>NaN</td>\n",
       "      <td>NaN</td>\n",
       "      <td>R104</td>\n",
       "      <td>NaN</td>\n",
       "      <td>NaN</td>\n",
       "      <td>NaN</td>\n",
       "      <td>NaN</td>\n",
       "      <td>...</td>\n",
       "      <td>NaN</td>\n",
       "      <td>0</td>\n",
       "      <td>2003-06-05</td>\n",
       "      <td>NaT</td>\n",
       "      <td>2003-06-05</td>\n",
       "      <td>2003-06-05</td>\n",
       "      <td>2003-06-05</td>\n",
       "      <td>2003-06-05</td>\n",
       "      <td>2003-06-05</td>\n",
       "      <td>2003.0</td>\n",
       "    </tr>\n",
       "    <tr>\n",
       "      <th>2</th>\n",
       "      <td>1772719</td>\n",
       "      <td>1127881</td>\n",
       "      <td>NaN</td>\n",
       "      <td>NaN</td>\n",
       "      <td>NaN</td>\n",
       "      <td>M512</td>\n",
       "      <td>NaN</td>\n",
       "      <td>NaN</td>\n",
       "      <td>NaN</td>\n",
       "      <td>NaN</td>\n",
       "      <td>...</td>\n",
       "      <td>NaN</td>\n",
       "      <td>0</td>\n",
       "      <td>2000-05-01</td>\n",
       "      <td>NaT</td>\n",
       "      <td>2000-05-01</td>\n",
       "      <td>2000-05-01</td>\n",
       "      <td>2000-05-01</td>\n",
       "      <td>NaT</td>\n",
       "      <td>2000-05-01</td>\n",
       "      <td>2000.0</td>\n",
       "    </tr>\n",
       "    <tr>\n",
       "      <th>3</th>\n",
       "      <td>1277767</td>\n",
       "      <td>3208109</td>\n",
       "      <td>NaN</td>\n",
       "      <td>NaN</td>\n",
       "      <td>NaN</td>\n",
       "      <td>M8414</td>\n",
       "      <td>NaN</td>\n",
       "      <td>NaN</td>\n",
       "      <td>NaN</td>\n",
       "      <td>NaN</td>\n",
       "      <td>...</td>\n",
       "      <td>NaN</td>\n",
       "      <td>0</td>\n",
       "      <td>NaT</td>\n",
       "      <td>NaT</td>\n",
       "      <td>NaT</td>\n",
       "      <td>2005-10-05</td>\n",
       "      <td>2005-10-05</td>\n",
       "      <td>2005-10-05</td>\n",
       "      <td>2005-10-05</td>\n",
       "      <td>2005.0</td>\n",
       "    </tr>\n",
       "    <tr>\n",
       "      <th>4</th>\n",
       "      <td>1277767</td>\n",
       "      <td>4218015</td>\n",
       "      <td>NaN</td>\n",
       "      <td>NaN</td>\n",
       "      <td>NaN</td>\n",
       "      <td>M8414</td>\n",
       "      <td>NaN</td>\n",
       "      <td>NaN</td>\n",
       "      <td>NaN</td>\n",
       "      <td>NaN</td>\n",
       "      <td>...</td>\n",
       "      <td>NaN</td>\n",
       "      <td>0</td>\n",
       "      <td>NaT</td>\n",
       "      <td>NaT</td>\n",
       "      <td>NaT</td>\n",
       "      <td>2005-10-05</td>\n",
       "      <td>2005-10-05</td>\n",
       "      <td>2005-10-05</td>\n",
       "      <td>2005-10-05</td>\n",
       "      <td>2005.0</td>\n",
       "    </tr>\n",
       "  </tbody>\n",
       "</table>\n",
       "<p>5 rows × 25 columns</p>\n",
       "</div>"
      ],
      "text/plain": [
       "       eid  record_id  anagest cause_icd10  cause_icd10_nb diag_icd10  \\\n",
       "0  1772719    1071463      NaN         NaN             NaN       R198   \n",
       "1  1772719    1077874      NaN         NaN             NaN       R104   \n",
       "2  1772719    1127881      NaN         NaN             NaN       M512   \n",
       "3  1277767    3208109      NaN         NaN             NaN      M8414   \n",
       "4  1277767    4218015      NaN         NaN             NaN      M8414   \n",
       "\n",
       "   diag_icd10_nb diag_icd9  diag_icd9_nb  matage   ...    operstat  \\\n",
       "0            NaN       NaN           NaN     NaN   ...         NaN   \n",
       "1            NaN       NaN           NaN     NaN   ...         NaN   \n",
       "2            NaN       NaN           NaN     NaN   ...         NaN   \n",
       "3            NaN       NaN           NaN     NaN   ...         NaN   \n",
       "4            NaN       NaN           NaN     NaN   ...         NaN   \n",
       "\n",
       "  HES_T2D_ind   admidate anasdate    disdate     epiend   epistart     opdate  \\\n",
       "0           0 2003-05-15      NaT 2003-05-15 2003-05-15 2003-05-15        NaT   \n",
       "1           0 2003-06-05      NaT 2003-06-05 2003-06-05 2003-06-05 2003-06-05   \n",
       "2           0 2000-05-01      NaT 2000-05-01 2000-05-01 2000-05-01        NaT   \n",
       "3           0        NaT      NaT        NaT 2005-10-05 2005-10-05 2005-10-05   \n",
       "4           0        NaT      NaT        NaT 2005-10-05 2005-10-05 2005-10-05   \n",
       "\n",
       "    any_date  any_yr  \n",
       "0 2003-05-15  2003.0  \n",
       "1 2003-06-05  2003.0  \n",
       "2 2000-05-01  2000.0  \n",
       "3 2005-10-05  2005.0  \n",
       "4 2005-10-05  2005.0  \n",
       "\n",
       "[5 rows x 25 columns]"
      ]
     },
     "execution_count": 56,
     "metadata": {},
     "output_type": "execute_result"
    }
   ],
   "source": [
    "hesin_T2D_wd.head()"
   ]
  },
  {
   "cell_type": "code",
   "execution_count": 57,
   "metadata": {},
   "outputs": [
    {
     "data": {
      "text/plain": [
       "['eid',\n",
       " 'record_id',\n",
       " 'anagest',\n",
       " 'cause_icd10',\n",
       " 'cause_icd10_nb',\n",
       " 'diag_icd10',\n",
       " 'diag_icd10_nb',\n",
       " 'diag_icd9',\n",
       " 'diag_icd9_nb',\n",
       " 'matage',\n",
       " 'neocare',\n",
       " 'numbaby',\n",
       " 'numpreg',\n",
       " 'oper4',\n",
       " 'oper4_nb',\n",
       " 'operstat',\n",
       " 'HES_T2D_ind',\n",
       " 'admidate',\n",
       " 'anasdate',\n",
       " 'disdate',\n",
       " 'epiend',\n",
       " 'epistart',\n",
       " 'opdate',\n",
       " 'any_date',\n",
       " 'any_yr']"
      ]
     },
     "execution_count": 57,
     "metadata": {},
     "output_type": "execute_result"
    }
   ],
   "source": [
    "hesin_T2D_wd.columns.tolist()"
   ]
  },
  {
   "cell_type": "code",
   "execution_count": 58,
   "metadata": {},
   "outputs": [],
   "source": [
    "hesin_T2D_wd_wrk=hesin_T2D_wd.copy()"
   ]
  },
  {
   "cell_type": "code",
   "execution_count": 59,
   "metadata": {},
   "outputs": [],
   "source": [
    "#tcond1=hesin_T2D_wd_wrk['any_date']<pd.to_datetime(\"2006-01-01\")\n",
    "#tcond2=     (hesin_T2D_wd_wrk['any_date'] >= pd.to_datetime(\"2006-01-01\")) & (hesin_T2D_wd_wrk['any_date'] < pd.to_datetime(\"2011-01-01\")),\n",
    "#tcond3= hesin_T2D_wd_wrk['any_date']>=pd.to_datetime(\"2011-01-01\")"
   ]
  },
  {
   "cell_type": "code",
   "execution_count": 60,
   "metadata": {},
   "outputs": [],
   "source": [
    "conditions = [\n",
    "    (hesin_T2D_wd_wrk['any_date'] < pd.to_datetime(\"2006-01-01\")),\n",
    "    (hesin_T2D_wd_wrk['any_date'] >= pd.to_datetime(\"2006-01-01\")) & (hesin_T2D_wd_wrk['any_date'] < pd.to_datetime(\"2011-01-01\")),\n",
    "    (hesin_T2D_wd_wrk['any_date'] >= pd.to_datetime(\"2011-01-01\"))]\n",
    "choices = [1, 2, 3]\n",
    "hesin_T2D_wd_wrk['time_in'] = np.select(conditions, choices, default=0)"
   ]
  },
  {
   "cell_type": "code",
   "execution_count": 61,
   "metadata": {},
   "outputs": [
    {
     "data": {
      "text/plain": [
       "3    916725\n",
       "1    895436\n",
       "2    765434\n",
       "0         2\n",
       "Name: time_in, dtype: int64"
      ]
     },
     "execution_count": 61,
     "metadata": {},
     "output_type": "execute_result"
    }
   ],
   "source": [
    "hesin_T2D_wd_wrk.time_in.value_counts()"
   ]
  },
  {
   "cell_type": "code",
   "execution_count": 62,
   "metadata": {},
   "outputs": [],
   "source": [
    "hesin_T2D_wd_wrk_ukbb_date = pd.merge(hesin_T2D_wd_wrk, ukbb_date, on='eid', how='left')"
   ]
  },
  {
   "cell_type": "code",
   "execution_count": 63,
   "metadata": {},
   "outputs": [],
   "source": [
    "### drop na\n",
    "hesin_T2D_wd_wrk_ukbb_date2=hesin_T2D_wd_wrk_ukbb_date[['eid','record_id','HES_T2D_ind','any_date','any_yr','time_in','att_date', 'att_yr']].dropna().copy()\n",
    "### extract year\n",
    "#hesin_T2D_wd_wrk_ukbb_date2['any_yr']=hesin_T2D_wd_wrk_ukbb_date2['any_date'].dt.year"
   ]
  },
  {
   "cell_type": "code",
   "execution_count": 64,
   "metadata": {},
   "outputs": [],
   "source": [
    "hesin_T2D_wd_wrk_ukbb_date2['diff_yr']=hesin_T2D_wd_wrk_ukbb_date2['any_yr']-hesin_T2D_wd_wrk_ukbb_date2['att_yr']\n",
    "hesin_T2D_wd_wrk_ukbb_date2['diff_yr_cat']=hesin_T2D_wd_wrk_ukbb_date2['diff_yr'].apply(lambda y: 1 if y<0 else (2 if y==0 else (3 if str(y)!='nan' else np.nan)))\n",
    "# diff_yr_cat = 1, any_yr < att_yr: pre baseline\n",
    "# diff_yr_cat = 2, any_yr = att_yr: at baseline\n",
    "# diff_yr_cat = 3, any_yr > att_yr: post baseline"
   ]
  },
  {
   "cell_type": "code",
   "execution_count": null,
   "metadata": {},
   "outputs": [],
   "source": []
  },
  {
   "cell_type": "code",
   "execution_count": 65,
   "metadata": {},
   "outputs": [
    {
     "data": {
      "text/html": [
       "<div>\n",
       "<style scoped>\n",
       "    .dataframe tbody tr th:only-of-type {\n",
       "        vertical-align: middle;\n",
       "    }\n",
       "\n",
       "    .dataframe tbody tr th {\n",
       "        vertical-align: top;\n",
       "    }\n",
       "\n",
       "    .dataframe thead th {\n",
       "        text-align: right;\n",
       "    }\n",
       "</style>\n",
       "<table border=\"1\" class=\"dataframe\">\n",
       "  <thead>\n",
       "    <tr style=\"text-align: right;\">\n",
       "      <th></th>\n",
       "      <th>eid</th>\n",
       "      <th>record_id</th>\n",
       "      <th>HES_T2D_ind</th>\n",
       "      <th>any_date</th>\n",
       "      <th>any_yr</th>\n",
       "      <th>time_in</th>\n",
       "      <th>att_date</th>\n",
       "      <th>att_yr</th>\n",
       "      <th>diff_yr</th>\n",
       "      <th>diff_yr_cat</th>\n",
       "    </tr>\n",
       "  </thead>\n",
       "  <tbody>\n",
       "    <tr>\n",
       "      <th>0</th>\n",
       "      <td>1772719</td>\n",
       "      <td>1071463</td>\n",
       "      <td>0</td>\n",
       "      <td>2003-05-15</td>\n",
       "      <td>2003.0</td>\n",
       "      <td>1</td>\n",
       "      <td>2009-09-16</td>\n",
       "      <td>2009</td>\n",
       "      <td>-6.0</td>\n",
       "      <td>1</td>\n",
       "    </tr>\n",
       "    <tr>\n",
       "      <th>1</th>\n",
       "      <td>1772719</td>\n",
       "      <td>1077874</td>\n",
       "      <td>0</td>\n",
       "      <td>2003-06-05</td>\n",
       "      <td>2003.0</td>\n",
       "      <td>1</td>\n",
       "      <td>2009-09-16</td>\n",
       "      <td>2009</td>\n",
       "      <td>-6.0</td>\n",
       "      <td>1</td>\n",
       "    </tr>\n",
       "    <tr>\n",
       "      <th>2</th>\n",
       "      <td>1772719</td>\n",
       "      <td>1127881</td>\n",
       "      <td>0</td>\n",
       "      <td>2000-05-01</td>\n",
       "      <td>2000.0</td>\n",
       "      <td>1</td>\n",
       "      <td>2009-09-16</td>\n",
       "      <td>2009</td>\n",
       "      <td>-9.0</td>\n",
       "      <td>1</td>\n",
       "    </tr>\n",
       "    <tr>\n",
       "      <th>3</th>\n",
       "      <td>1277767</td>\n",
       "      <td>3208109</td>\n",
       "      <td>0</td>\n",
       "      <td>2005-10-05</td>\n",
       "      <td>2005.0</td>\n",
       "      <td>1</td>\n",
       "      <td>2008-02-07</td>\n",
       "      <td>2008</td>\n",
       "      <td>-3.0</td>\n",
       "      <td>1</td>\n",
       "    </tr>\n",
       "    <tr>\n",
       "      <th>4</th>\n",
       "      <td>1277767</td>\n",
       "      <td>4218015</td>\n",
       "      <td>0</td>\n",
       "      <td>2005-10-05</td>\n",
       "      <td>2005.0</td>\n",
       "      <td>1</td>\n",
       "      <td>2008-02-07</td>\n",
       "      <td>2008</td>\n",
       "      <td>-3.0</td>\n",
       "      <td>1</td>\n",
       "    </tr>\n",
       "  </tbody>\n",
       "</table>\n",
       "</div>"
      ],
      "text/plain": [
       "       eid  record_id  HES_T2D_ind   any_date  any_yr  time_in   att_date  \\\n",
       "0  1772719    1071463            0 2003-05-15  2003.0        1 2009-09-16   \n",
       "1  1772719    1077874            0 2003-06-05  2003.0        1 2009-09-16   \n",
       "2  1772719    1127881            0 2000-05-01  2000.0        1 2009-09-16   \n",
       "3  1277767    3208109            0 2005-10-05  2005.0        1 2008-02-07   \n",
       "4  1277767    4218015            0 2005-10-05  2005.0        1 2008-02-07   \n",
       "\n",
       "   att_yr  diff_yr  diff_yr_cat  \n",
       "0    2009     -6.0            1  \n",
       "1    2009     -6.0            1  \n",
       "2    2009     -9.0            1  \n",
       "3    2008     -3.0            1  \n",
       "4    2008     -3.0            1  "
      ]
     },
     "execution_count": 65,
     "metadata": {},
     "output_type": "execute_result"
    }
   ],
   "source": [
    "hesin_T2D_wd_wrk_ukbb_date2.head()"
   ]
  },
  {
   "cell_type": "code",
   "execution_count": 66,
   "metadata": {},
   "outputs": [
    {
     "data": {
      "text/plain": [
       "354027"
      ]
     },
     "execution_count": 66,
     "metadata": {},
     "output_type": "execute_result"
    }
   ],
   "source": [
    "len(hesin_T2D_wd_wrk_ukbb_date2[hesin_T2D_wd_wrk_ukbb_date2.diff_yr<=2].eid.unique())"
   ]
  },
  {
   "cell_type": "code",
   "execution_count": 67,
   "metadata": {},
   "outputs": [
    {
     "data": {
      "text/plain": [
       "21630"
      ]
     },
     "execution_count": 67,
     "metadata": {},
     "output_type": "execute_result"
    }
   ],
   "source": [
    "len(hesin_T2D_wd_wrk_ukbb_date2.eid.unique())   #395859\n",
    "len(hesin_T2D_wd_wrk_ukbb_date2[hesin_T2D_wd_wrk_ukbb_date2.diff_yr_cat==1].eid.unique())  #309656\n",
    "len(hesin_T2D_wd_wrk_ukbb_date2[hesin_T2D_wd_wrk_ukbb_date2.diff_yr_cat==2].eid.unique())  #74922\n",
    "len(hesin_T2D_wd_wrk_ukbb_date2[hesin_T2D_wd_wrk_ukbb_date2.diff_yr_cat==3].eid.unique())  #271993\n",
    "len(hesin_T2D_wd_wrk_ukbb_date2[hesin_T2D_wd_wrk_ukbb_date2.diff_yr_cat!=1].eid.unique())  #290294\n",
    "\n",
    "\n",
    "\n",
    "len(hesin_T2D_wd_wrk_ukbb_date2[(hesin_T2D_wd_wrk_ukbb_date2.diff_yr_cat==1) \n",
    "                                & (hesin_T2D_wd_wrk_ukbb_date2.HES_T2D_ind==1)].eid.unique())  #8695\n",
    "len(hesin_T2D_wd_wrk_ukbb_date2[(hesin_T2D_wd_wrk_ukbb_date2.diff_yr_cat==2) \n",
    "                                & (hesin_T2D_wd_wrk_ukbb_date2.HES_T2D_ind==1)].eid.unique())  #3695\n",
    "len(hesin_T2D_wd_wrk_ukbb_date2[(hesin_T2D_wd_wrk_ukbb_date2.diff_yr_cat==3) \n",
    "                                & (hesin_T2D_wd_wrk_ukbb_date2.HES_T2D_ind==1)].eid.unique())  #20765\n",
    "len(hesin_T2D_wd_wrk_ukbb_date2[(hesin_T2D_wd_wrk_ukbb_date2.diff_yr_cat!=1) \n",
    "                                & (hesin_T2D_wd_wrk_ukbb_date2.HES_T2D_ind==1)].eid.unique())  #21630\n"
   ]
  },
  {
   "cell_type": "code",
   "execution_count": 68,
   "metadata": {},
   "outputs": [],
   "source": [
    "df_pre_temp= hesin_T2D_wd_wrk_ukbb_date2[hesin_T2D_wd_wrk_ukbb_date2.diff_yr_cat==1]\n",
    "df_at_temp = hesin_T2D_wd_wrk_ukbb_date2[hesin_T2D_wd_wrk_ukbb_date2.diff_yr_cat==2]\n",
    "df_post_temp = hesin_T2D_wd_wrk_ukbb_date2[hesin_T2D_wd_wrk_ukbb_date2.diff_yr_cat==3]"
   ]
  },
  {
   "cell_type": "code",
   "execution_count": 69,
   "metadata": {},
   "outputs": [],
   "source": [
    "df_pre_temp2=df_pre_temp.drop(['record_id','time_in','any_date','att_date'], axis=1).drop_duplicates().sort_values(by=['eid','any_yr','HES_T2D_ind'], ascending=[True, True, False])\n",
    "df_pre_temp2['rec_pre']=df_pre_temp2.groupby(['eid'],sort=False).cumcount()+1\n",
    "#df_pre_temp2[df_pre_temp2.eid==1001564]\n",
    "df_pre_temp3=df_pre_temp2.set_index(['eid','rec_pre'])\n",
    "df_pre_temp4=df_pre_temp3.unstack(level=1)\n",
    "df_pre_temp4.columns = df_pre_temp4.columns.map('{0[0]}_pre{0[1]}'.format)\n",
    "df_pre_temp5=df_pre_temp4.reset_index()\n",
    "df_pre_temp5['vec_HES_T2D_ind_pre'] = df_pre_temp5[df_pre_temp5.columns[df_pre_temp5.columns.get_loc('HES_T2D_ind_pre1'):df_pre_temp5.columns.get_loc('any_yr_pre1')]].apply(lambda x: ','.join(x.dropna().astype(str)),axis=1)\n",
    "df_pre_temp5['HES_T2D_ind_pre']=df_pre_temp5['vec_HES_T2D_ind_pre'].apply(lambda y: 1 if '1.0' in y.split(',') else 0)\n"
   ]
  },
  {
   "cell_type": "code",
   "execution_count": 70,
   "metadata": {},
   "outputs": [],
   "source": [
    "df_at_temp2=df_at_temp.drop(['record_id','time_in','any_date','att_date'], axis=1).drop_duplicates().sort_values(by=['eid','any_yr','HES_T2D_ind'], ascending=[True, True, False])\n",
    "df_at_temp2['rec_at']=df_at_temp2.groupby(['eid'],sort=False).cumcount()+1\n",
    "df_at_temp3=df_at_temp2.set_index(['eid','rec_at'])\n",
    "df_at_temp4=df_at_temp3.unstack(level=1)\n",
    "df_at_temp4.columns = df_at_temp4.columns.map('{0[0]}_at{0[1]}'.format)\n",
    "df_at_temp5=df_at_temp4.reset_index()\n",
    "df_at_temp5['vec_HES_T2D_ind_at'] = df_at_temp5[df_at_temp5.columns[df_at_temp5.columns.get_loc('HES_T2D_ind_at1'):df_at_temp5.columns.get_loc('any_yr_at1')]].apply(lambda x: ','.join(x.dropna().astype(str)),axis=1)\n",
    "df_at_temp5['HES_T2D_ind_at']=df_at_temp5['vec_HES_T2D_ind_at'].apply(lambda y: 1 if '1.0' in y.split(',') else 0)\n",
    "\n",
    "\n",
    "df_post_temp2=df_post_temp.drop(['record_id','time_in','any_date','att_date'], axis=1).drop_duplicates().sort_values(by=['eid','any_yr','HES_T2D_ind'], ascending=[True, True, False])\n",
    "df_post_temp2['rec_post']=df_post_temp2.groupby(['eid'],sort=False).cumcount()+1\n",
    "df_post_temp3=df_post_temp2.set_index(['eid','rec_post'])\n",
    "df_post_temp4=df_post_temp3.unstack(level=1)\n",
    "df_post_temp4.columns = df_post_temp4.columns.map('{0[0]}_post{0[1]}'.format)\n",
    "df_post_temp5=df_post_temp4.reset_index()\n",
    "df_post_temp5['vec_HES_T2D_ind_post'] = df_post_temp5[df_post_temp5.columns[df_post_temp5.columns.get_loc('HES_T2D_ind_post1'):df_post_temp5.columns.get_loc('any_yr_post1')]].apply(lambda x: ','.join(x.dropna().astype(str)),axis=1)\n",
    "df_post_temp5['HES_T2D_ind_post']=df_post_temp5['vec_HES_T2D_ind_post'].apply(lambda y: 1 if '1.0' in y.split(',') else 0)\n"
   ]
  },
  {
   "cell_type": "code",
   "execution_count": 71,
   "metadata": {},
   "outputs": [
    {
     "data": {
      "text/plain": [
       "271993"
      ]
     },
     "execution_count": 71,
     "metadata": {},
     "output_type": "execute_result"
    }
   ],
   "source": [
    "df_pre_temp5.eid.count()\n",
    "df_at_temp5.eid.count()\n",
    "df_post_temp5.eid.count()"
   ]
  },
  {
   "cell_type": "code",
   "execution_count": 72,
   "metadata": {},
   "outputs": [
    {
     "data": {
      "text/html": [
       "<div>\n",
       "<style scoped>\n",
       "    .dataframe tbody tr th:only-of-type {\n",
       "        vertical-align: middle;\n",
       "    }\n",
       "\n",
       "    .dataframe tbody tr th {\n",
       "        vertical-align: top;\n",
       "    }\n",
       "\n",
       "    .dataframe thead th {\n",
       "        text-align: right;\n",
       "    }\n",
       "</style>\n",
       "<table border=\"1\" class=\"dataframe\">\n",
       "  <thead>\n",
       "    <tr style=\"text-align: right;\">\n",
       "      <th></th>\n",
       "      <th>HES_T2D_ind_post</th>\n",
       "      <th>0.0</th>\n",
       "      <th>1.0</th>\n",
       "      <th>All</th>\n",
       "    </tr>\n",
       "    <tr>\n",
       "      <th>HES_T2D_ind_pre</th>\n",
       "      <th>HES_T2D_ind_at</th>\n",
       "      <th></th>\n",
       "      <th></th>\n",
       "      <th></th>\n",
       "    </tr>\n",
       "  </thead>\n",
       "  <tbody>\n",
       "    <tr>\n",
       "      <th rowspan=\"2\" valign=\"top\">0.0</th>\n",
       "      <th>0.0</th>\n",
       "      <td>371738</td>\n",
       "      <td>13738</td>\n",
       "      <td>385476</td>\n",
       "    </tr>\n",
       "    <tr>\n",
       "      <th>1.0</th>\n",
       "      <td>531</td>\n",
       "      <td>1157</td>\n",
       "      <td>1688</td>\n",
       "    </tr>\n",
       "    <tr>\n",
       "      <th rowspan=\"2\" valign=\"top\">1.0</th>\n",
       "      <th>0.0</th>\n",
       "      <td>2491</td>\n",
       "      <td>4197</td>\n",
       "      <td>6688</td>\n",
       "    </tr>\n",
       "    <tr>\n",
       "      <th>1.0</th>\n",
       "      <td>334</td>\n",
       "      <td>1673</td>\n",
       "      <td>2007</td>\n",
       "    </tr>\n",
       "    <tr>\n",
       "      <th>All</th>\n",
       "      <th></th>\n",
       "      <td>375094</td>\n",
       "      <td>20765</td>\n",
       "      <td>395859</td>\n",
       "    </tr>\n",
       "  </tbody>\n",
       "</table>\n",
       "</div>"
      ],
      "text/plain": [
       "HES_T2D_ind_post                   0.0    1.0     All\n",
       "HES_T2D_ind_pre HES_T2D_ind_at                       \n",
       "0.0             0.0             371738  13738  385476\n",
       "                1.0                531   1157    1688\n",
       "1.0             0.0               2491   4197    6688\n",
       "                1.0                334   1673    2007\n",
       "All                             375094  20765  395859"
      ]
     },
     "execution_count": 72,
     "metadata": {},
     "output_type": "execute_result"
    }
   ],
   "source": [
    "df_pa_temp=pd.merge(df_pre_temp5, df_at_temp5, on='eid', how='outer')\n",
    "df_pa_temp.eid.count() #325138\n",
    "df_pap_temp=pd.merge(df_pa_temp, df_post_temp5, on='eid', how='outer')\n",
    "df_pap_temp.eid.count() #395859\n",
    "\n",
    "cf=df_pap_temp[['HES_T2D_ind_pre','HES_T2D_ind_at','HES_T2D_ind_post']].fillna(0)\n",
    "tab3w  = pd.crosstab(index=[cf[\"HES_T2D_ind_pre\"],cf[\"HES_T2D_ind_at\"]], \n",
    "                             columns=[\n",
    "                                      cf[\"HES_T2D_ind_post\"]],\n",
    "                             margins=True)  \n",
    "tab3w"
   ]
  },
  {
   "cell_type": "code",
   "execution_count": 73,
   "metadata": {},
   "outputs": [],
   "source": [
    "papcond1=df_pap_temp.HES_T2D_ind_pre==1\n",
    "papcond2=df_pap_temp.HES_T2D_ind_at==1\n",
    "papcond3=df_pap_temp.HES_T2D_ind_post==1"
   ]
  },
  {
   "cell_type": "code",
   "execution_count": 103,
   "metadata": {},
   "outputs": [],
   "source": [
    "df_p1a01p01 =df_pap_temp[papcond1 ]\n",
    "df_p0a0p1   =df_pap_temp[~papcond1 & ~papcond2 & papcond3]\n",
    "df_p0a1p01  =df_pap_temp[~papcond1 & papcond2 ]\n",
    "\n",
    "\n",
    "\n",
    "\n",
    "df_p1a01p01.eid.count() #8695\n",
    "df_p0a1p01.eid.count() #1688\n",
    "df_p0a0p1.eid.count() #13738\n",
    "\n",
    "df_p1a01p01_eid_list = df_p1a01p01.eid.tolist()\n",
    "HES_T2D_case_eid_list = HES_T2D_case.eid.unique().tolist()\n",
    "HES_T2D_case_eid_list\n",
    "\n",
    "HES_T2D_case_pap = df_pap_temp[df_pap_temp.eid.isin(HES_T2D_case_eid_list)]\n",
    "\n",
    "df_p0p01p01 = HES_T2D_case_pap[~HES_T2D_case_pap.eid.isin(df_p1a01p01_eid_list)]"
   ]
  },
  {
   "cell_type": "code",
   "execution_count": 105,
   "metadata": {},
   "outputs": [],
   "source": [
    "HES_T2D_case_pap.to_csv('/temp_project/ukbb/data/i0/varOutcome/T2D/HES_T2D_case_pap.csv',index=None)\n",
    "df_p0p01p01.to_csv('/temp_project/ukbb/data/i0/varOutcome/T2D/df_p0p01p01.csv',index=None)\n",
    "df_p1a01p01.to_csv('/temp_project/ukbb/data/i0/varOutcome/T2D/df_p1a01p01.csv',index=None)\n",
    "df_p0a1p01.to_csv('/temp_project/ukbb/data/i0/varOutcome/T2D/df_p0a1p01.csv',index=None)\n",
    "df_p0a0p1.to_csv('/temp_project/ukbb/data/i0/varOutcome/T2D/df_p0a0p1.csv',index=None)\n"
   ]
  },
  {
   "cell_type": "code",
   "execution_count": null,
   "metadata": {},
   "outputs": [],
   "source": []
  },
  {
   "cell_type": "code",
   "execution_count": 168,
   "metadata": {},
   "outputs": [
    {
     "name": "stdout",
     "output_type": "stream",
     "text": [
      "ukbb T2D case p1 count: 9569\n",
      "ukbb T2D case p2 count: 598\n",
      "ukbb T2D case p1 and p2 count: 10167\n"
     ]
    }
   ],
   "source": [
    "#load ukbb T2D p1 and p2 indicators\n",
    "\n",
    "T2D_case_p1=pd.read_csv('/temp_project/ukbb/data/i0/varOutcome/T2D/T2D_case_p1.csv')\n",
    "print('ukbb T2D case p1 count: ' + str(T2D_case_p1.eid.count()))\n",
    "\n",
    "T2D_case_p2=pd.read_csv('/temp_project/ukbb/data/i0/varOutcome/T2D/T2D_case_p2.csv')\n",
    "print('ukbb T2D case p2 count: ' + str(T2D_case_p2.eid.count()))\n",
    "\n",
    "T2D_case_p1p2_list=[T2D_case_p1, T2D_case_p2]\n",
    "T2D_case_p1p2=pd.concat(T2D_case_p1p2_list,axis=0).copy()\n",
    "print('ukbb T2D case p1 and p2 count: '+str(T2D_case_p1p2.eid.count()))\n"
   ]
  },
  {
   "cell_type": "code",
   "execution_count": 347,
   "metadata": {},
   "outputs": [],
   "source": [
    "### ukbb1 and p0a0p1\n",
    "df_ukbb1_p0a0p1=pd.merge(T2D_case_p1,df_p0a0p1,on='eid',how='inner')\n",
    "df_ukbb1_p0a0p1.eid.count()   #4036\n",
    "df_ukbb1_p0a0p1_eid_list=df_ukbb1_p0a0p1.eid.tolist()\n",
    "\n",
    "df_ukbb0_p0a0p1=df_p0a0p1[~df_p0a0p1.eid.isin(df_ukbb1_p0a0p1_eid_list)]  #9702\n",
    "\n",
    "df_ukbb1_p0a0p1.to_csv('/temp_project/ukbb/data/i0/varOutcome/T2D/df_ukbb1_p0a0p1.csv', index=None)\n",
    "df_ukbb0_p0a0p1.to_csv('/temp_project/ukbb/data/i0/varOutcome/T2D/df_ukbb0_p0a0p1.csv', index=None)\n",
    "\n",
    "\n",
    "\n",
    "### ukbb1 and p1a01p01\n",
    "df_ukbb1_p1a01p01=pd.merge(T2D_case_p1,df_p1a01p01,on='eid',how='inner')\n",
    "df_ukbb1_p1a01p01.eid.count()   #4677\n",
    "df_ukbb1_p1a01p01_eid_list=df_ukbb1_p1a01p01.eid.tolist()\n",
    "\n",
    "df_ukbb0_p1a01p01=df_p1a01p01[~df_p1a01p01.eid.isin(df_ukbb1_p1a01p01_eid_list)]   #4018\n",
    "\n",
    "df_ukbb1_p1a01p01.to_csv('/temp_project/ukbb/data/i0/varOutcome/T2D/df_ukbb1_p1a01p01.csv', index=None)\n",
    "df_ukbb0_p1a01p01.to_csv('/temp_project/ukbb/data/i0/varOutcome/T2D/df_ukbb0_p1a01p01.csv', index=None)\n",
    "\n",
    "\n",
    "\n",
    "### ukbb1 and p0a1p01\n",
    "df_ukbb1_p0a1p01=pd.merge(T2D_case_p1,df_p0a1p01,on='eid',how='inner')\n",
    "df_ukbb1_p0a1p01.eid.count()   #855\n",
    "df_ukbb1_p0a1p01_eid_list=df_ukbb1_p0a1p01.eid.tolist()\n",
    "\n",
    "df_ukbb0_p0a1p01=df_p0a1p01[~df_p0a1p01.eid.isin(df_ukbb1_p0a1p01_eid_list)]  #833\n",
    "\n",
    "df_ukbb1_p0a1p01.to_csv('/temp_project/ukbb/data/i0/varOutcome/T2D/df_ukbb1_p0a1p01.csv', index=None)\n",
    "df_ukbb0_p0a1p01.to_csv('/temp_project/ukbb/data/i0/varOutcome/T2D/df_ukbb0_p0a1p01.csv', index=None)\n",
    "\n"
   ]
  },
  {
   "cell_type": "code",
   "execution_count": null,
   "metadata": {},
   "outputs": [],
   "source": []
  },
  {
   "cell_type": "code",
   "execution_count": null,
   "metadata": {},
   "outputs": [],
   "source": []
  },
  {
   "cell_type": "code",
   "execution_count": 192,
   "metadata": {},
   "outputs": [],
   "source": [
    "### T2D diseased dataframe\n",
    "df_T2D_diseased_list=[df_ukbb1_p0a0p1, df_ukbb1_p1a01p01, df_ukbb1_p0a1p01]\n",
    "df_T2D_diseased=pd.concat(df_T2D_diseased_list, axis=0)\n",
    "\n",
    "\n"
   ]
  },
  {
   "cell_type": "markdown",
   "metadata": {},
   "source": [
    "## save T2D diseased dataframe"
   ]
  },
  {
   "cell_type": "code",
   "execution_count": 346,
   "metadata": {},
   "outputs": [],
   "source": [
    "df_T2D_diseased.to_csv('/temp_project/ukbb/data/i0/varOutcome/T2D/df_T2D_diseased.csv', index=None)"
   ]
  },
  {
   "cell_type": "code",
   "execution_count": null,
   "metadata": {},
   "outputs": [],
   "source": []
  },
  {
   "cell_type": "code",
   "execution_count": 220,
   "metadata": {},
   "outputs": [
    {
     "data": {
      "text/plain": [
       "9702"
      ]
     },
     "execution_count": 220,
     "metadata": {},
     "output_type": "execute_result"
    }
   ],
   "source": [
    "### T2D incubation dataframe\n",
    "df_T2D_incubation=df_ukbb0_p0a0p1.copy()\n",
    "\n",
    "\n",
    "### build 2yr/5yr/5yr+ time window for incubating T2D dataframe\n",
    "### create incubating indicator\n",
    "df_T2D_incubation_eid=df_T2D_incubation[['eid']].copy()\n",
    "df_T2D_incubation_eid['incu_ind']=np.repeat(1, df_T2D_incubation_eid.eid.count())\n",
    "\n",
    "\n",
    "### select dataframe for generating time window\n",
    "df_T2D_HES_ukbb_incu_temp=pd.merge(hesin_T2D_wd_wrk_ukbb_date2,df_T2D_incubation_eid, on='eid', how='left')\n",
    "df_T2D_HES_ukbb_incu_temp2=df_T2D_HES_ukbb_incu_temp[df_T2D_HES_ukbb_incu_temp.incu_ind==1].copy()\n",
    "len(df_T2D_HES_ukbb_incu_temp2.eid.unique())\n"
   ]
  },
  {
   "cell_type": "code",
   "execution_count": 263,
   "metadata": {},
   "outputs": [
    {
     "data": {
      "text/plain": [
       "2765"
      ]
     },
     "execution_count": 263,
     "metadata": {},
     "output_type": "execute_result"
    }
   ],
   "source": [
    "### 2yr window\n",
    "\n",
    "df_T2D_HES_ukbb_incu_temp2['w2yr']=df_T2D_HES_ukbb_incu_temp2['diff_yr'].apply(lambda y: 0 if y<0 else (1 if y<=2 else 0))\n",
    "df_T2D_HES_ukbb_incu_temp3=df_T2D_HES_ukbb_incu_temp2[df_T2D_HES_ukbb_incu_temp2.w2yr==1].copy()\n",
    "#df_T2D_HES_ukbb_incu_w2yr_eid_list=df_T2D_HES_ukbb_incu_temp3.eid.unique.tolist()\n",
    "len(df_T2D_HES_ukbb_incu_temp3.eid.unique())  #6096\n",
    "\n",
    "df_T2D_HES_ukbb_incu_temp4=df_T2D_HES_ukbb_incu_temp3[['eid','HES_T2D_ind','w2yr']].drop_duplicates().sort_values(by=['eid','HES_T2D_ind'], ascending=[True, False])\n",
    "len(df_T2D_HES_ukbb_incu_temp4.eid.unique())  #6096\n",
    "\n",
    "### multiple T2D at same eid, only select one with T2D=1, drop others\n",
    "df_T2D_HES_ukbb_incu_temp4.loc[ df_T2D_HES_ukbb_incu_temp4.groupby(['eid'],as_index=False).nth([0]).index, 'flag_1st' ] = 1\n",
    "df_T2D_HES_ukbb_incu_temp5 = df_T2D_HES_ukbb_incu_temp4.dropna()\n",
    "\n",
    "df_T2D_HES_ukbb_incu_w2yr=df_T2D_HES_ukbb_incu_temp5[df_T2D_HES_ukbb_incu_temp5.HES_T2D_ind==1].copy() #2765\n",
    "df_T2D_HES_ukbb_incu_w2yr_eid_list=df_T2D_HES_ukbb_incu_temp5[df_T2D_HES_ukbb_incu_temp5.HES_T2D_ind==1].eid.tolist()\n",
    "\n",
    "df_T2D_HES_ukbb_incu_temp5.HES_T2D_ind.value_counts()\n",
    "df_T2D_HES_ukbb_incu_w2yr.HES_T2D_ind.value_counts()\n",
    "len(df_T2D_HES_ukbb_incu_w2yr.eid.unique())\n",
    "\n",
    "\n",
    "\n",
    "### 5yr window\n",
    "\n",
    "df_T2D_HES_ukbb_incu_w5yr_temp=df_T2D_HES_ukbb_incu_temp2[~df_T2D_HES_ukbb_incu_temp2.eid.isin(df_T2D_HES_ukbb_incu_w2yr_eid_list)].copy()\n",
    "df_T2D_HES_ukbb_incu_w5yr_temp['w5yr']=df_T2D_HES_ukbb_incu_w5yr_temp['diff_yr'].apply(lambda y: 0 if y<=2 else (1 if y<=5 else 0))\n",
    "len(df_T2D_HES_ukbb_incu_w5yr_temp.eid.unique())  #6937\n",
    "\n",
    "df_T2D_HES_ukbb_incu_w5yr_temp2 = df_T2D_HES_ukbb_incu_w5yr_temp[df_T2D_HES_ukbb_incu_w5yr_temp.w5yr==1].copy()\n",
    "len(df_T2D_HES_ukbb_incu_w5yr_temp2.eid.unique())  #5984\n",
    "df_T2D_HES_ukbb_incu_w5yr_temp3 = df_T2D_HES_ukbb_incu_w5yr_temp2[['eid','HES_T2D_ind','w5yr']].drop_duplicates().sort_values(by=['eid','HES_T2D_ind'], ascending=[True, False])\n",
    "\n",
    "### multiple T2D at same eid, only select one with T2D=1, drop others\n",
    "df_T2D_HES_ukbb_incu_w5yr_temp3.loc[ df_T2D_HES_ukbb_incu_w5yr_temp3.groupby(['eid'],as_index=False).nth([0]).index, 'flag_1st' ] = 1\n",
    "df_T2D_HES_ukbb_incu_w5yr_temp4 = df_T2D_HES_ukbb_incu_w5yr_temp3.dropna()\n",
    "\n",
    "df_T2D_HES_ukbb_incu_w5yr=df_T2D_HES_ukbb_incu_w5yr_temp4[df_T2D_HES_ukbb_incu_w5yr_temp4.HES_T2D_ind==1].copy() #2765\n",
    "df_T2D_HES_ukbb_incu_w5yr_eid_list=df_T2D_HES_ukbb_incu_w5yr_temp4[df_T2D_HES_ukbb_incu_w5yr_temp4.HES_T2D_ind==1].eid.tolist()\n",
    "\n",
    "### 5yr+ window\n",
    "\n",
    "df_T2D_HES_ukbb_incu_w5yrplus_temp=df_T2D_HES_ukbb_incu_temp2[(~df_T2D_HES_ukbb_incu_temp2.eid.isin(df_T2D_HES_ukbb_incu_w2yr_eid_list)) &\n",
    "                          (~df_T2D_HES_ukbb_incu_temp2.eid.isin(df_T2D_HES_ukbb_incu_w5yr_eid_list))].copy()\n",
    "\n",
    "len(df_T2D_HES_ukbb_incu_w5yrplus_temp.eid.unique())    #1812\n",
    "\n",
    "df_T2D_HES_ukbb_incu_w5yrplus_temp2 = df_T2D_HES_ukbb_incu_w5yrplus_temp[df_T2D_HES_ukbb_incu_w5yrplus_temp.HES_T2D_ind==1].copy()\n",
    "df_T2D_HES_ukbb_incu_w5yrplus_temp2['w5yrplus']=df_T2D_HES_ukbb_incu_w5yrplus_temp2['diff_yr'].apply(lambda y: 1 if y>5 else 0)\n",
    "df_T2D_HES_ukbb_incu_w5yrplus = df_T2D_HES_ukbb_incu_w5yrplus_temp2[['eid', 'HES_T2D_ind', 'w5yrplus']].drop_duplicates().copy()\n",
    "\n",
    "### merge 3 time windows\n",
    "\n",
    "df_T2D_HES_ukbb_incu_w2yr_merge = df_T2D_HES_ukbb_incu_w2yr[['eid']].copy()\n",
    "df_T2D_HES_ukbb_incu_w2yr_merge['w2yr_T2D'] = np.repeat(1, df_T2D_HES_ukbb_incu_w2yr_merge.eid.count())\n",
    "\n",
    "df_T2D_HES_ukbb_incu_w5yr_merge = df_T2D_HES_ukbb_incu_w5yr[['eid']].copy()\n",
    "df_T2D_HES_ukbb_incu_w5yr_merge['w5yr_T2D'] = np.repeat(1, df_T2D_HES_ukbb_incu_w5yr_merge.eid.count())\n",
    "\n",
    "df_T2D_HES_ukbb_incu_w5yrplus_merge = df_T2D_HES_ukbb_incu_w5yrplus[['eid']].copy()\n",
    "df_T2D_HES_ukbb_incu_w5yrplus_merge['w5yrplus_T2D'] = np.repeat(1, df_T2D_HES_ukbb_incu_w5yrplus_merge.eid.count())\n",
    "\n",
    "\n",
    "df_T2D_HES_ukbb_incu_win1 = pd.merge(df_T2D_HES_ukbb_incu_w2yr_merge, df_T2D_HES_ukbb_incu_w5yr_merge, on='eid', how='outer')\n",
    "df_T2D_HES_ukbb_incu_win2 = pd.merge(df_T2D_HES_ukbb_incu_win1, df_T2D_HES_ukbb_incu_w5yrplus_merge, on='eid', how='outer')\n",
    "\n",
    "df_T2D_HES_ukbb_incu_with_time_window = df_T2D_HES_ukbb_incu_win2.fillna(0)\n",
    "df_T2D_HES_ukbb_incu_with_time_window.count()\n"
   ]
  },
  {
   "cell_type": "markdown",
   "metadata": {},
   "source": [
    "## save T2D incubation dataframe"
   ]
  },
  {
   "cell_type": "code",
   "execution_count": 348,
   "metadata": {},
   "outputs": [
    {
     "data": {
      "text/html": [
       "<div>\n",
       "<style scoped>\n",
       "    .dataframe tbody tr th:only-of-type {\n",
       "        vertical-align: middle;\n",
       "    }\n",
       "\n",
       "    .dataframe tbody tr th {\n",
       "        vertical-align: top;\n",
       "    }\n",
       "\n",
       "    .dataframe thead th {\n",
       "        text-align: right;\n",
       "    }\n",
       "</style>\n",
       "<table border=\"1\" class=\"dataframe\">\n",
       "  <thead>\n",
       "    <tr style=\"text-align: right;\">\n",
       "      <th></th>\n",
       "      <th>eid</th>\n",
       "      <th>w2yr_T2D</th>\n",
       "      <th>w5yr_T2D</th>\n",
       "      <th>w5yrplus_T2D</th>\n",
       "    </tr>\n",
       "  </thead>\n",
       "  <tbody>\n",
       "    <tr>\n",
       "      <th>0</th>\n",
       "      <td>1002191</td>\n",
       "      <td>1.0</td>\n",
       "      <td>0.0</td>\n",
       "      <td>0.0</td>\n",
       "    </tr>\n",
       "    <tr>\n",
       "      <th>1</th>\n",
       "      <td>1005134</td>\n",
       "      <td>1.0</td>\n",
       "      <td>0.0</td>\n",
       "      <td>0.0</td>\n",
       "    </tr>\n",
       "    <tr>\n",
       "      <th>2</th>\n",
       "      <td>1011281</td>\n",
       "      <td>1.0</td>\n",
       "      <td>0.0</td>\n",
       "      <td>0.0</td>\n",
       "    </tr>\n",
       "    <tr>\n",
       "      <th>3</th>\n",
       "      <td>1015397</td>\n",
       "      <td>1.0</td>\n",
       "      <td>0.0</td>\n",
       "      <td>0.0</td>\n",
       "    </tr>\n",
       "    <tr>\n",
       "      <th>4</th>\n",
       "      <td>1016455</td>\n",
       "      <td>1.0</td>\n",
       "      <td>0.0</td>\n",
       "      <td>0.0</td>\n",
       "    </tr>\n",
       "  </tbody>\n",
       "</table>\n",
       "</div>"
      ],
      "text/plain": [
       "       eid  w2yr_T2D  w5yr_T2D  w5yrplus_T2D\n",
       "0  1002191       1.0       0.0           0.0\n",
       "1  1005134       1.0       0.0           0.0\n",
       "2  1011281       1.0       0.0           0.0\n",
       "3  1015397       1.0       0.0           0.0\n",
       "4  1016455       1.0       0.0           0.0"
      ]
     },
     "execution_count": 348,
     "metadata": {},
     "output_type": "execute_result"
    }
   ],
   "source": [
    "df_T2D_HES_ukbb_incu_with_time_window.to_csv('/temp_project/ukbb/data/i0/varOutcome/T2D/df_T2D_incubation.csv', index=None)\n",
    "df_T2D_HES_ukbb_incu_with_time_window.head()"
   ]
  },
  {
   "cell_type": "code",
   "execution_count": 349,
   "metadata": {},
   "outputs": [
    {
     "data": {
      "text/plain": [
       "eid             9702\n",
       "w2yr_T2D        2765\n",
       "w5yr_T2D        5125\n",
       "w5yrplus_T2D    1812\n",
       "dtype: int64"
      ]
     },
     "execution_count": 349,
     "metadata": {},
     "output_type": "execute_result"
    }
   ],
   "source": [
    "df_T2D_HES_ukbb_incu_win2.count()"
   ]
  },
  {
   "cell_type": "code",
   "execution_count": null,
   "metadata": {},
   "outputs": [],
   "source": []
  },
  {
   "cell_type": "code",
   "execution_count": null,
   "metadata": {},
   "outputs": [],
   "source": []
  },
  {
   "cell_type": "code",
   "execution_count": null,
   "metadata": {},
   "outputs": [],
   "source": []
  },
  {
   "cell_type": "code",
   "execution_count": null,
   "metadata": {},
   "outputs": [],
   "source": []
  },
  {
   "cell_type": "code",
   "execution_count": null,
   "metadata": {},
   "outputs": [],
   "source": []
  },
  {
   "cell_type": "code",
   "execution_count": null,
   "metadata": {},
   "outputs": [],
   "source": []
  },
  {
   "cell_type": "markdown",
   "metadata": {},
   "source": [
    "### Program ends here, below is test code"
   ]
  }
 ],
 "metadata": {
  "kernelspec": {
   "display_name": "Python 3",
   "language": "python",
   "name": "python3"
  },
  "language_info": {
   "codemirror_mode": {
    "name": "ipython",
    "version": 3
   },
   "file_extension": ".py",
   "mimetype": "text/x-python",
   "name": "python",
   "nbconvert_exporter": "python",
   "pygments_lexer": "ipython3",
   "version": "3.6.5"
  }
 },
 "nbformat": 4,
 "nbformat_minor": 2
}
