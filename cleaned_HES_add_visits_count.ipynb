{
 "cells": [
  {
   "cell_type": "markdown",
   "metadata": {},
   "source": [
    "# HES data preprocessing\n",
    "\n",
    "Add secondary ICD9/10 to main data (hesin) \n",
    "\n",
    "Add baseline date from ukbb data\n",
    "\n",
    "Add visit count for HES data"
   ]
  },
  {
   "cell_type": "code",
   "execution_count": 7,
   "metadata": {},
   "outputs": [],
   "source": [
    "import os\n",
    "import pandas as pd\n",
    "import numpy as np\n",
    "\n",
    "os.chdir('/projects/ps-janssen3/dsci-pa/yhuan162/temp_project/all_codes/')\n",
    "from ukbb_ldbf import load_data_by_fid"
   ]
  },
  {
   "cell_type": "markdown",
   "metadata": {},
   "source": [
    "### Add secondary ICD9/10 to main data (hesin) "
   ]
  },
  {
   "cell_type": "code",
   "execution_count": 8,
   "metadata": {},
   "outputs": [
    {
     "name": "stdout",
     "output_type": "stream",
     "text": [
      "CPU times: user 1e+03 µs, sys: 0 ns, total: 1e+03 µs\n",
      "Wall time: 303 µs\n",
      "hesin records count: 2577597\n",
      "hesin unique eid count: 395859\n",
      "CPU times: user 1 ms, sys: 0 ns, total: 1 ms\n",
      "Wall time: 247 µs\n",
      "hesin_icd9s records count: 14808\n",
      "hesin_icd9s unique eid count: 8716\n",
      "CPU times: user 0 ns, sys: 0 ns, total: 0 ns\n",
      "Wall time: 146 µs\n",
      "hesin_icd10s records count: 1694827\n",
      "hesin_icd10s unique eid count: 320334\n",
      "main diag count: 2577597\n",
      "secondary icd 9 diag count: 14808\n",
      "secondary icd 10 diag count: 1694827\n"
     ]
    },
    {
     "data": {
      "text/plain": [
       "['eid',\n",
       " 'record_id',\n",
       " 'admidate',\n",
       " 'anagest',\n",
       " 'anasdate',\n",
       " 'cause_icd10',\n",
       " 'cause_icd10_nb',\n",
       " 'diag_icd10',\n",
       " 'diag_icd10_nb',\n",
       " 'diag_icd9',\n",
       " 'diag_icd9_nb',\n",
       " 'disdate',\n",
       " 'epiend',\n",
       " 'epistart',\n",
       " 'matage',\n",
       " 'neocare',\n",
       " 'numbaby',\n",
       " 'numpreg',\n",
       " 'opdate',\n",
       " 'oper4',\n",
       " 'oper4_nb',\n",
       " 'operstat',\n",
       " 'diag_icd9_sec',\n",
       " 'diag_icd9_nb_sec',\n",
       " 'diag_icd10_sec',\n",
       " 'diag_icd10_nb_sec']"
      ]
     },
     "execution_count": 8,
     "metadata": {},
     "output_type": "execute_result"
    }
   ],
   "source": [
    "os.chdir(\"/projects/ps-janssen3/dsci-pa/yhuan162/temp_project/HES\")\n",
    "\n",
    "#load ICD main diagnosis\n",
    "hesin=pd.read_csv('ukb_hesin.tsv',delimiter='\\t',encoding='utf-8')\n",
    "\n",
    "#load ICD secondary diagnosis\n",
    "hesin_icd9s=pd.read_csv('ukb_hesin_diag9_wide_vec.tsv',delimiter='\\t',encoding='utf-8')\n",
    "hesin_icd10s=pd.read_csv('ukb_hesin_diag10_wide_vec.tsv',delimiter='\\t',encoding='utf-8')\n",
    "\n",
    "%time hesin.head()\n",
    "print('hesin records count: '+ str(hesin.eid.count()))\n",
    "print('hesin unique eid count: '+ str(len(hesin.eid.unique())))\n",
    "\n",
    "%time hesin_icd9s.head()\n",
    "print('hesin_icd9s records count: '+ str(hesin_icd9s.eid.count()))\n",
    "print('hesin_icd9s unique eid count: '+ str(len(hesin_icd9s.eid.unique())))\n",
    "\n",
    "%time hesin_icd10s.head()\n",
    "print('hesin_icd10s records count: '+ str(hesin_icd10s.eid.count()))\n",
    "print('hesin_icd10s unique eid count: '+ str(len(hesin_icd10s.eid.unique())))\n",
    "\n",
    "### merge 9s / 10s to hesin\n",
    "hesin_add_sec9=pd.merge(hesin, hesin_icd9s, on=['eid','record_id'], how='outer')\n",
    "hesin_add_sec910=pd.merge(hesin_add_sec9, hesin_icd10s, on=['eid','record_id'], how='outer')\n",
    "hesin_add_sec910.to_csv('hesin_add_sec910.tsv', index=None, sep='\\t')\n",
    "\n",
    "\n",
    "print('main diag count: '+str(hesin.eid.count()))\n",
    "print('secondary icd 9 diag count: '+str(hesin_icd9s.eid.count()))\n",
    "print('secondary icd 10 diag count: '+str(hesin_icd10s.eid.count()))\n",
    "hesin_icd10s.head()\n",
    "hesin_icd9s.head()\n",
    "hesin_add_sec910.columns.tolist()"
   ]
  },
  {
   "cell_type": "markdown",
   "metadata": {},
   "source": [
    "### Get date info \n",
    "\n",
    "\n",
    "[x] Create date variable 'any_date' for HES (any_yr = the year at any_date)\n",
    "\n",
    "[x] Add baseline date from ukbb data (att_date= the date the subject went to assessment center, att_yr= the year at att_date)\n",
    "\n",
    "[x] Create year difference variable: diff_yr= any_yr - att_yr\n"
   ]
  },
  {
   "cell_type": "code",
   "execution_count": 30,
   "metadata": {},
   "outputs": [
    {
     "data": {
      "text/plain": [
       "'/projects/ps-janssen3/dsci-pa/yhuan162/temp_project/ukbb/data/i0/var_dat'"
      ]
     },
     "execution_count": 30,
     "metadata": {},
     "output_type": "execute_result"
    }
   ],
   "source": [
    "pwd()"
   ]
  },
  {
   "cell_type": "code",
   "execution_count": 10,
   "metadata": {},
   "outputs": [
    {
     "name": "stdout",
     "output_type": "stream",
     "text": [
      "record count: 2577597\n",
      "any_date count: 2577595\n"
     ]
    }
   ],
   "source": [
    "### Create date variable for HES\n",
    "\n",
    "\n",
    "hesin_date=hesin[['eid','record_id','admidate','anasdate','disdate','epiend','epistart','opdate']].copy()\n",
    "hesin_date['admidate'] = pd.to_datetime(hesin_date['admidate'])\n",
    "hesin_date['anasdate'] = pd.to_datetime(hesin_date['anasdate'])\n",
    "hesin_date['disdate'] = pd.to_datetime(hesin_date['disdate'])\n",
    "hesin_date['epiend'] = pd.to_datetime(hesin_date['epiend'])\n",
    "hesin_date['epistart'] = pd.to_datetime(hesin_date['epistart'])\n",
    "hesin_date['opdate'] = pd.to_datetime(hesin_date['opdate'])\n",
    "\n",
    "hesin_date['any_date']=hesin_date.drop(['eid','record_id'],axis=1).min(axis=1)\n",
    "hesin_date['any_yr']=hesin_date['any_date'].dt.year\n",
    "print('record count: '+str(hesin_date.eid.count()))\n",
    "print('any_date count: '+str(hesin_date.any_date.count()))\n",
    "\n",
    "hesin_date.to_csv('hesin_date.tsv', sep='\\t', index=None)"
   ]
  },
  {
   "cell_type": "code",
   "execution_count": 12,
   "metadata": {},
   "outputs": [
    {
     "name": "stdout",
     "output_type": "stream",
     "text": [
      "fid 53 is a single-measure date variable, which is \n",
      "Date of attending assessment centre\n"
     ]
    }
   ],
   "source": [
    "### Add baseline date from ukbb data\n",
    "\n",
    "## 53 Date info for ukbb\n",
    "df53 = load_data_by_fid(53)\n",
    "\n",
    "df53.columns=['eid','att_date']\n",
    "df53['att_date']=pd.to_datetime(df53['att_date'])\n",
    "df53['att_yr']=df53['att_date'].dt.year\n",
    "\n",
    "df53.to_csv('/projects/ps-janssen3/dsci-pa/yhuan162/temp_project/ukbb/data/dfoi/ukbb_date.csv', index=None)\n",
    "\n",
    "\n",
    "ukbb_date = pd.read_csv('/projects/ps-janssen3/dsci-pa/yhuan162/temp_project/ukbb/data/dfoi/ukbb_date.csv')\n",
    "ukbb_date['att_date'] = pd.to_datetime(ukbb_date['att_date'])\n",
    "\n",
    "\n",
    "hesin_ukbb_date = pd.merge(hesin_date, ukbb_date, on='eid', how='left').copy()\n",
    "hesin_ukbb_date_merge=hesin_ukbb_date[['eid','record_id','any_date', 'any_yr', 'att_date', 'att_yr']].copy()\n",
    "\n"
   ]
  },
  {
   "cell_type": "code",
   "execution_count": 31,
   "metadata": {},
   "outputs": [],
   "source": [
    "### reset working directory\n",
    "os.chdir(\"/projects/ps-janssen3/dsci-pa/yhuan162/temp_project/HES\")"
   ]
  },
  {
   "cell_type": "code",
   "execution_count": 13,
   "metadata": {},
   "outputs": [],
   "source": [
    "### Create year difference variable: diff_yr= any_yr - att_yr\n",
    "### classified into 3 categories: \n",
    "### 1= pre baseline\n",
    "### 2= at baseline\n",
    "### 3= post baseline\n",
    "\n",
    "\n",
    "hesin_ukbb_date_merge['diff_yr']= hesin_ukbb_date_merge['any_yr'] - hesin_ukbb_date_merge['att_yr']\n",
    "hesin_ukbb_date_merge['diff_yr_cat']=hesin_ukbb_date_merge['diff_yr'].apply(lambda y: 1 if y<0 else (2 if y==0 else (3 if str(y)!='nan' else np.nan)))\n"
   ]
  },
  {
   "cell_type": "markdown",
   "metadata": {},
   "source": [
    "### Add ICD count info\n",
    "\n",
    "[x] Add icd exact count variable 'icd_exact_ct_diag_icd9msicd10ms': count how many icd exact reported per record\n",
    "\n",
    "[x] Add icd exist indicator variable 'icd_exist_ind_diag_icd9msicd10ms': indicates if record had at least one icd code \n"
   ]
  },
  {
   "cell_type": "code",
   "execution_count": 14,
   "metadata": {},
   "outputs": [],
   "source": [
    "### Add icd exact count variable: count how many icd exact reported per record\n",
    "\n",
    "hesin_allicd= hesin_add_sec910.copy()\n",
    "\n",
    "hesin_allicd['icd_exact_ct_diag_icd10m'] = hesin_allicd['diag_icd10'].astype(str).apply(lambda y: 0 if y=='nan' else len(str(y).split(',')))\n",
    "hesin_allicd['icd_exact_ct_diag_icd10s'] = hesin_allicd['diag_icd10_sec'].astype(str).apply(lambda y: 0 if y=='nan' else len(str(y).split(',')))\n",
    "hesin_allicd['icd_exact_ct_diag_icd9m'] = hesin_allicd['diag_icd9'].astype(str).apply(lambda y: 0 if y=='nan' else len(str(y).split(',')))\n",
    "hesin_allicd['icd_exact_ct_diag_icd9s'] = hesin_allicd['diag_icd9_sec'].astype(str).apply(lambda y: 0 if y=='nan' else len(str(y).split(',')))\n",
    "\n",
    "hesin_allicd['icd_exact_ct_diag_icd9msicd10ms'] = hesin_allicd['icd_exact_ct_diag_icd10m']+hesin_allicd['icd_exact_ct_diag_icd10s']+hesin_allicd['icd_exact_ct_diag_icd9m']+hesin_allicd['icd_exact_ct_diag_icd9s']\n",
    "### Add icd exist indicator variable: indicates if record had at least one icd code\n",
    "hesin_allicd['icd_exist_ind_diag_icd9msicd10ms']= hesin_allicd['icd_exact_ct_diag_icd9msicd10ms'].apply(lambda y: 1 if y>0 else 0)\n"
   ]
  },
  {
   "cell_type": "code",
   "execution_count": 15,
   "metadata": {},
   "outputs": [
    {
     "data": {
      "text/plain": [
       "Index(['eid', 'record_id', 'admidate', 'anagest', 'anasdate', 'cause_icd10',\n",
       "       'cause_icd10_nb', 'diag_icd10', 'diag_icd10_nb', 'diag_icd9',\n",
       "       'diag_icd9_nb', 'disdate', 'epiend', 'epistart', 'matage', 'neocare',\n",
       "       'numbaby', 'numpreg', 'opdate', 'oper4', 'oper4_nb', 'operstat',\n",
       "       'diag_icd9_sec', 'diag_icd9_nb_sec', 'diag_icd10_sec',\n",
       "       'diag_icd10_nb_sec', 'icd_exact_ct_diag_icd10m',\n",
       "       'icd_exact_ct_diag_icd10s', 'icd_exact_ct_diag_icd9m',\n",
       "       'icd_exact_ct_diag_icd9s', 'icd_exact_ct_diag_icd9msicd10ms',\n",
       "       'icd_exist_ind_diag_icd9msicd10ms'],\n",
       "      dtype='object')"
      ]
     },
     "execution_count": 15,
     "metadata": {},
     "output_type": "execute_result"
    }
   ],
   "source": [
    "hesin_allicd.columns"
   ]
  },
  {
   "cell_type": "code",
   "execution_count": 16,
   "metadata": {},
   "outputs": [
    {
     "data": {
      "text/plain": [
       "Index(['eid', 'record_id', 'any_date', 'any_yr', 'att_date', 'att_yr',\n",
       "       'diff_yr', 'diff_yr_cat'],\n",
       "      dtype='object')"
      ]
     },
     "execution_count": 16,
     "metadata": {},
     "output_type": "execute_result"
    }
   ],
   "source": [
    "hesin_ukbb_date_merge.columns"
   ]
  },
  {
   "cell_type": "code",
   "execution_count": 17,
   "metadata": {},
   "outputs": [],
   "source": [
    "### merge date and count dataframe\n",
    "\n",
    "hesin_ukbb_date_icd_count_merged=pd.merge(hesin_allicd, hesin_ukbb_date_merge, on=['eid','record_id'], how='outer')"
   ]
  },
  {
   "cell_type": "code",
   "execution_count": 18,
   "metadata": {},
   "outputs": [
    {
     "data": {
      "text/plain": [
       "Index(['eid', 'record_id', 'admidate', 'anagest', 'anasdate', 'cause_icd10',\n",
       "       'cause_icd10_nb', 'diag_icd10', 'diag_icd10_nb', 'diag_icd9',\n",
       "       'diag_icd9_nb', 'disdate', 'epiend', 'epistart', 'matage', 'neocare',\n",
       "       'numbaby', 'numpreg', 'opdate', 'oper4', 'oper4_nb', 'operstat',\n",
       "       'diag_icd9_sec', 'diag_icd9_nb_sec', 'diag_icd10_sec',\n",
       "       'diag_icd10_nb_sec', 'icd_exact_ct_diag_icd10m',\n",
       "       'icd_exact_ct_diag_icd10s', 'icd_exact_ct_diag_icd9m',\n",
       "       'icd_exact_ct_diag_icd9s', 'icd_exact_ct_diag_icd9msicd10ms',\n",
       "       'icd_exist_ind_diag_icd9msicd10ms', 'any_date', 'any_yr', 'att_date',\n",
       "       'att_yr', 'diff_yr', 'diff_yr_cat'],\n",
       "      dtype='object')"
      ]
     },
     "execution_count": 18,
     "metadata": {},
     "output_type": "execute_result"
    }
   ],
   "source": [
    "hesin_ukbb_date_icd_count_merged.eid.count()\n",
    "hesin_ukbb_date_icd_count_merged.columns"
   ]
  },
  {
   "cell_type": "code",
   "execution_count": 19,
   "metadata": {},
   "outputs": [],
   "source": [
    "hesin_ukbb_date_icd_count_temp = hesin_ukbb_date_icd_count_merged[['eid', 'record_id',  'icd_exact_ct_diag_icd9msicd10ms',\n",
    "       'icd_exist_ind_diag_icd9msicd10ms', 'any_date', 'any_yr', 'att_date',\n",
    "       'att_yr', 'diff_yr', 'diff_yr_cat']].dropna().copy()"
   ]
  },
  {
   "cell_type": "code",
   "execution_count": 20,
   "metadata": {},
   "outputs": [],
   "source": [
    "### Overall visit/icd count\n",
    "\n",
    "### Get count of visit with icd reported in hes: hes_icd_reported_ct\n",
    "hesin_ukbb_date_icd_count_temp1 = hesin_ukbb_date_icd_count_temp[['eid', 'icd_exist_ind_diag_icd9msicd10ms']].sort_values(by=['eid']).copy()\n",
    "hesin_ukbb_date_icd_count_temp1_0 = hesin_ukbb_date_icd_count_temp1.set_index(['eid'])\n",
    "hesin_ukbb_date_icd_count_temp1_1 = hesin_ukbb_date_icd_count_temp1_0.groupby(by=['eid']).sum().groupby(level=[0]).cumsum()\n",
    "hesin_ukbb_date_icd_count_temp1_to_merge = hesin_ukbb_date_icd_count_temp1_1.reset_index()\n",
    "hesin_ukbb_date_icd_count_temp1_to_merge.columns = ['eid', 'hes_icd_reported_ct']\n",
    "\n",
    "### Get count of icd exact reported in hes: hes_icd_exact_ct \n",
    "hesin_ukbb_date_icd_count_temp2 = hesin_ukbb_date_icd_count_temp[['eid' ,'icd_exact_ct_diag_icd9msicd10ms']].copy()\n",
    "hesin_ukbb_date_icd_count_temp3 = hesin_ukbb_date_icd_count_temp2.set_index(['eid'])\n",
    "hesin_ukbb_date_icd_count_temp4 = hesin_ukbb_date_icd_count_temp3.groupby(by=['eid']).sum().groupby(level=[0]).cumsum()\n",
    "hesin_ukbb_date_icd_count_temp4_to_merge = hesin_ukbb_date_icd_count_temp4.reset_index()\n",
    "hesin_ukbb_date_icd_count_temp4_to_merge.columns = ['eid', 'hes_icd_exact_ct']\n",
    "\n",
    "hesin_ukbb_date_icd_count_temp14_to_merge = pd.merge(hesin_ukbb_date_icd_count_temp1_to_merge, hesin_ukbb_date_icd_count_temp4_to_merge, on=['eid'], how='outer')\n"
   ]
  },
  {
   "cell_type": "code",
   "execution_count": 21,
   "metadata": {},
   "outputs": [],
   "source": [
    "### pre baseline visit/icd count\n",
    "hesin_ukbb_date_icd_count_temp0_pre = hesin_ukbb_date_icd_count_temp[hesin_ukbb_date_icd_count_temp.diff_yr_cat==1][['eid', 'icd_exact_ct_diag_icd9msicd10ms', 'icd_exist_ind_diag_icd9msicd10ms']].sort_values(by=['eid']).copy()\n",
    "\n",
    "### Get pre baseline count of visit with icd reported in hes: hes_icd_reported_ct\n",
    "hesin_ukbb_date_icd_count_temp1_pre = hesin_ukbb_date_icd_count_temp0_pre[['eid', 'icd_exist_ind_diag_icd9msicd10ms']].sort_values(by=['eid']).copy()\n",
    "hesin_ukbb_date_icd_count_temp1_0_pre = hesin_ukbb_date_icd_count_temp1_pre.set_index(['eid'])\n",
    "hesin_ukbb_date_icd_count_temp1_1_pre = hesin_ukbb_date_icd_count_temp1_0_pre.groupby(by=['eid']).sum().groupby(level=[0]).cumsum()\n",
    "hesin_ukbb_date_icd_count_temp1_pre_to_merge = hesin_ukbb_date_icd_count_temp1_1_pre.reset_index()\n",
    "hesin_ukbb_date_icd_count_temp1_pre_to_merge.columns = ['eid', 'hes_icd_reported_ct_pre']\n",
    "\n",
    "### Get count of icd exact reported in hes: hes_icd_exact_ct \n",
    "hesin_ukbb_date_icd_count_temp2_pre = hesin_ukbb_date_icd_count_temp0_pre[['eid' ,'icd_exact_ct_diag_icd9msicd10ms']].copy()\n",
    "hesin_ukbb_date_icd_count_temp3_pre = hesin_ukbb_date_icd_count_temp2_pre.set_index(['eid'])\n",
    "hesin_ukbb_date_icd_count_temp4_pre = hesin_ukbb_date_icd_count_temp3_pre.groupby(by=['eid']).sum().groupby(level=[0]).cumsum()\n",
    "hesin_ukbb_date_icd_count_temp4_pre_to_merge = hesin_ukbb_date_icd_count_temp4_pre.reset_index()\n",
    "hesin_ukbb_date_icd_count_temp4_pre_to_merge.columns = ['eid', 'hes_icd_exact_ct_pre']\n",
    "\n",
    "hesin_ukbb_date_icd_count_temp14_pre_to_merge = pd.merge(hesin_ukbb_date_icd_count_temp1_pre_to_merge, hesin_ukbb_date_icd_count_temp4_pre_to_merge, on=['eid'], how='outer')\n",
    "\n",
    "\n",
    "\n",
    "\n",
    "\n",
    "\n",
    "### at baseline visit/icd count\n",
    "hesin_ukbb_date_icd_count_temp0_at = hesin_ukbb_date_icd_count_temp[hesin_ukbb_date_icd_count_temp.diff_yr_cat==2][['eid', 'icd_exact_ct_diag_icd9msicd10ms', 'icd_exist_ind_diag_icd9msicd10ms']].sort_values(by=['eid']).copy()\n",
    "\n",
    "### Get at baseline count of visit with icd reported in hes: hes_icd_reported_ct\n",
    "hesin_ukbb_date_icd_count_temp1_at = hesin_ukbb_date_icd_count_temp0_at[['eid', 'icd_exist_ind_diag_icd9msicd10ms']].sort_values(by=['eid']).copy()\n",
    "hesin_ukbb_date_icd_count_temp1_0_at = hesin_ukbb_date_icd_count_temp1_at.set_index(['eid'])\n",
    "hesin_ukbb_date_icd_count_temp1_1_at = hesin_ukbb_date_icd_count_temp1_0_at.groupby(by=['eid']).sum().groupby(level=[0]).cumsum()\n",
    "hesin_ukbb_date_icd_count_temp1_at_to_merge = hesin_ukbb_date_icd_count_temp1_1_at.reset_index()\n",
    "hesin_ukbb_date_icd_count_temp1_at_to_merge.columns = ['eid', 'hes_icd_reported_ct_at']\n",
    "\n",
    "### Get count of icd exact reported in hes: hes_icd_exact_ct \n",
    "hesin_ukbb_date_icd_count_temp2_at = hesin_ukbb_date_icd_count_temp0_at[['eid' ,'icd_exact_ct_diag_icd9msicd10ms']].copy()\n",
    "hesin_ukbb_date_icd_count_temp3_at = hesin_ukbb_date_icd_count_temp2_at.set_index(['eid'])\n",
    "hesin_ukbb_date_icd_count_temp4_at = hesin_ukbb_date_icd_count_temp3_at.groupby(by=['eid']).sum().groupby(level=[0]).cumsum()\n",
    "hesin_ukbb_date_icd_count_temp4_at_to_merge = hesin_ukbb_date_icd_count_temp4_at.reset_index()\n",
    "hesin_ukbb_date_icd_count_temp4_at_to_merge.columns = ['eid', 'hes_icd_exact_ct_at']\n",
    "\n",
    "hesin_ukbb_date_icd_count_temp14_at_to_merge = pd.merge(hesin_ukbb_date_icd_count_temp1_at_to_merge, hesin_ukbb_date_icd_count_temp4_at_to_merge, on=['eid'], how='outer')\n",
    "\n",
    "\n",
    "\n",
    "\n",
    "\n",
    "\n",
    "### post baseline visit/icd count\n",
    "hesin_ukbb_date_icd_count_temp0_post = hesin_ukbb_date_icd_count_temp[hesin_ukbb_date_icd_count_temp.diff_yr_cat==3][['eid', 'icd_exact_ct_diag_icd9msicd10ms', 'icd_exist_ind_diag_icd9msicd10ms']].sort_values(by=['eid']).copy()\n",
    "\n",
    "### Get post baseline count of visit with icd reported in hes: hes_icd_reported_ct\n",
    "hesin_ukbb_date_icd_count_temp1_post = hesin_ukbb_date_icd_count_temp0_post[['eid', 'icd_exist_ind_diag_icd9msicd10ms']].sort_values(by=['eid']).copy()\n",
    "hesin_ukbb_date_icd_count_temp1_0_post = hesin_ukbb_date_icd_count_temp1_post.set_index(['eid'])\n",
    "hesin_ukbb_date_icd_count_temp1_1_post = hesin_ukbb_date_icd_count_temp1_0_post.groupby(by=['eid']).sum().groupby(level=[0]).cumsum()\n",
    "hesin_ukbb_date_icd_count_temp1_post_to_merge = hesin_ukbb_date_icd_count_temp1_1_post.reset_index()\n",
    "hesin_ukbb_date_icd_count_temp1_post_to_merge.columns = ['eid', 'hes_icd_reported_ct_post']\n",
    "\n",
    "### Get count of icd exact reported in hes: hes_icd_exact_ct \n",
    "hesin_ukbb_date_icd_count_temp2_post = hesin_ukbb_date_icd_count_temp0_post[['eid' ,'icd_exact_ct_diag_icd9msicd10ms']].copy()\n",
    "hesin_ukbb_date_icd_count_temp3_post = hesin_ukbb_date_icd_count_temp2_post.set_index(['eid'])\n",
    "hesin_ukbb_date_icd_count_temp4_post = hesin_ukbb_date_icd_count_temp3_post.groupby(by=['eid']).sum().groupby(level=[0]).cumsum()\n",
    "hesin_ukbb_date_icd_count_temp4_post_to_merge = hesin_ukbb_date_icd_count_temp4_post.reset_index()\n",
    "hesin_ukbb_date_icd_count_temp4_post_to_merge.columns = ['eid', 'hes_icd_exact_ct_post']\n",
    "\n",
    "hesin_ukbb_date_icd_count_temp14_post_to_merge = pd.merge(hesin_ukbb_date_icd_count_temp1_post_to_merge, hesin_ukbb_date_icd_count_temp4_post_to_merge, on=['eid'], how='outer')\n"
   ]
  },
  {
   "cell_type": "code",
   "execution_count": 22,
   "metadata": {},
   "outputs": [],
   "source": [
    "### Add icd count detail: overall + pre/at/post baseline  icd reported/exact count \n",
    "hesin_ukbb_date_icd_count_temp_merge1 = hesin_ukbb_date_icd_count_temp[['eid','record_id']].copy()\n",
    "\n",
    "hesin_ukbb_date_icd_count_temp_merge2 = pd.merge(hesin_ukbb_date_icd_count_temp_merge1, hesin_ukbb_date_icd_count_temp14_to_merge, on=['eid'], how='outer')\n",
    "hesin_ukbb_date_icd_count_temp_merge3 = pd.merge(hesin_ukbb_date_icd_count_temp_merge2, hesin_ukbb_date_icd_count_temp14_pre_to_merge, on=['eid'], how='outer')\n",
    "hesin_ukbb_date_icd_count_temp_merge4 = pd.merge(hesin_ukbb_date_icd_count_temp_merge3, hesin_ukbb_date_icd_count_temp14_at_to_merge, on=['eid'], how='outer')\n",
    "hesin_ukbb_date_icd_count_temp_merge5 = pd.merge(hesin_ukbb_date_icd_count_temp_merge4, hesin_ukbb_date_icd_count_temp14_post_to_merge, on=['eid'], how='outer')\n"
   ]
  },
  {
   "cell_type": "code",
   "execution_count": null,
   "metadata": {},
   "outputs": [],
   "source": []
  },
  {
   "cell_type": "code",
   "execution_count": 23,
   "metadata": {},
   "outputs": [],
   "source": [
    "hesin_ukbb_date_icd_count_ready = pd.merge(hesin_ukbb_date_icd_count_merged, hesin_ukbb_date_icd_count_temp_merge5, on=['eid','record_id'], how='outer')"
   ]
  },
  {
   "cell_type": "code",
   "execution_count": 24,
   "metadata": {},
   "outputs": [
    {
     "data": {
      "text/plain": [
       "Index(['eid', 'record_id', 'admidate', 'anagest', 'anasdate', 'cause_icd10',\n",
       "       'cause_icd10_nb', 'diag_icd10', 'diag_icd10_nb', 'diag_icd9',\n",
       "       'diag_icd9_nb', 'disdate', 'epiend', 'epistart', 'matage', 'neocare',\n",
       "       'numbaby', 'numpreg', 'opdate', 'oper4', 'oper4_nb', 'operstat',\n",
       "       'diag_icd9_sec', 'diag_icd9_nb_sec', 'diag_icd10_sec',\n",
       "       'diag_icd10_nb_sec', 'icd_exact_ct_diag_icd10m',\n",
       "       'icd_exact_ct_diag_icd10s', 'icd_exact_ct_diag_icd9m',\n",
       "       'icd_exact_ct_diag_icd9s', 'icd_exact_ct_diag_icd9msicd10ms',\n",
       "       'icd_exist_ind_diag_icd9msicd10ms', 'any_date', 'any_yr', 'att_date',\n",
       "       'att_yr', 'diff_yr', 'diff_yr_cat', 'hes_icd_reported_ct',\n",
       "       'hes_icd_exact_ct', 'hes_icd_reported_ct_pre', 'hes_icd_exact_ct_pre',\n",
       "       'hes_icd_reported_ct_at', 'hes_icd_exact_ct_at',\n",
       "       'hes_icd_reported_ct_post', 'hes_icd_exact_ct_post'],\n",
       "      dtype='object')"
      ]
     },
     "execution_count": 24,
     "metadata": {},
     "output_type": "execute_result"
    }
   ],
   "source": [
    "hesin_ukbb_date_icd_count_ready.columns"
   ]
  },
  {
   "cell_type": "code",
   "execution_count": 25,
   "metadata": {},
   "outputs": [
    {
     "data": {
      "text/html": [
       "<div>\n",
       "<style scoped>\n",
       "    .dataframe tbody tr th:only-of-type {\n",
       "        vertical-align: middle;\n",
       "    }\n",
       "\n",
       "    .dataframe tbody tr th {\n",
       "        vertical-align: top;\n",
       "    }\n",
       "\n",
       "    .dataframe thead th {\n",
       "        text-align: right;\n",
       "    }\n",
       "</style>\n",
       "<table border=\"1\" class=\"dataframe\">\n",
       "  <thead>\n",
       "    <tr style=\"text-align: right;\">\n",
       "      <th></th>\n",
       "      <th>eid</th>\n",
       "      <th>record_id</th>\n",
       "      <th>admidate</th>\n",
       "      <th>anagest</th>\n",
       "      <th>anasdate</th>\n",
       "      <th>cause_icd10</th>\n",
       "      <th>cause_icd10_nb</th>\n",
       "      <th>diag_icd10</th>\n",
       "      <th>diag_icd10_nb</th>\n",
       "      <th>diag_icd9</th>\n",
       "      <th>...</th>\n",
       "      <th>diff_yr</th>\n",
       "      <th>diff_yr_cat</th>\n",
       "      <th>hes_icd_reported_ct</th>\n",
       "      <th>hes_icd_exact_ct</th>\n",
       "      <th>hes_icd_reported_ct_pre</th>\n",
       "      <th>hes_icd_exact_ct_pre</th>\n",
       "      <th>hes_icd_reported_ct_at</th>\n",
       "      <th>hes_icd_exact_ct_at</th>\n",
       "      <th>hes_icd_reported_ct_post</th>\n",
       "      <th>hes_icd_exact_ct_post</th>\n",
       "    </tr>\n",
       "  </thead>\n",
       "  <tbody>\n",
       "    <tr>\n",
       "      <th>0</th>\n",
       "      <td>1772719</td>\n",
       "      <td>1071463</td>\n",
       "      <td>2003-05-15</td>\n",
       "      <td>NaN</td>\n",
       "      <td>NaN</td>\n",
       "      <td>NaN</td>\n",
       "      <td>NaN</td>\n",
       "      <td>R198</td>\n",
       "      <td>NaN</td>\n",
       "      <td>NaN</td>\n",
       "      <td>...</td>\n",
       "      <td>-6.0</td>\n",
       "      <td>1.0</td>\n",
       "      <td>3.0</td>\n",
       "      <td>5.0</td>\n",
       "      <td>3.0</td>\n",
       "      <td>5.0</td>\n",
       "      <td>NaN</td>\n",
       "      <td>NaN</td>\n",
       "      <td>NaN</td>\n",
       "      <td>NaN</td>\n",
       "    </tr>\n",
       "    <tr>\n",
       "      <th>1</th>\n",
       "      <td>1772719</td>\n",
       "      <td>1077874</td>\n",
       "      <td>2003-06-05</td>\n",
       "      <td>NaN</td>\n",
       "      <td>NaN</td>\n",
       "      <td>NaN</td>\n",
       "      <td>NaN</td>\n",
       "      <td>R104</td>\n",
       "      <td>NaN</td>\n",
       "      <td>NaN</td>\n",
       "      <td>...</td>\n",
       "      <td>-6.0</td>\n",
       "      <td>1.0</td>\n",
       "      <td>3.0</td>\n",
       "      <td>5.0</td>\n",
       "      <td>3.0</td>\n",
       "      <td>5.0</td>\n",
       "      <td>NaN</td>\n",
       "      <td>NaN</td>\n",
       "      <td>NaN</td>\n",
       "      <td>NaN</td>\n",
       "    </tr>\n",
       "    <tr>\n",
       "      <th>2</th>\n",
       "      <td>1772719</td>\n",
       "      <td>1127881</td>\n",
       "      <td>2000-05-01</td>\n",
       "      <td>NaN</td>\n",
       "      <td>NaN</td>\n",
       "      <td>NaN</td>\n",
       "      <td>NaN</td>\n",
       "      <td>M512</td>\n",
       "      <td>NaN</td>\n",
       "      <td>NaN</td>\n",
       "      <td>...</td>\n",
       "      <td>-9.0</td>\n",
       "      <td>1.0</td>\n",
       "      <td>3.0</td>\n",
       "      <td>5.0</td>\n",
       "      <td>3.0</td>\n",
       "      <td>5.0</td>\n",
       "      <td>NaN</td>\n",
       "      <td>NaN</td>\n",
       "      <td>NaN</td>\n",
       "      <td>NaN</td>\n",
       "    </tr>\n",
       "    <tr>\n",
       "      <th>3</th>\n",
       "      <td>1277767</td>\n",
       "      <td>3208109</td>\n",
       "      <td>NaN</td>\n",
       "      <td>NaN</td>\n",
       "      <td>NaN</td>\n",
       "      <td>NaN</td>\n",
       "      <td>NaN</td>\n",
       "      <td>M8414</td>\n",
       "      <td>NaN</td>\n",
       "      <td>NaN</td>\n",
       "      <td>...</td>\n",
       "      <td>-3.0</td>\n",
       "      <td>1.0</td>\n",
       "      <td>2.0</td>\n",
       "      <td>2.0</td>\n",
       "      <td>2.0</td>\n",
       "      <td>2.0</td>\n",
       "      <td>NaN</td>\n",
       "      <td>NaN</td>\n",
       "      <td>NaN</td>\n",
       "      <td>NaN</td>\n",
       "    </tr>\n",
       "    <tr>\n",
       "      <th>4</th>\n",
       "      <td>1277767</td>\n",
       "      <td>4218015</td>\n",
       "      <td>NaN</td>\n",
       "      <td>NaN</td>\n",
       "      <td>NaN</td>\n",
       "      <td>NaN</td>\n",
       "      <td>NaN</td>\n",
       "      <td>M8414</td>\n",
       "      <td>NaN</td>\n",
       "      <td>NaN</td>\n",
       "      <td>...</td>\n",
       "      <td>-3.0</td>\n",
       "      <td>1.0</td>\n",
       "      <td>2.0</td>\n",
       "      <td>2.0</td>\n",
       "      <td>2.0</td>\n",
       "      <td>2.0</td>\n",
       "      <td>NaN</td>\n",
       "      <td>NaN</td>\n",
       "      <td>NaN</td>\n",
       "      <td>NaN</td>\n",
       "    </tr>\n",
       "  </tbody>\n",
       "</table>\n",
       "<p>5 rows × 46 columns</p>\n",
       "</div>"
      ],
      "text/plain": [
       "       eid  record_id    admidate  anagest anasdate cause_icd10  \\\n",
       "0  1772719    1071463  2003-05-15      NaN      NaN         NaN   \n",
       "1  1772719    1077874  2003-06-05      NaN      NaN         NaN   \n",
       "2  1772719    1127881  2000-05-01      NaN      NaN         NaN   \n",
       "3  1277767    3208109         NaN      NaN      NaN         NaN   \n",
       "4  1277767    4218015         NaN      NaN      NaN         NaN   \n",
       "\n",
       "   cause_icd10_nb diag_icd10  diag_icd10_nb diag_icd9          ...           \\\n",
       "0             NaN       R198            NaN       NaN          ...            \n",
       "1             NaN       R104            NaN       NaN          ...            \n",
       "2             NaN       M512            NaN       NaN          ...            \n",
       "3             NaN      M8414            NaN       NaN          ...            \n",
       "4             NaN      M8414            NaN       NaN          ...            \n",
       "\n",
       "   diff_yr diff_yr_cat hes_icd_reported_ct hes_icd_exact_ct  \\\n",
       "0     -6.0         1.0                 3.0              5.0   \n",
       "1     -6.0         1.0                 3.0              5.0   \n",
       "2     -9.0         1.0                 3.0              5.0   \n",
       "3     -3.0         1.0                 2.0              2.0   \n",
       "4     -3.0         1.0                 2.0              2.0   \n",
       "\n",
       "   hes_icd_reported_ct_pre  hes_icd_exact_ct_pre hes_icd_reported_ct_at  \\\n",
       "0                      3.0                   5.0                    NaN   \n",
       "1                      3.0                   5.0                    NaN   \n",
       "2                      3.0                   5.0                    NaN   \n",
       "3                      2.0                   2.0                    NaN   \n",
       "4                      2.0                   2.0                    NaN   \n",
       "\n",
       "   hes_icd_exact_ct_at hes_icd_reported_ct_post hes_icd_exact_ct_post  \n",
       "0                  NaN                      NaN                   NaN  \n",
       "1                  NaN                      NaN                   NaN  \n",
       "2                  NaN                      NaN                   NaN  \n",
       "3                  NaN                      NaN                   NaN  \n",
       "4                  NaN                      NaN                   NaN  \n",
       "\n",
       "[5 rows x 46 columns]"
      ]
     },
     "execution_count": 25,
     "metadata": {},
     "output_type": "execute_result"
    }
   ],
   "source": [
    "hesin_ukbb_date_icd_count_ready.head()"
   ]
  },
  {
   "cell_type": "code",
   "execution_count": 29,
   "metadata": {},
   "outputs": [],
   "source": [
    "### save preprocessed hesin data with ukbb baseline and icd count info\n",
    "\n",
    "hesin_ukbb_date_icd_count_ready.to_csv('/projects/ps-janssen3/dsci-pa/yhuan162/temp_project/HES/hesin_ukbb_date_icd_count_ready.tsv', index=None, sep='\\t')"
   ]
  },
  {
   "cell_type": "code",
   "execution_count": 32,
   "metadata": {},
   "outputs": [
    {
     "data": {
      "text/plain": [
       "'/projects/ps-janssen3/dsci-pa/yhuan162/temp_project/HES'"
      ]
     },
     "execution_count": 32,
     "metadata": {},
     "output_type": "execute_result"
    }
   ],
   "source": [
    "pwd()"
   ]
  },
  {
   "cell_type": "code",
   "execution_count": 34,
   "metadata": {},
   "outputs": [],
   "source": []
  },
  {
   "cell_type": "code",
   "execution_count": 35,
   "metadata": {},
   "outputs": [],
   "source": [
    "chk1=pd.read_csv('ukb_hesin.tsv',sep='\\t')\n",
    "chk2=pd.read_csv('ukb_hesin_diag9.tsv',sep='\\t')\n",
    "chk3=pd.read_csv('ukb_hesin_diag10.tsv',sep='\\t')\n",
    "chk4=pd.read_csv('ukb_hesin_oper.tsv',sep='\\t')\n",
    "chk5=pd.read_csv('ukb_hesin_birth.tsv',sep='\\t')"
   ]
  },
  {
   "cell_type": "code",
   "execution_count": 45,
   "metadata": {},
   "outputs": [
    {
     "data": {
      "text/plain": [
       "395859"
      ]
     },
     "execution_count": 45,
     "metadata": {},
     "output_type": "execute_result"
    }
   ],
   "source": [
    "len(chk1.eid.unique())"
   ]
  },
  {
   "cell_type": "code",
   "execution_count": null,
   "metadata": {},
   "outputs": [],
   "source": []
  }
 ],
 "metadata": {
  "kernelspec": {
   "display_name": "Python 3",
   "language": "python",
   "name": "python3"
  },
  "language_info": {
   "codemirror_mode": {
    "name": "ipython",
    "version": 3
   },
   "file_extension": ".py",
   "mimetype": "text/x-python",
   "name": "python",
   "nbconvert_exporter": "python",
   "pygments_lexer": "ipython3",
   "version": "3.6.5"
  }
 },
 "nbformat": 4,
 "nbformat_minor": 2
}
