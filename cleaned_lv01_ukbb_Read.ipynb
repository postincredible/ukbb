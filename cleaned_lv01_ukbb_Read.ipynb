{
 "cells": [
  {
   "cell_type": "markdown",
   "metadata": {},
   "source": [
    "# Reconstruct UKBB std data"
   ]
  },
  {
   "cell_type": "code",
   "execution_count": 35,
   "metadata": {},
   "outputs": [],
   "source": [
    "import os\n",
    "import pandas as pd\n"
   ]
  },
  {
   "cell_type": "code",
   "execution_count": 36,
   "metadata": {},
   "outputs": [],
   "source": [
    "## use full function\n",
    "\n",
    "## check categorical variable frequence for each level \n",
    "def freq_chk(dataframe,var='',output=True):\n",
    "    ctab=pd.crosstab(dataframe[var], columns='count')\n",
    "    if output==True:\n",
    "        print(ctab)\n",
    "    else:\n",
    "        pass\n",
    "    return ctab;"
   ]
  },
  {
   "cell_type": "markdown",
   "metadata": {},
   "source": [
    "## load variable description Table"
   ]
  },
  {
   "cell_type": "code",
   "execution_count": 37,
   "metadata": {},
   "outputs": [
    {
     "data": {
      "text/html": [
       "<div>\n",
       "<style scoped>\n",
       "    .dataframe tbody tr th:only-of-type {\n",
       "        vertical-align: middle;\n",
       "    }\n",
       "\n",
       "    .dataframe tbody tr th {\n",
       "        vertical-align: top;\n",
       "    }\n",
       "\n",
       "    .dataframe thead th {\n",
       "        text-align: right;\n",
       "    }\n",
       "</style>\n",
       "<table border=\"1\" class=\"dataframe\">\n",
       "  <thead>\n",
       "    <tr style=\"text-align: right;\">\n",
       "      <th></th>\n",
       "      <th>Column</th>\n",
       "      <th>UDI</th>\n",
       "      <th>Count</th>\n",
       "      <th>Type</th>\n",
       "      <th>Description</th>\n",
       "      <th>Tier</th>\n",
       "      <th>DC</th>\n",
       "      <th>CatLv</th>\n",
       "      <th>udip1</th>\n",
       "      <th>udip2</th>\n",
       "      <th>udip2m</th>\n",
       "      <th>udip2n</th>\n",
       "      <th>miss_ct</th>\n",
       "      <th>miss_pt</th>\n",
       "      <th>obs_ct</th>\n",
       "      <th>obs_pt</th>\n",
       "    </tr>\n",
       "  </thead>\n",
       "  <tbody>\n",
       "    <tr>\n",
       "      <th>0</th>\n",
       "      <td>0</td>\n",
       "      <td>eid</td>\n",
       "      <td>502602</td>\n",
       "      <td>Sequence</td>\n",
       "      <td>Encoded anonymised participant ID</td>\n",
       "      <td>1</td>\n",
       "      <td>NaN</td>\n",
       "      <td>NaN</td>\n",
       "      <td>eid</td>\n",
       "      <td>eid</td>\n",
       "      <td>-999</td>\n",
       "      <td>-999</td>\n",
       "      <td>0</td>\n",
       "      <td>0.000000</td>\n",
       "      <td>502602</td>\n",
       "      <td>1.000000</td>\n",
       "    </tr>\n",
       "    <tr>\n",
       "      <th>1</th>\n",
       "      <td>1</td>\n",
       "      <td>21-0.0</td>\n",
       "      <td>500887</td>\n",
       "      <td>Categorical (single)</td>\n",
       "      <td>Weight methodUses data-coding 100261 comprises...</td>\n",
       "      <td>1</td>\n",
       "      <td>100261</td>\n",
       "      <td>5</td>\n",
       "      <td>21</td>\n",
       "      <td>0.0</td>\n",
       "      <td>0</td>\n",
       "      <td>0</td>\n",
       "      <td>1715</td>\n",
       "      <td>0.003412</td>\n",
       "      <td>500887</td>\n",
       "      <td>0.996588</td>\n",
       "    </tr>\n",
       "    <tr>\n",
       "      <th>2</th>\n",
       "      <td>2</td>\n",
       "      <td>21-1.0</td>\n",
       "      <td>20336</td>\n",
       "      <td>Categorical (single)</td>\n",
       "      <td>Weight methodUses data-coding 100261 comprises...</td>\n",
       "      <td>1</td>\n",
       "      <td>100261</td>\n",
       "      <td>5</td>\n",
       "      <td>21</td>\n",
       "      <td>1.0</td>\n",
       "      <td>1</td>\n",
       "      <td>0</td>\n",
       "      <td>482266</td>\n",
       "      <td>0.959539</td>\n",
       "      <td>20336</td>\n",
       "      <td>0.040461</td>\n",
       "    </tr>\n",
       "    <tr>\n",
       "      <th>3</th>\n",
       "      <td>3</td>\n",
       "      <td>21-2.0</td>\n",
       "      <td>23167</td>\n",
       "      <td>Categorical (single)</td>\n",
       "      <td>Weight methodUses data-coding 100261 comprises...</td>\n",
       "      <td>1</td>\n",
       "      <td>100261</td>\n",
       "      <td>5</td>\n",
       "      <td>21</td>\n",
       "      <td>2.0</td>\n",
       "      <td>2</td>\n",
       "      <td>0</td>\n",
       "      <td>479435</td>\n",
       "      <td>0.953906</td>\n",
       "      <td>23167</td>\n",
       "      <td>0.046094</td>\n",
       "    </tr>\n",
       "    <tr>\n",
       "      <th>4</th>\n",
       "      <td>4</td>\n",
       "      <td>31-0.0</td>\n",
       "      <td>502602</td>\n",
       "      <td>Categorical (single)</td>\n",
       "      <td>SexUses data-coding 9 comprises 2 Integer-valu...</td>\n",
       "      <td>1</td>\n",
       "      <td>9</td>\n",
       "      <td>2</td>\n",
       "      <td>31</td>\n",
       "      <td>0.0</td>\n",
       "      <td>0</td>\n",
       "      <td>0</td>\n",
       "      <td>0</td>\n",
       "      <td>0.000000</td>\n",
       "      <td>502602</td>\n",
       "      <td>1.000000</td>\n",
       "    </tr>\n",
       "  </tbody>\n",
       "</table>\n",
       "</div>"
      ],
      "text/plain": [
       "   Column     UDI   Count                  Type  \\\n",
       "0       0     eid  502602              Sequence   \n",
       "1       1  21-0.0  500887  Categorical (single)   \n",
       "2       2  21-1.0   20336  Categorical (single)   \n",
       "3       3  21-2.0   23167  Categorical (single)   \n",
       "4       4  31-0.0  502602  Categorical (single)   \n",
       "\n",
       "                                         Description  Tier      DC CatLv  \\\n",
       "0                  Encoded anonymised participant ID     1     NaN   NaN   \n",
       "1  Weight methodUses data-coding 100261 comprises...     1  100261     5   \n",
       "2  Weight methodUses data-coding 100261 comprises...     1  100261     5   \n",
       "3  Weight methodUses data-coding 100261 comprises...     1  100261     5   \n",
       "4  SexUses data-coding 9 comprises 2 Integer-valu...     1       9     2   \n",
       "\n",
       "  udip1 udip2  udip2m  udip2n  miss_ct   miss_pt  obs_ct    obs_pt  \n",
       "0   eid   eid    -999    -999        0  0.000000  502602  1.000000  \n",
       "1    21   0.0       0       0     1715  0.003412  500887  0.996588  \n",
       "2    21   1.0       1       0   482266  0.959539   20336  0.040461  \n",
       "3    21   2.0       2       0   479435  0.953906   23167  0.046094  \n",
       "4    31   0.0       0       0        0  0.000000  502602  1.000000  "
      ]
     },
     "execution_count": 37,
     "metadata": {},
     "output_type": "execute_result"
    }
   ],
   "source": [
    "os.chdir(\"/temp_project/ukbb/data\")\n",
    "df_tab1_adv=pd.read_csv('ukb22598_html_tab1_adv.csv')\n",
    "df_tab1_adv['DC'] = df_tab1_adv['DC'].fillna('NaN')\n",
    "df_tab1_adv['CatLv'] = df_tab1_adv['CatLv'].fillna('NaN')\n",
    "df_tab1_adv.head()\n"
   ]
  },
  {
   "cell_type": "markdown",
   "metadata": {},
   "source": [
    "## variable of different types"
   ]
  },
  {
   "cell_type": "code",
   "execution_count": 38,
   "metadata": {},
   "outputs": [
    {
     "name": "stdout",
     "output_type": "stream",
     "text": [
      "CAT MU: 2300\n",
      "CAT SI: 2563\n",
      "CON:    910\n",
      "CUR:    5\n",
      "DAT:    39\n",
      "INT:    2309\n",
      "TEX:    623\n",
      "TIM:    27\n"
     ]
    }
   ],
   "source": [
    "vartab_cam = df_tab1_adv[df_tab1_adv.Type.str.contains(\"multiple\")==True]\n",
    "vartab_cas = df_tab1_adv[df_tab1_adv.Type.str.contains(\"single\")==True]\n",
    "vartab_con = df_tab1_adv[df_tab1_adv.Type.str.contains(\"Continuous\")==True]\n",
    "vartab_cur = df_tab1_adv[df_tab1_adv.Type.str.contains(\"Curve\")==True]\n",
    "vartab_dat = df_tab1_adv[df_tab1_adv.Type.str.contains(\"Date\")==True]\n",
    "vartab_int = df_tab1_adv[df_tab1_adv.Type.str.contains(\"Integer\")==True]\n",
    "vartab_tex = df_tab1_adv[df_tab1_adv.Type.str.contains(\"Text\")==True]\n",
    "vartab_tim = df_tab1_adv[df_tab1_adv.Type.str.contains(\"Time\")==True]\n",
    "\n",
    "print('CAT MU:',vartab_cam.udip1.count()) \n",
    "print('CAT SI:',vartab_cas.udip1.count()) \n",
    "print('CON:   ',vartab_con.udip1.count()) \n",
    "print('CUR:   ',vartab_cur.udip1.count()) \n",
    "print('DAT:   ',vartab_dat.udip1.count()) \n",
    "print('INT:   ',vartab_int.udip1.count()) \n",
    "print('TEX:   ',vartab_tex.udip1.count()) \n",
    "print('TIM:   ',vartab_tim.udip1.count()) "
   ]
  },
  {
   "cell_type": "markdown",
   "metadata": {},
   "source": [
    "## unique variable of different types"
   ]
  },
  {
   "cell_type": "code",
   "execution_count": 39,
   "metadata": {},
   "outputs": [
    {
     "name": "stdout",
     "output_type": "stream",
     "text": [
      "CAT MU: 56\n",
      "CAT SI: 504\n",
      "CON:    129\n",
      "CUR:    3\n",
      "DAT:    4\n",
      "INT:    257\n",
      "TEX:    72\n",
      "TIM:    7\n"
     ]
    }
   ],
   "source": [
    "vartab_cam_uniq = vartab_cam.groupby('udip1').head(1).reset_index(drop=True)\n",
    "vartab_cas_uniq = vartab_cas.groupby('udip1').head(1).reset_index(drop=True)\n",
    "vartab_con_uniq = vartab_con.groupby('udip1').head(1).reset_index(drop=True)\n",
    "vartab_cur_uniq = vartab_cur.groupby('udip1').head(1).reset_index(drop=True)\n",
    "vartab_dat_uniq = vartab_dat.groupby('udip1').head(1).reset_index(drop=True)\n",
    "vartab_int_uniq = vartab_int.groupby('udip1').head(1).reset_index(drop=True)\n",
    "vartab_tex_uniq = vartab_tex.groupby('udip1').head(1).reset_index(drop=True)\n",
    "vartab_tim_uniq = vartab_tim.groupby('udip1').head(1).reset_index(drop=True)\n",
    "print('CAT MU:',vartab_cam_uniq.udip1.count()) \n",
    "print('CAT SI:',vartab_cas_uniq.udip1.count()) \n",
    "print('CON:   ',vartab_con_uniq.udip1.count()) \n",
    "print('CUR:   ',vartab_cur_uniq.udip1.count()) \n",
    "print('DAT:   ',vartab_dat_uniq.udip1.count()) \n",
    "print('INT:   ',vartab_int_uniq.udip1.count()) \n",
    "print('TEX:   ',vartab_tex_uniq.udip1.count()) \n",
    "print('TIM:   ',vartab_tim_uniq.udip1.count()) "
   ]
  },
  {
   "cell_type": "code",
   "execution_count": 55,
   "metadata": {},
   "outputs": [
    {
     "data": {
      "text/plain": [
       "1033"
      ]
     },
     "execution_count": 55,
     "metadata": {},
     "output_type": "execute_result"
    }
   ],
   "source": [
    "56+504+129+3+4+257+72+7+1"
   ]
  },
  {
   "cell_type": "markdown",
   "metadata": {},
   "source": [
    "\n",
    "## varible type summary: \n",
    "\n",
    "| Type                   | count* | unique count |\n",
    "|------------------------|-------|---------------|\n",
    "| Categorical (multiple) | 2300  |56|\n",
    "| Categorical (single)   | 2563  |504|\n",
    "| Continuous             | 910   |129|\n",
    "| Curve                  | 5     |3|\n",
    "| Date                   | 39    |4|\n",
    "| Integer                | 2309  |257|\n",
    "| Sequence**               | 1     |1|\n",
    "| Text                   | 623   |72|\n",
    "| Time                   | 27    |7|\n",
    "|------------------------|-------|---------------|\n",
    "| sum                     |8777   |1033           |\n",
    "*count is before reconstruction\n",
    "\n",
    "**'eid' is the sequence type \n",
    "\n"
   ]
  },
  {
   "cell_type": "code",
   "execution_count": 40,
   "metadata": {},
   "outputs": [
    {
     "name": "stdout",
     "output_type": "stream",
     "text": [
      "unique variable count: 1033\n"
     ]
    }
   ],
   "source": [
    "print('unique variable count: '+ str(len(df_tab1_adv.udip1.unique())))"
   ]
  },
  {
   "cell_type": "markdown",
   "metadata": {},
   "source": [
    "## check instance type"
   ]
  },
  {
   "cell_type": "code",
   "execution_count": 41,
   "metadata": {},
   "outputs": [
    {
     "data": {
      "text/plain": [
       " 0      1021\n",
       " 2        11\n",
       "-999       1\n",
       "Name: udip2m, dtype: int64"
      ]
     },
     "execution_count": 41,
     "metadata": {},
     "output_type": "execute_result"
    }
   ],
   "source": [
    "### dataframe contains all variables that at instance=0\n",
    "uniqchk=df_tab1_adv.groupby('udip1').head(1).reset_index(drop=True)\n",
    "\n",
    "uniqchk.udip2m.value_counts()"
   ]
  },
  {
   "cell_type": "code",
   "execution_count": 42,
   "metadata": {},
   "outputs": [],
   "source": [
    "#uniqchk[uniqchk['udip2m']==2]  ## start from -2.x has 11 unique counts, in total 26 variables\n",
    "\n",
    "uniqchk_sta_not0x=uniqchk[uniqchk['udip2m']!=0] \n",
    "list_uniqchk_sta_not0x=uniqchk_sta_not0x['udip1'].tolist()\n",
    "list_uniqchk_sta_not0x       ## eid + 11 unique var starts -2.x, that is unique 12 vars, in total 27 variable\n",
    "\n",
    "uniqchk[uniqchk['udip2m']==0].udip2n.value_counts()   \n",
    "## start from -0.x has 1021 unique counts (in total 8750 variables), where start as \n",
    "## -0.0 has 1001\n",
    "## -0.1 has 20\n",
    "\n",
    "uniqchk_sta0x=uniqchk[uniqchk['udip2m']==0]   ## 1021 unique var starts like '-0.x'\n",
    "uniqchk_sta01=uniqchk_sta0x[uniqchk_sta0x['udip2n']==1] ## 20 unique var starts like '-0.1'\n",
    "uniqchk_sta00=uniqchk_sta0x[uniqchk_sta0x['udip2n']==0] ## 1001 unique var starts like '-0.0'\n",
    "\n",
    "list_uniqchk_sta01=uniqchk_sta01['udip1'].tolist()\n",
    "list_uniqchk_sta00=uniqchk_sta00['udip1'].tolist()\n",
    "\n",
    "df_stall=df_tab1_adv[~df_tab1_adv.udip1.isin(list_uniqchk_sta_not0x)]    # len=8570 = 8777-27\n",
    "\n",
    "\n",
    "df_sta01=df_stall[df_stall.udip1.isin(list_uniqchk_sta01)]\n",
    "df_sta00=df_stall[df_stall.udip1.isin(list_uniqchk_sta00)]\n",
    "df_sta2x=df_tab1_adv[df_tab1_adv.udip1.isin(list_uniqchk_sta_not0x)]\n",
    "\n",
    "#len(df_sta01)   ## 232 vars\n",
    "#len(df_sta00)   ## 8518 vars\n",
    "#len(df_sta2x)   ## 27 vars\n",
    "\n",
    "df_sta01_for_icount=df_sta01[df_sta01['udip2n']==1]\n",
    "df_sta00_for_icount=df_sta00[df_sta00['udip2n']==0]\n",
    "\n",
    "#len(df_sta01_for_icount)   ## 30\n",
    "#len(df_sta00_for_icount)   ## 2529"
   ]
  },
  {
   "cell_type": "code",
   "execution_count": 43,
   "metadata": {},
   "outputs": [],
   "source": [
    "### Add instance information"
   ]
  },
  {
   "cell_type": "code",
   "execution_count": 44,
   "metadata": {},
   "outputs": [
    {
     "data": {
      "text/html": [
       "<div>\n",
       "<style scoped>\n",
       "    .dataframe tbody tr th:only-of-type {\n",
       "        vertical-align: middle;\n",
       "    }\n",
       "\n",
       "    .dataframe tbody tr th {\n",
       "        vertical-align: top;\n",
       "    }\n",
       "\n",
       "    .dataframe thead th {\n",
       "        text-align: right;\n",
       "    }\n",
       "</style>\n",
       "<table border=\"1\" class=\"dataframe\">\n",
       "  <thead>\n",
       "    <tr style=\"text-align: right;\">\n",
       "      <th></th>\n",
       "      <th>udip1</th>\n",
       "      <th>instance_type_ind3</th>\n",
       "      <th>instance_type_ind5</th>\n",
       "      <th>instance_type_ind30</th>\n",
       "      <th>instance_type_ind32</th>\n",
       "    </tr>\n",
       "  </thead>\n",
       "  <tbody>\n",
       "    <tr>\n",
       "      <th>0</th>\n",
       "      <td>40006</td>\n",
       "      <td>0</td>\n",
       "      <td>0</td>\n",
       "      <td>0</td>\n",
       "      <td>1</td>\n",
       "    </tr>\n",
       "    <tr>\n",
       "      <th>1</th>\n",
       "      <td>40008</td>\n",
       "      <td>0</td>\n",
       "      <td>0</td>\n",
       "      <td>0</td>\n",
       "      <td>1</td>\n",
       "    </tr>\n",
       "    <tr>\n",
       "      <th>2</th>\n",
       "      <td>40005</td>\n",
       "      <td>0</td>\n",
       "      <td>0</td>\n",
       "      <td>0</td>\n",
       "      <td>1</td>\n",
       "    </tr>\n",
       "    <tr>\n",
       "      <th>3</th>\n",
       "      <td>40012</td>\n",
       "      <td>0</td>\n",
       "      <td>0</td>\n",
       "      <td>0</td>\n",
       "      <td>1</td>\n",
       "    </tr>\n",
       "    <tr>\n",
       "      <th>4</th>\n",
       "      <td>40011</td>\n",
       "      <td>0</td>\n",
       "      <td>0</td>\n",
       "      <td>0</td>\n",
       "      <td>1</td>\n",
       "    </tr>\n",
       "  </tbody>\n",
       "</table>\n",
       "</div>"
      ],
      "text/plain": [
       "   udip1  instance_type_ind3  instance_type_ind5  instance_type_ind30  \\\n",
       "0  40006                   0                   0                    0   \n",
       "1  40008                   0                   0                    0   \n",
       "2  40005                   0                   0                    0   \n",
       "3  40012                   0                   0                    0   \n",
       "4  40011                   0                   0                    0   \n",
       "\n",
       "   instance_type_ind32  \n",
       "0                    1  \n",
       "1                    1  \n",
       "2                    1  \n",
       "3                    1  \n",
       "4                    1  "
      ]
     },
     "execution_count": 44,
     "metadata": {},
     "output_type": "execute_result"
    }
   ],
   "source": [
    "field_i3or5_sta01=df_sta01_for_icount.udip1.value_counts()\n",
    "field_i3or5_sta01.to_csv('/temp_project/ukbb/data/i0/varInstanceInfo/afield_i3or5_sta01.csv')\n",
    "\n",
    "field_i3or5_sta00=df_sta00_for_icount.udip1.value_counts()\n",
    "field_i3or5_sta00.to_csv('/temp_project/ukbb/data/i0/varInstanceInfo/afield_i3or5_sta00.csv')\n",
    "\n",
    "field_i3or5_sta01=pd.read_csv('/temp_project/ukbb/data/i0/varInstanceInfo/afield_i3or5_sta01.csv',header=None)\n",
    "field_i3or5_sta01.columns=['field','instance_type']\n",
    "\n",
    "field_i3or5_sta00=pd.read_csv('/temp_project/ukbb/data/i0/varInstanceInfo/afield_i3or5_sta00.csv',header=None)\n",
    "field_i3or5_sta00.columns=['field','instance_type']\n",
    "\n",
    "field_i3or5_sta01\n",
    "field_i3or5_to_create_ind=pd.merge(field_i3or5_sta00, field_i3or5_sta01, on=\"field\", how='outer')\n",
    "field_i3or5_to_create_ind['instance_type']=field_i3or5_to_create_ind.drop('field',axis=1).max(axis=1)\n",
    "#len(field_i3or5_sta01)   ## 20\n",
    "#len(field_i3or5_sta00)   ## 1001\n",
    "#len(field_i3or5_to_create_ind)   ## 1021\n",
    "\n",
    "field_i3or5_to_ind_pre=pd.get_dummies(field_i3or5_to_create_ind, prefix='instance_type_ind', columns=['instance_type'])\n",
    "field_i3or5_to_ind=field_i3or5_to_ind_pre[['field','instance_type_ind_3.0','instance_type_ind_5.0','instance_type_ind_30.0','instance_type_ind_32.0']]\n",
    "field_i3or5_to_ind.columns=['udip1','instance_type_ind3','instance_type_ind5','instance_type_ind30','instance_type_ind32']\n",
    "field_i3or5_to_ind.head()\n"
   ]
  },
  {
   "cell_type": "code",
   "execution_count": 45,
   "metadata": {},
   "outputs": [
    {
     "data": {
      "text/plain": [
       "'/temp_project/ukbb/data'"
      ]
     },
     "execution_count": 45,
     "metadata": {},
     "output_type": "execute_result"
    }
   ],
   "source": [
    "pwd()"
   ]
  },
  {
   "cell_type": "code",
   "execution_count": 46,
   "metadata": {},
   "outputs": [],
   "source": [
    "### Get comphensive table 1\n",
    "### UDI restructure varaibles\n",
    "### intance type variables\n",
    "\n",
    "df1=df_tab1_adv.copy()\n",
    "df2=field_i3or5_to_ind\n",
    "\n",
    "dtype = dict(udip1=str)\n",
    "#df_tab1_adv2=df1.astype(dtype).merge(df2.astype(dtype), 'left')\n",
    "df_tab1_adv2=pd.merge(df1.astype(dtype),df2.astype(dtype), on='udip1', how='left')\n",
    "df_tab1_adv2.to_csv('ukb22598_html_tab1_comp.csv',index=False)"
   ]
  },
  {
   "cell_type": "code",
   "execution_count": 47,
   "metadata": {},
   "outputs": [],
   "source": [
    "## variables at i0"
   ]
  },
  {
   "cell_type": "code",
   "execution_count": 64,
   "metadata": {},
   "outputs": [
    {
     "data": {
      "text/plain": [
       "1    440\n",
       "3    429\n",
       "2     80\n",
       "4     72\n",
       "Name: Tier, dtype: int64"
      ]
     },
     "execution_count": 64,
     "metadata": {},
     "output_type": "execute_result"
    }
   ],
   "source": [
    "os.chdir(\"/temp_project/ukbb/data/i0/varlist\")\n",
    "### All unique variables: \n",
    "\n",
    "vartab_i0=df_tab1_adv[df_tab1_adv.udip2m==0]\n",
    "vartab_i0_uniq=vartab_i0.groupby('udip1').head(1).reset_index(drop=True)\n",
    "\n",
    "vartab_i0_uniq_for_merge=vartab_i0_uniq[['Type','Description','Tier','DC','CatLv','udip1']]\n",
    "vartab_i0_uniq_for_merge.Tier.value_counts()"
   ]
  },
  {
   "cell_type": "markdown",
   "metadata": {},
   "source": [
    "\n",
    "At instance=0\n",
    "\n",
    "|Type|Measure Times|count|store|\n",
    "|---|---|\n",
    "|CON|single|118|as-is|\n",
    "|   |multiple|11 | as vector|\n",
    "|CUR|single|3|as-is|\n",
    "|   |multiple| 0 | NA|\n",
    "|DAT|single|4|as-is|\n",
    "|   |multiple|0 | NA|\n",
    "|INT|single|206|as-is|\n",
    "|   |multiple|45 | as vector|\n",
    "|TEX|single|63|as-is|\n",
    "|   |multiple| 5| as vector|\n",
    "|TIM|single|6|as-is|\n",
    "|   |multiple|1 | as vector|\n",
    "|CAS|single|469|as-is|\n",
    "|   |multiple|34 | as vector|\n",
    "|CAM|single|0|NA|\n",
    "|   |multiple|56 | as vector|\n",
    "\n",
    "|Tier| Count|\n",
    "|---|\n",
    "|1|    440|\n",
    "|2|     80|\n",
    "|3|    429|\n",
    "|4|     72|"
   ]
  },
  {
   "cell_type": "markdown",
   "metadata": {},
   "source": [
    "## All var at i=0, save the fid by variable type"
   ]
  },
  {
   "cell_type": "code",
   "execution_count": 65,
   "metadata": {},
   "outputs": [],
   "source": [
    "os.chdir(\"/temp_project/ukbb/data/i0/varlist\")\n",
    "### All con variables: \n",
    "vartab_i0_con=vartab_con[vartab_con['udip2m']==0]\n",
    "field_i0_con=vartab_i0_con.udip1.value_counts()\n",
    "field_i0_con.to_csv('afield_i0_con.csv')\n",
    "### All cur variables: \n",
    "vartab_i0_cur=vartab_cur[vartab_cur['udip2m']==0]\n",
    "field_i0_cur=vartab_i0_cur.udip1.value_counts()\n",
    "field_i0_cur.to_csv('afield_i0_cur.csv')\n",
    "### All dat variables: \n",
    "vartab_i0_dat=vartab_dat[vartab_dat['udip2m']==0]\n",
    "field_i0_dat=vartab_i0_dat.udip1.value_counts()\n",
    "field_i0_dat.to_csv('afield_i0_dat.csv')\n",
    "### All int variables: \n",
    "vartab_i0_int=vartab_int[vartab_int['udip2m']==0]\n",
    "field_i0_int=vartab_i0_int.udip1.value_counts()\n",
    "field_i0_int.to_csv('afield_i0_int.csv')\n",
    "### All tex variables: \n",
    "vartab_i0_tex=vartab_tex[vartab_tex['udip2m']==0]\n",
    "field_i0_tex=vartab_i0_tex.udip1.value_counts()\n",
    "field_i0_tex.to_csv('afield_i0_tex.csv')\n",
    "### All tim variables: \n",
    "vartab_i0_tim=vartab_tim[vartab_tim['udip2m']==0]\n",
    "field_i0_tim=vartab_i0_tim.udip1.value_counts()\n",
    "field_i0_tim.to_csv('afield_i0_tim.csv')\n",
    "### All cas variables: \n",
    "vartab_i0_cas=vartab_cas[vartab_cas['udip2m']==0]\n",
    "field_i0_cas=vartab_i0_cas.udip1.value_counts()\n",
    "field_i0_cas.to_csv('afield_i0_cas.csv')\n",
    "### All cam variables: \n",
    "vartab_i0_cam=vartab_cam[vartab_cam['udip2m']==0]\n",
    "field_i0_cam=vartab_i0_cam.udip1.value_counts()\n",
    "field_i0_cam.to_csv('afield_i0_cam.csv')"
   ]
  },
  {
   "cell_type": "markdown",
   "metadata": {},
   "source": [
    "## Unique var at i=0"
   ]
  },
  {
   "cell_type": "code",
   "execution_count": 66,
   "metadata": {},
   "outputs": [
    {
     "name": "stdout",
     "output_type": "stream",
     "text": [
      "CAT MU: 56\n",
      "CAT SI: 503\n",
      "CON:    129\n",
      "CUR:    3\n",
      "DAT:    4\n",
      "INT:    251\n",
      "TEX:    68\n",
      "TIM:    7\n"
     ]
    }
   ],
   "source": [
    "vartab_i0_cam_uniq = vartab_i0_cam.groupby('udip1').head(1).reset_index(drop=True)\n",
    "vartab_i0_cas_uniq = vartab_i0_cas.groupby('udip1').head(1).reset_index(drop=True)\n",
    "vartab_i0_con_uniq = vartab_i0_con.groupby('udip1').head(1).reset_index(drop=True)\n",
    "vartab_i0_cur_uniq = vartab_i0_cur.groupby('udip1').head(1).reset_index(drop=True)\n",
    "vartab_i0_dat_uniq = vartab_i0_dat.groupby('udip1').head(1).reset_index(drop=True)\n",
    "vartab_i0_int_uniq = vartab_i0_int.groupby('udip1').head(1).reset_index(drop=True)\n",
    "vartab_i0_tex_uniq = vartab_i0_tex.groupby('udip1').head(1).reset_index(drop=True)\n",
    "vartab_i0_tim_uniq = vartab_i0_tim.groupby('udip1').head(1).reset_index(drop=True)\n",
    "print('CAT MU:',vartab_i0_cam_uniq.udip1.count()) \n",
    "print('CAT SI:',vartab_i0_cas_uniq.udip1.count()) \n",
    "print('CON:   ',vartab_i0_con_uniq.udip1.count()) \n",
    "print('CUR:   ',vartab_i0_cur_uniq.udip1.count()) \n",
    "print('DAT:   ',vartab_i0_dat_uniq.udip1.count()) \n",
    "print('INT:   ',vartab_i0_int_uniq.udip1.count()) \n",
    "print('TEX:   ',vartab_i0_tex_uniq.udip1.count()) \n",
    "print('TIM:   ',vartab_i0_tim_uniq.udip1.count()) "
   ]
  },
  {
   "cell_type": "code",
   "execution_count": 67,
   "metadata": {},
   "outputs": [
    {
     "data": {
      "text/plain": [
       "1022"
      ]
     },
     "execution_count": 67,
     "metadata": {},
     "output_type": "execute_result"
    }
   ],
   "source": [
    "56+503+129+3+4+251+68+7+1"
   ]
  },
  {
   "cell_type": "markdown",
   "metadata": {},
   "source": [
    "\n",
    "## varible type summary: \n",
    "\n",
    "| Type                   | count* | unique count |unique count at i0|\n",
    "|------------------------|-------|---------------|\n",
    "| Categorical (multiple) | 2300  |56|56|\n",
    "| Categorical (single)   | 2563  |504|503|\n",
    "| Continuous             | 910   |129|129|\n",
    "| Curve                  | 5     |3|3|\n",
    "| Date                   | 39    |4|4|\n",
    "| Integer                | 2309  |257|251|\n",
    "| Sequence**               | 1     |1|1|\n",
    "| Text                   | 623   |72|68\n",
    "| Time                   | 27    |7|7|\n",
    "|------------------------|-------|--------|-------|\n",
    "| sum                     |8777   |1033    | 1022      |\n",
    "*count is before reconstruction\n",
    "\n",
    "**'eid' is the sequence type \n",
    "\n"
   ]
  },
  {
   "cell_type": "code",
   "execution_count": null,
   "metadata": {},
   "outputs": [],
   "source": []
  },
  {
   "cell_type": "code",
   "execution_count": null,
   "metadata": {},
   "outputs": [],
   "source": []
  },
  {
   "cell_type": "code",
   "execution_count": null,
   "metadata": {},
   "outputs": [],
   "source": []
  },
  {
   "cell_type": "code",
   "execution_count": null,
   "metadata": {},
   "outputs": [],
   "source": []
  },
  {
   "cell_type": "code",
   "execution_count": null,
   "metadata": {},
   "outputs": [],
   "source": []
  },
  {
   "cell_type": "code",
   "execution_count": null,
   "metadata": {},
   "outputs": [],
   "source": [
    "### read file with vector in variable, which is the file name starts with a 'vec_'\n",
    "'''\n",
    "pd.read_csv('.../...csv', sep='\\t')\n",
    "'''\n",
    "### read file without vector in variable\n",
    "'''\n",
    "pd.read_csv('.../...csv')\n",
    "'''\n",
    "\n",
    "\n",
    "df_tab1_adv[df_tab1_adv.Type=='Categorical (multiple)']\n",
    "df_tab1_adv[df_tab1_adv.udip1=='6142']\n",
    "df_tab1_adv[(df_tab1_adv.Type=='Continuous')]\n",
    "df_tab1_adv[df_tab1_adv.udip1=='41204']"
   ]
  },
  {
   "cell_type": "code",
   "execution_count": null,
   "metadata": {},
   "outputs": [],
   "source": []
  },
  {
   "cell_type": "markdown",
   "metadata": {},
   "source": [
    "## Below is the code to restructure i0 data and save them into corresponding folder\n",
    "## Need to run it on SDSC serve.\n",
    "## Don't run them here"
   ]
  },
  {
   "cell_type": "markdown",
   "metadata": {},
   "source": [
    "## At i=0, single measure keep as-is, multiple measures keep as a vector"
   ]
  },
  {
   "cell_type": "code",
   "execution_count": null,
   "metadata": {},
   "outputs": [],
   "source": [
    "os.chdir(\"/temp_project/ukbb/data/i0\")"
   ]
  },
  {
   "cell_type": "code",
   "execution_count": null,
   "metadata": {},
   "outputs": [],
   "source": [
    "var_type_list=['con','cur','dat','int','tex','tim','cas','cam']"
   ]
  },
  {
   "cell_type": "code",
   "execution_count": null,
   "metadata": {},
   "outputs": [],
   "source": [
    "\n"
   ]
  },
  {
   "cell_type": "markdown",
   "metadata": {},
   "source": [
    "### Var CON"
   ]
  },
  {
   "cell_type": "code",
   "execution_count": null,
   "metadata": {},
   "outputs": [],
   "source": [
    "\n",
    "os.chdir(\"/temp_project/ukbb/data/i0/varlist\")\n",
    "### AS-IS for single measure con variable\n",
    "\n",
    "fid_i0_con=pd.read_csv('afield_i0_con.csv',header=None)\n",
    "fid_i0_con.columns=['field','count']\n",
    "#fid_i0_con.loc.field=fid_i0_con.field.astype(str)\n",
    "\n",
    "\n",
    "\n",
    "### At i=0, lsit of continuous var only 1 measurement\n",
    "list_i0_con_1=fid_i0_con[fid_i0_con['count']==1].field.astype(str).tolist()\n",
    "UDI_i0_con_1=vartab_i0_con.loc[vartab_i0_con['udip1'].isin(list_i0_con_1)]\n",
    "UDI_list_i0_con_1=UDI_i0_con_1['UDI'].tolist()\n",
    "UDI_i0_con_1['UDI'].to_csv('aUDI_i0_con_1.csv',header='UDI')\n",
    "\n",
    "#UDI_i0_con_1=pd.read_csv('aUDI_i0_con_1.csv')\n",
    "#UDI_i0_con_1\n",
    "#UDI_list_i0_con_1=UDI_i0_con_1['UDI'].tolist()\n",
    "\n",
    "\n"
   ]
  },
  {
   "cell_type": "code",
   "execution_count": null,
   "metadata": {},
   "outputs": [],
   "source": [
    "os.chdir(\"/temp_project/ukbb/data/i0/varlist\")\n",
    "### Vector for multi-measures con variable\n",
    "\n",
    "fid_i0_con=pd.read_csv('afield_i0_con.csv',header=None)\n",
    "fid_i0_con.columns=['field','count']\n",
    "#fid_i0_con.loc.field=fid_i0_con.field.astype(str)\n",
    "\n",
    "### At i=0, lsit of continuous var >= 2 measurements\n",
    "#tolist[tolist['count']==1].iloc[:,-1].tolist()\n",
    "list_i0_con_2=fid_i0_con[fid_i0_con['count']>1].field.astype(str).tolist()\n",
    "\n",
    "#UDI_i0_con_2=vartab_i0_con.loc[vartab_i0_con['udip1'].isin(list_i0_con_2)]\n",
    "#UDI_list_i0_con_1=UDI_i0_con_1['UDI'].tolist()\n",
    "#UDI_i0_con_1['UDI'].to_csv('aUDI_i0_con_1.csv',header='UDI')\n",
    "\n",
    "\n",
    "list_i0_con_2part=list_i0_con_2[0:3]\n",
    "\n",
    "for fid in list_i0_con_2part:\n",
    "    \n",
    "    UDI_i0_con_2=vartab_i0_con.loc[vartab_i0_con['udip1'].isin([fid])]\n",
    "    UDI_list_i0_con_2=UDI_i0_con_2['UDI'].tolist()\n",
    "    \n",
    "    loadcol=['eid']+UDI_list_i0_con_2\n",
    "    colname='vec_con'+str(fid)+'i0'\n",
    "    \n",
    "    ofile=pd.read_csv('/temp_project/ukbb/ukb22598.csv', usecols=loadcol, nrows=502602,low_memory=False)\n",
    "    ofile[str(colname)] = ofile[ofile.columns[1:]].apply(lambda x: ','.join(x.dropna().astype(float).astype(str)),axis=1)\n",
    "    \n",
    "    vec_df=ofile[['eid',str(colname)]]\n",
    "    outfilename='/temp_project/ukbb/data/i0/var_con/'+str(colname)+'.csv'\n",
    "    vec_df.to_csv(outfilename, index=False, sep='\\t')\n",
    "    "
   ]
  },
  {
   "cell_type": "markdown",
   "metadata": {},
   "source": [
    "### Var INT"
   ]
  },
  {
   "cell_type": "code",
   "execution_count": null,
   "metadata": {},
   "outputs": [],
   "source": [
    "\n",
    "os.chdir(\"/temp_project/ukbb/data/i0/varlist\")\n",
    "### AS-IS for single measure INT variable\n",
    "\n",
    "fid_i0_int=pd.read_csv('afield_i0_int.csv',header=None)\n",
    "fid_i0_int.columns=['field','count']\n",
    "#fid_i0_int.loc.field=fid_i0_int.field.astype(str)\n",
    "\n",
    "\n",
    "\n",
    "### At i=0, lsit of INT var only 1 measurement\n",
    "list_i0_int_1=fid_i0_int[fid_i0_int['count']==1].field.astype(str).tolist()\n",
    "UDI_i0_int_1=vartab_i0_int.loc[vartab_i0_int['udip1'].isin(list_i0_int_1)]\n",
    "UDI_list_i0_int_1=UDI_i0_int_1['UDI'].tolist()\n",
    "UDI_i0_int_1['UDI'].to_csv('aUDI_i0_int_1.csv',header='UDI')\n",
    "\n",
    "#len(list_i0_int_1)\n",
    "#206\n",
    "\n",
    "#UDI_i0_int_1=pd.read_csv('aUDI_i0_int_1.csv')\n",
    "#UDI_i0_int_1\n",
    "#UDI_list_i0_int_1=UDI_i0_int_1['UDI'].tolist()\n"
   ]
  },
  {
   "cell_type": "code",
   "execution_count": null,
   "metadata": {},
   "outputs": [],
   "source": [
    "os.chdir(\"/temp_project/ukbb/data/i0/varlist\")\n",
    "### Vector for multi-measures INT variable\n",
    "\n",
    "fid_i0_int=pd.read_csv('afield_i0_int.csv',header=None)\n",
    "fid_i0_int.columns=['field','count']\n",
    "#fid_i0_int.loc.field=fid_i0_int.field.astype(str)\n",
    "\n",
    "### At i=0, lsit of INT var >= 2 measurements\n",
    "#tolist[tolist['count']==1].iloc[:,-1].tolist()\n",
    "list_i0_int_2=fid_i0_int[fid_i0_int['count']>1].field.astype(str).tolist()\n",
    "\n",
    "#UDI_i0_int_2=vartab_i0_int.loc[vartab_i0_int['udip1'].isin(list_i0_int_2)]\n",
    "#UDI_list_i0_int_1=UDI_i0_int_1['UDI'].tolist()\n",
    "#UDI_i0_int_1['UDI'].to_csv('aUDI_i0_int_1.csv',header='UDI')\n",
    "\n",
    "\n",
    "list_i0_int_2part=list_i0_int_2[0:3]\n",
    "\n",
    "for fid in list_i0_int_2part:\n",
    "    \n",
    "    UDI_i0_int_2=vartab_i0_int.loc[vartab_i0_int['udip1'].isin([fid])]\n",
    "    UDI_list_i0_int_2=UDI_i0_int_2['UDI'].tolist()\n",
    "    \n",
    "    loadcol=['eid']+UDI_list_i0_int_2\n",
    "    colname='vec_int'+str(fid)+'i0'\n",
    "    \n",
    "    ofile=pd.read_csv('/temp_project/ukbb/ukb22598.csv', usecols=loadcol, nrows=502602,low_memory=False)\n",
    "    ofile[str(colname)] = ofile[ofile.columns[1:]].apply(lambda x: ','.join(x.dropna().astype(int).astype(str)),axis=1)\n",
    "    \n",
    "    vec_df=ofile[['eid',str(colname)]]\n",
    "    outfilename='/temp_project/ukbb/data/i0/var_int/'+str(colname)+'.csv'\n",
    "    vec_df.to_csv(outfilename, index=False, sep='\\t')"
   ]
  },
  {
   "cell_type": "markdown",
   "metadata": {},
   "source": [
    "### Var DAT"
   ]
  },
  {
   "cell_type": "code",
   "execution_count": null,
   "metadata": {},
   "outputs": [],
   "source": []
  },
  {
   "cell_type": "code",
   "execution_count": null,
   "metadata": {},
   "outputs": [],
   "source": []
  },
  {
   "cell_type": "markdown",
   "metadata": {},
   "source": [
    "### Var TIM"
   ]
  },
  {
   "cell_type": "code",
   "execution_count": null,
   "metadata": {},
   "outputs": [],
   "source": [
    "os.chdir(\"/temp_project/ukbb/data/i0/varlist\")\n",
    "### AS-IS for single measure TIM variable\n",
    "\n",
    "fid_i0_tim=pd.read_csv('afield_i0_tim.csv',header=None)\n",
    "fid_i0_tim.columns=['field','count']\n",
    "\n",
    "### At i=0, lsit of TIM var only 1 measurement\n",
    "list_i0_tim_1=fid_i0_tim[fid_i0_tim['count']==1].field.astype(str).tolist()\n",
    "UDI_i0_tim_1=vartab_i0_tim.loc[vartab_i0_tim['udip1'].isin(list_i0_tim_1)]\n",
    "UDI_list_i0_tim_1=UDI_i0_tim_1['UDI'].tolist()\n",
    "UDI_i0_tim_1['UDI'].to_csv('aUDI_i0_tim_1.csv',header='UDI')\n",
    "\n",
    "#len(list_i0_tim_1)\n",
    "#6"
   ]
  },
  {
   "cell_type": "code",
   "execution_count": null,
   "metadata": {},
   "outputs": [],
   "source": [
    "os.chdir(\"/temp_project/ukbb/data/i0/varlist\")\n",
    "### Vector for multi-measures TIM variable\n",
    "\n",
    "fid_i0_tim=pd.read_csv('afield_i0_tim.csv',header=None)\n",
    "fid_i0_tim.columns=['field','count']\n",
    "#fid_i0_tim.loc.field=fid_i0_tim.field.astype(str)\n",
    "\n",
    "### At i=0, lsit of TIM var >= 2 measurements\n",
    "#tolist[tolist['count']==1].iloc[:,-1].tolist()\n",
    "list_i0_tim_2=fid_i0_tim[fid_i0_tim['count']>1].field.astype(str).tolist()\n",
    "\n",
    "#len(list_i0_tim_2)\n",
    "#1\n",
    "\n",
    "\n",
    "for fid in list_i0_tim_2:\n",
    "    \n",
    "    UDI_i0_tim_2=vartab_i0_tim.loc[vartab_i0_tim['udip1'].isin([fid])]\n",
    "    UDI_list_i0_tim_2=UDI_i0_tim_2['UDI'].tolist()\n",
    "    \n",
    "    loadcol=['eid']+UDI_list_i0_tim_2\n",
    "    colname='vec_tim'+str(fid)+'i0'\n",
    "    \n",
    "    ofile=pd.read_csv('/temp_project/ukbb/ukb22598.csv', usecols=loadcol, nrows=502602,low_memory=False)\n",
    "    ofile[str(colname)] = ofile[ofile.columns[1:]].apply(lambda x: ','.join(x.dropna().astype(str)),axis=1)\n",
    "    \n",
    "    vec_df=ofile[['eid',str(colname)]]\n",
    "    outfilename='/temp_project/ukbb/data/i0/var_tim/'+str(colname)+'.csv'\n",
    "    vec_df.to_csv(outfilename, index=False, sep='\\t')"
   ]
  },
  {
   "cell_type": "markdown",
   "metadata": {},
   "source": [
    "### Var CUR"
   ]
  },
  {
   "cell_type": "code",
   "execution_count": null,
   "metadata": {},
   "outputs": [],
   "source": []
  },
  {
   "cell_type": "code",
   "execution_count": null,
   "metadata": {},
   "outputs": [],
   "source": []
  },
  {
   "cell_type": "markdown",
   "metadata": {},
   "source": [
    "### Var TEX"
   ]
  },
  {
   "cell_type": "code",
   "execution_count": null,
   "metadata": {},
   "outputs": [],
   "source": [
    "\n",
    "\n",
    "os.chdir(\"/temp_project/ukbb/data/i0/varlist\")\n",
    "### AS-IS for single measure TEX variable\n",
    "\n",
    "fid_i0_tex=pd.read_csv('afield_i0_tex.csv',header=None)\n",
    "fid_i0_tex.columns=['field','count']\n",
    "\n",
    "### At i=0, lsit of TEX var only 1 measurement\n",
    "list_i0_tex_1=fid_i0_tex[fid_i0_tex['count']==1].field.astype(str).tolist()\n",
    "UDI_i0_tex_1=vartab_i0_tex.loc[vartab_i0_tex['udip1'].isin(list_i0_tex_1)]\n",
    "UDI_list_i0_tex_1=UDI_i0_tex_1['UDI'].tolist()\n",
    "UDI_i0_tex_1['UDI'].to_csv('aUDI_i0_tex_1.csv',header='UDI')\n",
    "\n",
    "#len(list_i0_tex_1)\n",
    "#63\n"
   ]
  },
  {
   "cell_type": "code",
   "execution_count": null,
   "metadata": {},
   "outputs": [],
   "source": [
    "# TEX example\n",
    "#UDI_i0_tex_2=vartab_i0_tex.loc[vartab_i0_tex['udip1'].isin(list_i0_tex_2)]\n",
    "#UDI_i0_tex_2\n",
    "#UDI_i0_tex_1"
   ]
  },
  {
   "cell_type": "code",
   "execution_count": null,
   "metadata": {},
   "outputs": [],
   "source": [
    "\n",
    "os.chdir(\"/temp_project/ukbb/data/i0/varlist\")\n",
    "### Vector for multi-measures TEX variable\n",
    "\n",
    "fid_i0_tex=pd.read_csv('afield_i0_tex.csv',header=None)\n",
    "fid_i0_tex.columns=['field','count']\n",
    "#fid_i0_tex.loc.field=fid_i0_tex.field.astype(str)\n",
    "\n",
    "### At i=0, lsit of TEX var >= 2 measurements\n",
    "#tolist[tolist['count']==1].iloc[:,-1].tolist()\n",
    "list_i0_tex_2=fid_i0_tex[fid_i0_tex['count']>1].field.astype(str).tolist()\n",
    "\n",
    "#len(list_i0_tex_2)\n",
    "#5\n",
    "\n",
    "for fid in list_i0_tex_2:\n",
    "    \n",
    "    UDI_i0_tex_2=vartab_i0_tex.loc[vartab_i0_tex['udip1'].isin([fid])]\n",
    "    UDI_list_i0_tex_2=UDI_i0_tex_2['UDI'].tolist()\n",
    "    \n",
    "    loadcol=['eid']+UDI_list_i0_tex_2\n",
    "    colname='vec_tex'+str(fid)+'i0'\n",
    "    \n",
    "    ofile=pd.read_csv('/temp_project/ukbb/ukb22598.csv', usecols=loadcol, nrows=502602,low_memory=False)\n",
    "    ofile[str(colname)] = ofile[ofile.columns[1:]].apply(lambda x: ','.join(x.dropna().astype(str)),axis=1)\n",
    "    \n",
    "    vec_df=ofile[['eid',str(colname)]]\n",
    "    outfilename='/temp_project/ukbb/data/i0/var_tex/'+str(colname)+'.csv'\n",
    "    vec_df.to_csv(outfilename, index=False, sep='\\t')"
   ]
  },
  {
   "cell_type": "markdown",
   "metadata": {},
   "source": [
    "### Var CAS"
   ]
  },
  {
   "cell_type": "code",
   "execution_count": null,
   "metadata": {},
   "outputs": [],
   "source": [
    "os.chdir(\"/temp_project/ukbb/data/i0/varlist\")\n",
    "### AS-IS for single measure CAS variable\n",
    "\n",
    "fid_i0_cas=pd.read_csv('afield_i0_cas.csv',header=None)\n",
    "fid_i0_cas.columns=['field','count']\n",
    "\n",
    "### At i=0, lsit of CAS var only 1 measurement\n",
    "list_i0_cas_1=fid_i0_cas[fid_i0_cas['count']==1].field.astype(str).tolist()\n",
    "UDI_i0_cas_1=vartab_i0_cas.loc[vartab_i0_cas['udip1'].isin(list_i0_cas_1)]\n",
    "UDI_list_i0_cas_1=UDI_i0_cas_1['UDI'].tolist()\n",
    "UDI_i0_cas_1['UDI'].to_csv('aUDI_i0_cas_1.csv',header='UDI')\n",
    "\n",
    "#len(list_i0_cas_1)\n",
    "#469\n",
    "\n"
   ]
  },
  {
   "cell_type": "code",
   "execution_count": null,
   "metadata": {},
   "outputs": [],
   "source": [
    "os.chdir(\"/temp_project/ukbb/data/i0/varlist\")\n",
    "### Vector for multi-measures CAS variable\n",
    "\n",
    "fid_i0_cas=pd.read_csv('afield_i0_cas.csv',header=None)\n",
    "fid_i0_cas.columns=['field','count']\n",
    "#fid_i0_cas.loc.field=fid_i0_cas.field.astype(str)\n",
    "\n",
    "### At i=0, lsit of CAS var >= 2 measurements\n",
    "#tolist[tolist['count']==1].iloc[:,-1].tolist()\n",
    "list_i0_cas_2=fid_i0_cas[fid_i0_cas['count']>1].field.astype(str).tolist()\n",
    "\n",
    "#len(list_i0_cas_2)\n",
    "#34\n",
    "\n",
    "\n",
    "list_i0_cas_2part=list_i0_cas_2[0:11]\n",
    "\n",
    "for fid in list_i0_cas_2part:\n",
    "    \n",
    "    UDI_i0_cas_2=vartab_i0_cas.loc[vartab_i0_cas['udip1'].isin([fid])]\n",
    "    UDI_list_i0_cas_2=UDI_i0_cas_2['UDI'].tolist()\n",
    "    \n",
    "    loadcol=['eid']+UDI_list_i0_cas_2\n",
    "    colname='vec_cas'+str(fid)+'i0'\n",
    "    \n",
    "    ofile=pd.read_csv('/temp_project/ukbb/ukb22598.csv', usecols=loadcol, nrows=502602,low_memory=False)\n",
    "    ofile[str(colname)] = ofile[ofile.columns[1:]].apply(lambda x: ','.join(x.dropna().astype(int).astype(str)),axis=1)\n",
    "    \n",
    "    vec_df=ofile[['eid',str(colname)]]\n",
    "    outfilename='/temp_project/ukbb/data/i0/var_cas/'+str(colname)+'.csv'\n",
    "    vec_df.to_csv(outfilename, index=False, sep='\\t')"
   ]
  },
  {
   "cell_type": "markdown",
   "metadata": {},
   "source": [
    "### Var CAM"
   ]
  },
  {
   "cell_type": "code",
   "execution_count": null,
   "metadata": {},
   "outputs": [],
   "source": [
    "os.chdir(\"/temp_project/ukbb/data/i0/varlist\")\n",
    "### AS-IS for single measure CAM variable\n",
    "\n",
    "fid_i0_cam=pd.read_csv('afield_i0_cam.csv',header=None)\n",
    "fid_i0_cam.columns=['field','count']\n",
    "\n",
    "### At i=0, lsit of CAM var only 1 measurement\n",
    "list_i0_cam_1=fid_i0_cam[fid_i0_cam['count']==1].field.astype(str).tolist()\n",
    "UDI_i0_cam_1=vartab_i0_cam.loc[vartab_i0_cam['udip1'].isin(list_i0_cam_1)]\n",
    "UDI_list_i0_cam_1=UDI_i0_cam_1['UDI'].tolist()\n",
    "UDI_i0_cam_1['UDI'].to_csv('aUDI_i0_cam_1.csv',header='UDI')\n",
    "\n",
    "#len(list_i0_cam_1)\n",
    "#NaN\n"
   ]
  },
  {
   "cell_type": "code",
   "execution_count": null,
   "metadata": {},
   "outputs": [],
   "source": [
    "os.chdir(\"/temp_project/ukbb/data/i0/varlist\")\n",
    "### Vector for multi-measures CAM variable\n",
    "\n",
    "fid_i0_cam=pd.read_csv('afield_i0_cam.csv',header=None)\n",
    "fid_i0_cam.columns=['field','count']\n",
    "#fid_i0_cam.loc.field=fid_i0_cam.field.astype(str)\n",
    "\n",
    "### At i=0, lsit of CAM var >= 2 measurements\n",
    "#tolist[tolist['count']==1].iloc[:,-1].tolist()\n",
    "list_i0_cam_2=fid_i0_cam[fid_i0_cam['count']>1].field.astype(str).tolist()\n",
    "#len(list_i0_cam_2)\n",
    "#56\n",
    "\n",
    "#UDI_i0_cam_2=vartab_i0_cam.loc[vartab_i0_cam['udip1'].isin(list_i0_cam_2)]\n",
    "#UDI_list_i0_cam_1=UDI_i0_cam_1['UDI'].tolist()\n",
    "#UDI_i0_cam_1['UDI'].to_csv('aUDI_i0_cam_1.csv',header='UDI')\n",
    "\n",
    "\n",
    "list_i0_cam_2part=list_i0_cam_2[0:15]\n",
    "\n",
    "for fid in list_i0_cam_2part:\n",
    "    \n",
    "    UDI_i0_cam_2=vartab_i0_cam.loc[vartab_i0_cam['udip1'].isin([fid])]\n",
    "    UDI_list_i0_cam_2=UDI_i0_cam_2['UDI'].tolist()\n",
    "    \n",
    "    loadcol=['eid']+UDI_list_i0_cam_2\n",
    "    colname='vec_cam'+str(fid)+'i0'\n",
    "    \n",
    "    ofile=pd.read_csv('/temp_project/ukbb/ukb22598.csv', usecols=loadcol, nrows=502602,low_memory=False)\n",
    "    ofile[str(colname)] = ofile[ofile.columns[1:]].apply(lambda x: ','.join(x.dropna().astype(int).astype(str)),axis=1)\n",
    "    \n",
    "    vec_df=ofile[['eid',str(colname)]]\n",
    "    outfilename='/temp_project/ukbb/data/i0/var_cam/'+str(colname)+'.csv'\n",
    "    vec_df.to_csv(outfilename, index=False, sep='\\t')"
   ]
  },
  {
   "cell_type": "code",
   "execution_count": null,
   "metadata": {},
   "outputs": [],
   "source": []
  },
  {
   "cell_type": "code",
   "execution_count": null,
   "metadata": {},
   "outputs": [],
   "source": []
  },
  {
   "cell_type": "code",
   "execution_count": null,
   "metadata": {},
   "outputs": [],
   "source": []
  },
  {
   "cell_type": "code",
   "execution_count": null,
   "metadata": {},
   "outputs": [],
   "source": []
  },
  {
   "cell_type": "code",
   "execution_count": null,
   "metadata": {},
   "outputs": [],
   "source": []
  },
  {
   "cell_type": "code",
   "execution_count": null,
   "metadata": {},
   "outputs": [],
   "source": []
  },
  {
   "cell_type": "code",
   "execution_count": null,
   "metadata": {},
   "outputs": [],
   "source": []
  },
  {
   "cell_type": "code",
   "execution_count": null,
   "metadata": {},
   "outputs": [],
   "source": []
  },
  {
   "cell_type": "code",
   "execution_count": null,
   "metadata": {},
   "outputs": [],
   "source": [
    "list_i0_con_2"
   ]
  },
  {
   "cell_type": "code",
   "execution_count": null,
   "metadata": {},
   "outputs": [],
   "source": []
  },
  {
   "cell_type": "code",
   "execution_count": null,
   "metadata": {},
   "outputs": [],
   "source": [
    "rt=[list_i0_con_2[9]]\n",
    "UDI_i0_con_2=vartab_i0_con.loc[vartab_i0_con['udip1'].isin(rt)]\n",
    "UDI_list_i0_con_2=UDI_i0_con_2['UDI'].tolist()\n",
    "r=UDI_list_i0_con_2\n",
    "\n",
    "loadcol=['eid']+r\n",
    "loadcol\n",
    "\n",
    "ofile=pd.read_csv('/temp_project/ukbb/ukb22598.csv', usecols=loadcol, nrows=502602)\n",
    "ofile[str(rt[0])] = ofile[ofile.columns[1:]].apply(lambda x: ','.join(x.dropna().astype(float).astype(str)),axis=1)\n",
    "ofile"
   ]
  },
  {
   "cell_type": "code",
   "execution_count": null,
   "metadata": {},
   "outputs": [],
   "source": [
    "str(rt)"
   ]
  },
  {
   "cell_type": "code",
   "execution_count": null,
   "metadata": {},
   "outputs": [],
   "source": [
    "ofile=pd.read_csv('/temp_project/ukbb/ukb22598.csv', usecols=loadcol, nrows=502602)"
   ]
  },
  {
   "cell_type": "code",
   "execution_count": null,
   "metadata": {},
   "outputs": [],
   "source": [
    "ofile.columns[1:]\n",
    "import numpy as np\n",
    "cls=df['20006'][3].split(',')"
   ]
  },
  {
   "cell_type": "code",
   "execution_count": null,
   "metadata": {},
   "outputs": [],
   "source": [
    "cls"
   ]
  },
  {
   "cell_type": "code",
   "execution_count": null,
   "metadata": {},
   "outputs": [],
   "source": [
    "df=ofile[['eid','20006']]\n",
    "df.head()\n",
    "#df['avg']=df[df['20006'].apply(np.mean,axis=1)]\n",
    "results =[float(i) for i in cls]\n",
    "np.mean(results)\n"
   ]
  },
  {
   "cell_type": "code",
   "execution_count": null,
   "metadata": {},
   "outputs": [],
   "source": [
    "df['avg']=df[df['20006']].apply(lambda x: np.mean(x.dropna().astype(float).split(',')),axis=1)"
   ]
  },
  {
   "cell_type": "code",
   "execution_count": null,
   "metadata": {},
   "outputs": [],
   "source": [
    "#df['avg']=df['20006'].apply(lambda x: x.split(','))\n",
    "#df\n",
    "\n",
    "df['avg']=df[df['20006']].apply(lambda x: np.mean([float(i) for i in x.split(',')]),axis=1)"
   ]
  },
  {
   "cell_type": "code",
   "execution_count": null,
   "metadata": {},
   "outputs": [],
   "source": [
    "ofile[str(rt[0])]=ofile['ColumnA'] \n",
    "ofile.head()"
   ]
  },
  {
   "cell_type": "code",
   "execution_count": null,
   "metadata": {},
   "outputs": [],
   "source": [
    "#ofile['ColumnA'] = ofile[ofile.columns[1:]].apply(lambda x: ','.join(x.dropna().astype(float).astype(str)),axis=1)\n",
    "#ofile"
   ]
  },
  {
   "cell_type": "code",
   "execution_count": null,
   "metadata": {},
   "outputs": [],
   "source": []
  },
  {
   "cell_type": "code",
   "execution_count": null,
   "metadata": {},
   "outputs": [],
   "source": []
  },
  {
   "cell_type": "code",
   "execution_count": null,
   "metadata": {},
   "outputs": [],
   "source": []
  },
  {
   "cell_type": "code",
   "execution_count": null,
   "metadata": {},
   "outputs": [],
   "source": [
    "### All continuous variables: \n",
    "vartab_cont_i0=vartab_cont[vartab_cont['udip2m']==0]\n",
    "tolist=freq_chk(vartab_cont_i0,'udip1',output=False)\n",
    "#vartab_cont_uniq\n",
    "\n",
    "### At i=0, lsit of continuous var only 1 measurement\n",
    "#tolist[tolist['count']==1].iloc[:,-1].tolist()\n",
    "list_i0_con_1=tolist[tolist['count']==1].index.tolist()\n",
    "\n",
    "### At i=0, lsit of continuous var >= 2 measurements\n",
    "#tolist[tolist['count']==1].iloc[:,-1].tolist()\n",
    "list_i0_con_2=tolist[tolist['count']>1].index.tolist()\n",
    "\n",
    "list_i0_con_1\n",
    "\n",
    "UDI_i0_con_1=vartab_cont_i0.loc[vartab_cont_i0['udip1'].isin(list_i0_con_1)]\n",
    "#UDI_i0_con_1\n",
    "UDI_list_i0_con_1=UDI_i0_con_1['UDI'].tolist()\n",
    "#for r in list_i0_con_1:\n",
    " #   vartab_cont_i0\n",
    "#UDI_list_i0_con_1\n",
    "UDI_i0_con_1['UDI'].to_csv('aUDI_i0_con_1.csv',header='UDI')\n",
    "\n",
    "UDI_i0_con_1=pd.read_csv('aUDI_i0_con_1.csv')\n",
    "UDI_i0_con_1\n",
    "UDI_list_i0_con_1=UDI_i0_con_1['UDI'].tolist()\n",
    "#UDI_list_i0_con_1\n",
    "\n",
    "\n",
    "#list_i0_con_2   ###### multiple measures to a vector\n",
    "UDI_i0_con_2=vartab_cont_i0.loc[vartab_cont_i0['udip1'].isin(list_i0_con_1)]\n",
    "#UDI_i0_con_1\n",
    "\n",
    "\n"
   ]
  },
  {
   "cell_type": "code",
   "execution_count": null,
   "metadata": {},
   "outputs": [],
   "source": [
    "con_2=vartab_cont_i0.udip1.value_counts()\n",
    "\n",
    "con_2.to_csv('con_2.csv')\n",
    "\n",
    "con_22=pd.read_csv('con_2.csv',header=None)\n",
    "con_22.columns=['field','conut']\n",
    "con_22"
   ]
  },
  {
   "cell_type": "code",
   "execution_count": null,
   "metadata": {},
   "outputs": [],
   "source": []
  },
  {
   "cell_type": "code",
   "execution_count": null,
   "metadata": {},
   "outputs": [],
   "source": [
    "\n"
   ]
  },
  {
   "cell_type": "code",
   "execution_count": null,
   "metadata": {},
   "outputs": [],
   "source": []
  },
  {
   "cell_type": "code",
   "execution_count": null,
   "metadata": {},
   "outputs": [],
   "source": [
    "#import numpy as np\n",
    "#np.savetxt(\"UDI_list_i0_con_1.csv\", UDI_list_i0_con_1, delimiter=\",\", fmt='%s', header='i0con')"
   ]
  },
  {
   "cell_type": "code",
   "execution_count": null,
   "metadata": {},
   "outputs": [],
   "source": []
  },
  {
   "cell_type": "code",
   "execution_count": null,
   "metadata": {},
   "outputs": [],
   "source": []
  },
  {
   "cell_type": "code",
   "execution_count": null,
   "metadata": {},
   "outputs": [],
   "source": []
  },
  {
   "cell_type": "code",
   "execution_count": null,
   "metadata": {},
   "outputs": [],
   "source": [
    "\n",
    "fid_i0_int=pd.read_csv('afield_i0_int.csv',header=None)\n",
    "fid_i0_int.columns=['field','count']\n",
    "#fid_i0_int.loc.field=fid_i0_int.field.astype(str)\n",
    "\n",
    "### At i=0, lsit of INT var >= 2 measurements\n",
    "#tolist[tolist['count']==1].iloc[:,-1].tolist()\n",
    "list_i0_int_2=fid_i0_int[fid_i0_int['count']>1].field.astype(str).tolist()\n",
    "len(list_i0_int_2)"
   ]
  },
  {
   "cell_type": "code",
   "execution_count": null,
   "metadata": {},
   "outputs": [],
   "source": [
    "\n",
    "\n",
    "\n",
    "\n",
    "\n",
    "\n",
    "vartab_con = df_tab1_adv[df_tab1_adv.Type.str.contains(\"Continuous\")==True]\n",
    "vartab_i0_con=vartab_con[vartab_con['udip2m']==0]\n",
    "\n",
    "\n",
    "\n",
    "\n",
    "     "
   ]
  },
  {
   "cell_type": "code",
   "execution_count": null,
   "metadata": {},
   "outputs": [],
   "source": [
    "### All integer variables: \n",
    "\n",
    "\n",
    "os.chdir(\"/temp_project/ukbb/data/i0\")\n",
    "\n",
    "vartab_int_i0=vartab_int[vartab_int['udip2m']==0]\n",
    "to_int_list=freq_chk(vartab_int_i0,'udip1',output=False)\n",
    "\n",
    "### At i=0, lsit of integer var only 1 measurement\n",
    "#tolist[tolist['count']==1].iloc[:,-1].tolist()\n",
    "list_i0_int_1=to_int_list[to_int_list['count']==1].index.tolist()\n",
    "\n",
    "### At i=0, lsit of integer var >= 2 measurements\n",
    "#tolist[tolist['count']==1].iloc[:,-1].tolist()\n",
    "list_i0_int_2=to_int_list[to_int_list['count']>1].index.tolist()\n",
    "vartab_int_i0.head()\n",
    "\n",
    "\n",
    "\n",
    "list_i0_int_1\n",
    "#list_i0_int_2   ###### Need to discuss about how to re-structure\n",
    "\n",
    "UDI_i0_int_1=vartab_int_i0.loc[vartab_int_i0['udip1'].isin(list_i0_int_1)]\n",
    "UDI_list_i0_int_1=UDI_i0_int_1['UDI'].tolist()\n",
    "#for r in list_i0_int_1:\n",
    " #   vartab_int_i0\n",
    "#UDI_list_i0_int_1\n",
    "UDI_i0_int_1['UDI'].to_csv('aUDI_i0_int_1.csv',header='UDI')\n",
    "\n",
    "UDI_i0_int_1=pd.read_csv('aUDI_i0_int_1.csv')\n",
    "UDI_i0_int_1\n",
    "UDI_list_i0_int_1=UDI_i0_int_1['UDI'].tolist()\n",
    "#UDI_list_i0_int_1\n",
    "\n"
   ]
  },
  {
   "cell_type": "code",
   "execution_count": null,
   "metadata": {},
   "outputs": [],
   "source": [
    "### All date variables: \n",
    "\n",
    "\n",
    "os.chdir(\"/temp_project/ukbb/data/i0\")\n",
    "\n",
    "vartab_dat_i0=vartab_date[vartab_date['udip2m']==0]\n",
    "to_dat_list=freq_chk(vartab_dat_i0,'udip1',output=False)\n",
    "\n",
    "### At i=0, lsit of date var only 1 measurement\n",
    "#tolist[tolist['count']==1].iloc[:,-1].tolist()\n",
    "list_i0_dat_1=to_dat_list[to_dat_list['count']==1].index.tolist()\n",
    "\n",
    "### At i=0, lsit of date var >= 2 measurements\n",
    "#tolist[tolist['count']==1].iloc[:,-1].tolist()\n",
    "list_i0_dat_2=to_dat_list[to_dat_list['count']>1].index.tolist()\n",
    "vartab_dat_i0.head()\n",
    "\n",
    "\n",
    "\n",
    "list_i0_dat_1\n",
    "#list_i0_dat_2   ###### Need to discuss about how to re-structure\n",
    "\n",
    "UDI_i0_dat_1=vartab_dat_i0.loc[vartab_dat_i0['udip1'].isin(list_i0_dat_1)]\n",
    "UDI_list_i0_dat_1=UDI_i0_dat_1['UDI'].tolist()\n",
    "#for r in list_i0_dat_1:\n",
    " #   vartab_dat_i0\n",
    "#UDI_list_i0_dat_1\n",
    "UDI_i0_dat_1['UDI'].to_csv('aUDI_i0_dat_1.csv',header='UDI')\n",
    "\n",
    "UDI_i0_dat_1=pd.read_csv('aUDI_i0_dat_1.csv')\n",
    "UDI_i0_dat_1\n",
    "UDI_list_i0_dat_1=UDI_i0_dat_1['UDI'].tolist()\n",
    "#UDI_list_i0_dat_1\n",
    "\n"
   ]
  },
  {
   "cell_type": "code",
   "execution_count": null,
   "metadata": {},
   "outputs": [],
   "source": [
    "### All time variables: \n",
    "\n",
    "\n",
    "os.chdir(\"/temp_project/ukbb/data/i0\")\n",
    "\n",
    "vartab_tim_i0=vartab_time[vartab_time['udip2m']==0]\n",
    "to_tim_list=freq_chk(vartab_tim_i0,'udip1',output=False)\n",
    "\n",
    "### At i=0, lsit of time var only 1 measurement\n",
    "#tolist[tolist['count']==1].iloc[:,-1].tolist()\n",
    "list_i0_tim_1=to_tim_list[to_tim_list['count']==1].index.tolist()\n",
    "\n",
    "### At i=0, lsit of time var >= 2 measurements\n",
    "#tolist[tolist['count']==1].iloc[:,-1].tolist()\n",
    "list_i0_tim_2=to_tim_list[to_tim_list['count']>1].index.tolist()\n",
    "vartab_tim_i0.head()\n",
    "\n",
    "\n",
    "\n",
    "list_i0_tim_1\n",
    "#list_i0_tim_2   ###### Need to discuss about how to re-structure\n",
    "\n",
    "UDI_i0_tim_1=vartab_tim_i0.loc[vartab_tim_i0['udip1'].isin(list_i0_tim_1)]\n",
    "UDI_list_i0_tim_1=UDI_i0_tim_1['UDI'].tolist()\n",
    "#for r in list_i0_tim_1:\n",
    " #   vartab_tim_i0\n",
    "#UDI_list_i0_tim_1\n",
    "UDI_i0_tim_1['UDI'].to_csv('aUDI_i0_tim_1.csv',header='UDI')\n",
    "\n",
    "UDI_i0_tim_1=pd.read_csv('aUDI_i0_tim_1.csv')\n",
    "UDI_i0_tim_1\n",
    "UDI_list_i0_tim_1=UDI_i0_tim_1['UDI'].tolist()\n",
    "#UDI_list_i0_tim_1\n",
    "\n"
   ]
  },
  {
   "cell_type": "code",
   "execution_count": null,
   "metadata": {},
   "outputs": [],
   "source": [
    "### All curv variables: \n",
    "\n",
    "\n",
    "os.chdir(\"/temp_project/ukbb/data/i0\")\n",
    "\n",
    "vartab_cur_i0=vartab_curv[vartab_curv['udip2m']==0]\n",
    "to_cur_list=freq_chk(vartab_cur_i0,'udip1',output=False)\n",
    "\n",
    "### At i=0, lsit of curv var only 1 measurement\n",
    "#tolist[tolist['count']==1].iloc[:,-1].tolist()\n",
    "list_i0_cur_1=to_cur_list[to_cur_list['count']==1].index.tolist()\n",
    "\n",
    "### At i=0, lsit of curv var >= 2 measurements\n",
    "#tolist[tolist['count']==1].iloc[:,-1].tolist()\n",
    "list_i0_cur_2=to_cur_list[to_cur_list['count']>1].index.tolist()\n",
    "vartab_cur_i0.head()\n",
    "\n",
    "\n",
    "\n",
    "list_i0_cur_1\n",
    "#list_i0_cur_2   ###### Need to discuss about how to re-structure\n",
    "\n",
    "UDI_i0_cur_1=vartab_cur_i0.loc[vartab_cur_i0['udip1'].isin(list_i0_cur_1)]\n",
    "UDI_list_i0_cur_1=UDI_i0_cur_1['UDI'].tolist()\n",
    "#for r in list_i0_cur_1:\n",
    " #   vartab_cur_i0\n",
    "#UDI_list_i0_cur_1\n",
    "UDI_i0_cur_1['UDI'].to_csv('aUDI_i0_cur_1.csv',header='UDI')\n",
    "\n",
    "UDI_i0_cur_1=pd.read_csv('aUDI_i0_cur_1.csv')\n",
    "UDI_i0_cur_1\n",
    "UDI_list_i0_cur_1=UDI_i0_cur_1['UDI'].tolist()\n",
    "#UDI_list_i0_cur_1\n",
    "\n"
   ]
  },
  {
   "cell_type": "code",
   "execution_count": null,
   "metadata": {},
   "outputs": [],
   "source": [
    "### All text variables: \n",
    "\n",
    "\n",
    "os.chdir(\"/temp_project/ukbb/data/i0\")\n",
    "\n",
    "vartab_tex_i0=vartab_text[vartab_text['udip2m']==0]\n",
    "to_tex_list=freq_chk(vartab_tex_i0,'udip1',output=False)\n",
    "\n",
    "### At i=0, lsit of text var only 1 measurement\n",
    "#tolist[tolist['count']==1].iloc[:,-1].tolist()\n",
    "list_i0_tex_1=to_tex_list[to_tex_list['count']==1].index.tolist()\n",
    "\n",
    "### At i=0, lsit of text var >= 2 measurements\n",
    "#tolist[tolist['count']==1].iloc[:,-1].tolist()\n",
    "list_i0_tex_2=to_tex_list[to_tex_list['count']>1].index.tolist()\n",
    "vartab_tex_i0.head()\n",
    "\n",
    "\n",
    "\n",
    "list_i0_tex_1\n",
    "#list_i0_tex_2   ###### Need to discuss about how to re-structure\n",
    "\n",
    "UDI_i0_tex_1=vartab_tex_i0.loc[vartab_tex_i0['udip1'].isin(list_i0_tex_1)]\n",
    "UDI_list_i0_tex_1=UDI_i0_tex_1['UDI'].tolist()\n",
    "#for r in list_i0_tex_1:\n",
    " #   vartab_tex_i0\n",
    "#UDI_list_i0_tex_1\n",
    "UDI_i0_tex_1['UDI'].to_csv('aUDI_i0_tex_1.csv',header='UDI')\n",
    "\n",
    "UDI_i0_tex_1=pd.read_csv('aUDI_i0_tex_1.csv')\n",
    "UDI_i0_tex_1\n",
    "UDI_list_i0_tex_1=UDI_i0_tex_1['UDI'].tolist()\n",
    "#UDI_list_i0_tex_1\n",
    "\n"
   ]
  },
  {
   "cell_type": "code",
   "execution_count": null,
   "metadata": {},
   "outputs": [],
   "source": []
  },
  {
   "cell_type": "code",
   "execution_count": null,
   "metadata": {},
   "outputs": [],
   "source": [
    "### All categorical (single) variables: \n",
    "\n",
    "\n",
    "os.chdir(\"/temp_project/ukbb/data/i0\")\n",
    "\n",
    "vartab_cas_i0=vartab_cat_si[vartab_cat_si['udip2m']==0]\n",
    "vartab_cas_i0.CatLv.describe()\n",
    "#freq_chk(vartab_cas_i0,'udip2n')\n",
    "\n",
    "#freq_chk(vartab_cas_i0[vartab_cas_i0['udip2n']>0], )\n",
    "\n",
    "\n",
    "\n",
    "os.chdir(\"/temp_project/ukbb/data/i0\")\n",
    "\n",
    "vartab_cas_i0=vartab_cat_si[vartab_cat_si['udip2m']==0]\n",
    "to_cas_list=freq_chk(vartab_cas_i0,'udip1',output=False)\n",
    "#to_cas_list"
   ]
  },
  {
   "cell_type": "code",
   "execution_count": null,
   "metadata": {},
   "outputs": [],
   "source": [
    "os.chdir(\"/temp_project/ukbb/data/i0\")\n",
    "\n",
    "vartab_cas_i0=vartab_cat_si[vartab_cat_si['udip2m']==0]\n",
    "vartab_cas_i0.CatLv.describe()\n",
    "#freq_chk(vartab_cas_i0,'udip2n')\n",
    "\n",
    "#freq_chk(vartab_cas_i0[vartab_cas_i0['udip2n']>0], )\n",
    "\n",
    "\n",
    "\n",
    "os.chdir(\"/temp_project/ukbb/data/i0\")\n",
    "\n",
    "vartab_cas_i0=vartab_cat_si[vartab_cat_si['udip2m']==0]\n",
    "to_cas_list=freq_chk(vartab_cas_i0,'udip1',output=False)\n",
    "\n",
    "### At i=0, lsit of text var only 1 measurement\n",
    "#tolist[tolist['count']==1].iloc[:,-1].tolist()\n",
    "list_i0_tex_1=to_tex_list[to_tex_list['count']==1].index.tolist()\n",
    "\n",
    "### At i=0, lsit of text var >= 2 measurements\n",
    "#tolist[tolist['count']==1].iloc[:,-1].tolist()\n",
    "list_i0_tex_2=to_tex_list[to_tex_list['count']>1].index.tolist()\n",
    "vartab_tex_i0.head()\n",
    "\n",
    "\n",
    "\n",
    "list_i0_tex_1\n",
    "#list_i0_tex_2   ###### Need to discuss about how to re-structure\n",
    "\n",
    "UDI_i0_tex_1=vartab_tex_i0.loc[vartab_tex_i0['udip1'].isin(list_i0_tex_1)]\n",
    "UDI_list_i0_tex_1=UDI_i0_tex_1['UDI'].tolist()\n",
    "#for r in list_i0_tex_1:\n",
    " #   vartab_tex_i0\n",
    "#UDI_list_i0_tex_1\n",
    "UDI_i0_tex_1['UDI'].to_csv('aUDI_i0_tex_1.csv',header='UDI')\n",
    "\n",
    "UDI_i0_tex_1=pd.read_csv('aUDI_i0_tex_1.csv')\n",
    "UDI_i0_tex_1\n",
    "UDI_list_i0_tex_1=UDI_i0_tex_1['UDI'].tolist()\n",
    "#UDI_list_i0_tex_1\n"
   ]
  },
  {
   "cell_type": "code",
   "execution_count": null,
   "metadata": {},
   "outputs": [],
   "source": [
    "vartab_cas_i0.head()"
   ]
  },
  {
   "cell_type": "code",
   "execution_count": null,
   "metadata": {},
   "outputs": [],
   "source": []
  },
  {
   "cell_type": "code",
   "execution_count": null,
   "metadata": {},
   "outputs": [],
   "source": []
  },
  {
   "cell_type": "code",
   "execution_count": null,
   "metadata": {},
   "outputs": [],
   "source": []
  },
  {
   "cell_type": "code",
   "execution_count": null,
   "metadata": {},
   "outputs": [],
   "source": []
  },
  {
   "cell_type": "code",
   "execution_count": null,
   "metadata": {},
   "outputs": [],
   "source": []
  },
  {
   "cell_type": "code",
   "execution_count": null,
   "metadata": {},
   "outputs": [],
   "source": []
  },
  {
   "cell_type": "code",
   "execution_count": null,
   "metadata": {},
   "outputs": [],
   "source": []
  }
 ],
 "metadata": {
  "kernelspec": {
   "display_name": "Python 3",
   "language": "python",
   "name": "python3"
  },
  "language_info": {
   "codemirror_mode": {
    "name": "ipython",
    "version": 3
   },
   "file_extension": ".py",
   "mimetype": "text/x-python",
   "name": "python",
   "nbconvert_exporter": "python",
   "pygments_lexer": "ipython3",
   "version": "3.6.5"
  }
 },
 "nbformat": 4,
 "nbformat_minor": 2
}
