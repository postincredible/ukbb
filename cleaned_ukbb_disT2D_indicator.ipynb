{
 "cells": [
  {
   "cell_type": "code",
   "execution_count": 67,
   "metadata": {},
   "outputs": [],
   "source": [
    "import os\n",
    "import pandas as pd\n",
    "import numpy as np"
   ]
  },
  {
   "cell_type": "code",
   "execution_count": 68,
   "metadata": {},
   "outputs": [],
   "source": [
    "os.chdir('/temp_project/all_codes')\n",
    "from ukbb_ldbf import load_data_by_fid\n",
    "\n",
    "from ukbb import search_des\n",
    "from ukbb import related_vars\n",
    "from ukbb import mm_gen_ind_list\n",
    "\n",
    "\n",
    "\n",
    "\n"
   ]
  },
  {
   "cell_type": "code",
   "execution_count": 4,
   "metadata": {},
   "outputs": [
    {
     "name": "stdout",
     "output_type": "stream",
     "text": [
      "fid 53 is a single-measure date variable, which is \n",
      "Date of attending assessment centre\n"
     ]
    }
   ],
   "source": [
    "## 53 Date info for ukbb\n",
    "df53 = load_data_by_fid(53)\n",
    "\n",
    "df53.columns=['eid','att_date']\n",
    "df53['att_date']=pd.to_datetime(df53['att_date'])\n",
    "df53['att_yr']=df53['att_date'].dt.year\n",
    "\n",
    "df53.to_csv('/temp_project/ukbb/data/dfoi/ukbb_date.csv', index=None)"
   ]
  },
  {
   "cell_type": "code",
   "execution_count": null,
   "metadata": {},
   "outputs": [],
   "source": []
  },
  {
   "cell_type": "code",
   "execution_count": null,
   "metadata": {},
   "outputs": [],
   "source": []
  },
  {
   "cell_type": "code",
   "execution_count": null,
   "metadata": {},
   "outputs": [],
   "source": []
  },
  {
   "cell_type": "code",
   "execution_count": 4,
   "metadata": {},
   "outputs": [
    {
     "name": "stdout",
     "output_type": "stream",
     "text": [
      "fid 2443 is a single-measure categorical (single) variable, which is \n",
      "Diabetes diagnosed by doctorUses data-coding 100349 comprises 4 Integer-valued members in a simple list.\n",
      "0    476196\n",
      "1     26406\n",
      "Name: ind2443, dtype: int64\n"
     ]
    }
   ],
   "source": [
    "## 2443 Diabetes diagnosed by doctor\n",
    "dfc2443=load_data_by_fid(2443)\n",
    "dfc2443[dfc2443.columns[1]].value_counts()\n",
    "\n",
    "dfa2443=dfc2443.copy()\n",
    "df_ind2443=dfc2443[['eid']].copy()\n",
    "\n",
    "df_ind2443['ind2443']=dfc2443[dfc2443.columns[1]].values.tolist()\n",
    "\n",
    "#df_ind.ind2443=df_ind.ind2443.apply(lambda y: '1' if float(y)==1.0 else '0' )\n",
    "df_ind2443.ind2443=df_ind2443.ind2443.apply(lambda y: 1 if float(y)==1 else 0 )\n",
    "\n",
    "print(df_ind2443.ind2443.value_counts())\n",
    "\n"
   ]
  },
  {
   "cell_type": "code",
   "execution_count": 5,
   "metadata": {},
   "outputs": [
    {
     "name": "stdout",
     "output_type": "stream",
     "text": [
      "fid 6153 is a multiple-measure categorical (multiple) variable\n",
      "fid 6153  insulin3 count: 2267 ind from 502602\n"
     ]
    }
   ],
   "source": [
    "# 6153 Medication for cholesterol, blood pressure, diabetes, or take exogenous hormones\t3=Insulin\n",
    "df_ind6153=mm_gen_ind_list(fid_in=6153,key_code_list=[3],evt='insulin')"
   ]
  },
  {
   "cell_type": "code",
   "execution_count": 10,
   "metadata": {},
   "outputs": [
    {
     "data": {
      "text/html": [
       "<div>\n",
       "<style scoped>\n",
       "    .dataframe tbody tr th:only-of-type {\n",
       "        vertical-align: middle;\n",
       "    }\n",
       "\n",
       "    .dataframe tbody tr th {\n",
       "        vertical-align: top;\n",
       "    }\n",
       "\n",
       "    .dataframe thead th {\n",
       "        text-align: right;\n",
       "    }\n",
       "</style>\n",
       "<table border=\"1\" class=\"dataframe\">\n",
       "  <thead>\n",
       "    <tr style=\"text-align: right;\">\n",
       "      <th></th>\n",
       "      <th>eid</th>\n",
       "      <th>ind6153_insulin3</th>\n",
       "    </tr>\n",
       "  </thead>\n",
       "  <tbody>\n",
       "    <tr>\n",
       "      <th>0</th>\n",
       "      <td>1000011</td>\n",
       "      <td>0</td>\n",
       "    </tr>\n",
       "    <tr>\n",
       "      <th>1</th>\n",
       "      <td>1000026</td>\n",
       "      <td>0</td>\n",
       "    </tr>\n",
       "    <tr>\n",
       "      <th>2</th>\n",
       "      <td>1000032</td>\n",
       "      <td>0</td>\n",
       "    </tr>\n",
       "    <tr>\n",
       "      <th>3</th>\n",
       "      <td>1000044</td>\n",
       "      <td>0</td>\n",
       "    </tr>\n",
       "    <tr>\n",
       "      <th>4</th>\n",
       "      <td>1000058</td>\n",
       "      <td>0</td>\n",
       "    </tr>\n",
       "  </tbody>\n",
       "</table>\n",
       "</div>"
      ],
      "text/plain": [
       "       eid  ind6153_insulin3\n",
       "0  1000011                 0\n",
       "1  1000026                 0\n",
       "2  1000032                 0\n",
       "3  1000044                 0\n",
       "4  1000058                 0"
      ]
     },
     "execution_count": 10,
     "metadata": {},
     "output_type": "execute_result"
    }
   ],
   "source": [
    "df_ind6153.head()"
   ]
  },
  {
   "cell_type": "code",
   "execution_count": 7,
   "metadata": {},
   "outputs": [
    {
     "name": "stdout",
     "output_type": "stream",
     "text": [
      "fid 6177 is a multiple-measure categorical (multiple) variable\n",
      "fid 6177  insulin3 count: 3346 ind from 502602\n"
     ]
    }
   ],
   "source": [
    "# 6177 6177\tMedication for cholesterol, blood pressure or diabetes\t3=Insulin\n",
    "df_ind6177=mm_gen_ind_list(fid_in=6177,key_code_list=[3],evt='insulin')"
   ]
  },
  {
   "cell_type": "code",
   "execution_count": 8,
   "metadata": {},
   "outputs": [
    {
     "name": "stdout",
     "output_type": "stream",
     "text": [
      "fid 20002 is a multiple-measure categorical (multiple) variable\n",
      "fid 20002  T1D1222 count: 438 ind from 502602\n",
      "fid 20002 is a multiple-measure categorical (multiple) variable\n",
      "fid 20002  T2D1223 count: 3377 ind from 502602\n"
     ]
    }
   ],
   "source": [
    "# 20002 self-report noncancer illness T1D:1222   T2D:1223\n",
    "\n",
    "df_ind20002_T1D=mm_gen_ind_list(fid_in=20002,key_code_list=[1222],evt='T1D')\n",
    "df_ind20002_T2D=mm_gen_ind_list(fid_in=20002,key_code_list=[1223],evt='T2D')"
   ]
  },
  {
   "cell_type": "code",
   "execution_count": 69,
   "metadata": {},
   "outputs": [
    {
     "name": "stdout",
     "output_type": "stream",
     "text": [
      "fid 20002 is a single-measure categorical (multiple) variable, which is \n",
      "Non-cancer illness code, self-reportedUses data-coding 6 comprises 474 Integer-valued members in a hierarchical tree.\n",
      "fid 20002  RA1464 count: 5658 ind from 502602\n"
     ]
    }
   ],
   "source": [
    "# 20002 self-report noncancer illness\n",
    "\n",
    "df_ind20002_RA=mm_gen_ind_list(fid_in=20002,key_code_list=[1464],evt='RA')"
   ]
  },
  {
   "cell_type": "code",
   "execution_count": null,
   "metadata": {},
   "outputs": [],
   "source": []
  },
  {
   "cell_type": "markdown",
   "metadata": {},
   "source": [
    "## ICD9/10"
   ]
  },
  {
   "cell_type": "code",
   "execution_count": 11,
   "metadata": {},
   "outputs": [
    {
     "name": "stdout",
     "output_type": "stream",
     "text": [
      "fid 41202 is a multiple-measure categorical (multiple) variable\n",
      "fid 41202  T1DE10 count: 865 ind from 502602\n",
      "fid 41202 is a multiple-measure categorical (multiple) variable\n",
      "fid 41202  T2DE11 count: 1392 ind from 502602\n",
      "fid 41202 is a multiple-measure categorical (multiple) variable\n",
      "fid 41202  T2DE111 count: 115 ind from 502602\n",
      "fid 41202 is a multiple-measure categorical (multiple) variable\n",
      "fid 41202  T2DE116 count: 42 ind from 502602\n",
      "fid 41202 is a multiple-measure categorical (multiple) variable\n",
      "fid 41202  T2DE131 count: 5 ind from 502602\n"
     ]
    }
   ],
   "source": [
    "## 41202 ICD10 main\n",
    "df_ind41202_T1D=mm_gen_ind_list(fid_in=41202,key_code_list=['E10'],evt='T1D')\n",
    "df_ind41202_T2D=mm_gen_ind_list(fid_in=41202,key_code_list=['E11'],evt='T2D')\n",
    "df_ind41202_T2Dex=mm_gen_ind_list(fid_in=41202,key_code_list=['E111','E116','E131'],evt='T2D')\n",
    "#df_ind41202_T2Dex[df_ind41202_T2Dex.ind41202_T2DE131==1]"
   ]
  },
  {
   "cell_type": "code",
   "execution_count": 12,
   "metadata": {},
   "outputs": [
    {
     "name": "stdout",
     "output_type": "stream",
     "text": [
      "fid 41204 is a multiple-measure categorical (multiple) variable\n",
      "fid 41204  T1DE10 count: 3434 ind from 502602\n",
      "fid 41204 is a multiple-measure categorical (multiple) variable\n",
      "fid 41204  T2DE11 count: 23878 ind from 502602\n",
      "fid 41204 is a multiple-measure categorical (multiple) variable\n",
      "fid 41204  T2DE111 count: 66 ind from 502602\n",
      "fid 41204 is a multiple-measure categorical (multiple) variable\n",
      "fid 41204  T2DE116 count: 90 ind from 502602\n",
      "fid 41204 is a multiple-measure categorical (multiple) variable\n",
      "fid 41204  T2DE131 count: 1 ind from 502602\n"
     ]
    }
   ],
   "source": [
    "## 41204 ICD10 second\n",
    "df_ind41204_T1D=mm_gen_ind_list(fid_in=41204,key_code_list=['E10'],evt='T1D')\n",
    "df_ind41204_T2D=mm_gen_ind_list(fid_in=41204,key_code_list=['E11'],evt='T2D')\n",
    "df_ind41204_T2Dex=mm_gen_ind_list(fid_in=41204,key_code_list=['E111','E116','E131'],evt='T2D')"
   ]
  },
  {
   "cell_type": "code",
   "execution_count": 13,
   "metadata": {},
   "outputs": [
    {
     "name": "stdout",
     "output_type": "stream",
     "text": [
      "fid 41203 is a multiple-measure categorical (multiple) variable\n",
      "fid 41203  T1D25001 count: 9 ind from 502602\n",
      "fid 41203 is a multiple-measure categorical (multiple) variable\n",
      "fid 41203  T1D25011 count: 2 ind from 502602\n",
      "fid 41203 is a multiple-measure categorical (multiple) variable\n",
      "fid 41203  T1D25021 count: 0 ind from 502602\n",
      "fid 41203 is a multiple-measure categorical (multiple) variable\n",
      "fid 41203  T1D25091 count: 0 ind from 502602\n",
      "fid 41203 is a multiple-measure categorical (multiple) variable\n",
      "fid 41203  T2D25000 count: 18 ind from 502602\n",
      "fid 41203 is a multiple-measure categorical (multiple) variable\n",
      "fid 41203  T2D25020 count: 0 ind from 502602\n",
      "fid 41203 is a multiple-measure categorical (multiple) variable\n",
      "fid 41203  T2D25090 count: 0 ind from 502602\n",
      "fid 41203 is a multiple-measure categorical (multiple) variable\n",
      "fid 41203  T2D25010 count: 2 ind from 502602\n"
     ]
    }
   ],
   "source": [
    "## 41203 ICD9 main\n",
    "df_ind41203_T1D=mm_gen_ind_list(fid_in=41203,key_code_list=['25001','25011','25021','25091'],evt='T1D')\n",
    "df_ind41203_T2D=mm_gen_ind_list(fid_in=41203,key_code_list=['25000','25020','25090'],evt='T2D')\n",
    "df_ind41203_T2Dex=mm_gen_ind_list(fid_in=41203,key_code_list=['25010'],evt='T2D')"
   ]
  },
  {
   "cell_type": "code",
   "execution_count": 14,
   "metadata": {},
   "outputs": [
    {
     "name": "stdout",
     "output_type": "stream",
     "text": [
      "fid 41205 is a multiple-measure categorical (multiple) variable\n",
      "fid 41205  T1D25001 count: 9 ind from 502602\n",
      "fid 41205 is a multiple-measure categorical (multiple) variable\n",
      "fid 41205  T1D25011 count: 1 ind from 502602\n",
      "fid 41205 is a multiple-measure categorical (multiple) variable\n",
      "fid 41205  T1D25021 count: 0 ind from 502602\n",
      "fid 41205 is a multiple-measure categorical (multiple) variable\n",
      "fid 41205  T1D25091 count: 0 ind from 502602\n",
      "fid 41205 is a multiple-measure categorical (multiple) variable\n",
      "fid 41205  T2D25000 count: 23 ind from 502602\n",
      "fid 41205 is a multiple-measure categorical (multiple) variable\n",
      "fid 41205  T2D25020 count: 0 ind from 502602\n",
      "fid 41205 is a multiple-measure categorical (multiple) variable\n",
      "fid 41205  T2D25090 count: 0 ind from 502602\n",
      "fid 41205 is a multiple-measure categorical (multiple) variable\n",
      "fid 41205  T2D25010 count: 0 ind from 502602\n"
     ]
    }
   ],
   "source": [
    "## 41205 ICD9 second\n",
    "df_ind41205_T1D=mm_gen_ind_list(fid_in=41205,key_code_list=['25001','25011','25021','25091'],evt='T1D')\n",
    "df_ind41205_T2D=mm_gen_ind_list(fid_in=41205,key_code_list=['25000','25020','25090'],evt='T2D')\n",
    "df_ind41205_T2Dex=mm_gen_ind_list(fid_in=41205,key_code_list=['25010'],evt='T2D')\n"
   ]
  },
  {
   "cell_type": "code",
   "execution_count": 24,
   "metadata": {},
   "outputs": [],
   "source": [
    "df_icd_T1D_list=[df_ind41202_T1D, df_ind41204_T1D, df_ind41203_T1D, df_ind41205_T1D]\n",
    "df_icd_T2D_list=[df_ind41202_T2D, df_ind41204_T2D, df_ind41203_T2D, df_ind41205_T2D]\n",
    "df_icd_T2Dex_list=[df_ind41202_T2Dex, df_ind41204_T2Dex, df_ind41203_T2Dex, df_ind41205_T2Dex]"
   ]
  },
  {
   "cell_type": "code",
   "execution_count": 25,
   "metadata": {},
   "outputs": [],
   "source": [
    "\n",
    "icd_T1D_ind_pre=pd.concat(df_icd_T1D_list,axis=1)\n",
    "icd_T1D_ind_pre=icd_T1D_ind_pre.loc[:,~icd_T1D_ind_pre.columns.duplicated()] \n",
    "icd_T1D_ind=icd_T1D_ind_pre[['eid']].copy()\n",
    "icd_T1D_ind['icd_T1D_ind']=icd_T1D_ind_pre.drop('eid',axis=1).sum(axis=1)\n",
    "icd_T1D_ind.icd_T1D_ind=icd_T1D_ind.icd_T1D_ind.apply(lambda y: 1 if y>0 else y)\n",
    "\n",
    "\n",
    "\n",
    "icd_T2D_ind_pre=pd.concat(df_icd_T2D_list,axis=1)\n",
    "icd_T2D_ind_pre=icd_T2D_ind_pre.loc[:,~icd_T2D_ind_pre.columns.duplicated()] \n",
    "icd_T2D_ind=icd_T2D_ind_pre[['eid']].copy()\n",
    "icd_T2D_ind['icd_T2D_ind']=icd_T2D_ind_pre.drop('eid',axis=1).sum(axis=1)\n",
    "icd_T2D_ind.icd_T2D_ind=icd_T2D_ind.icd_T2D_ind.apply(lambda y: 1 if y>0 else y)\n",
    "\n",
    "\n",
    "\n",
    "\n",
    "icd_T2Dex_ind_pre=pd.concat(df_icd_T2Dex_list,axis=1)\n",
    "icd_T2Dex_ind_pre=icd_T2Dex_ind_pre.loc[:,~icd_T2Dex_ind_pre.columns.duplicated()] \n",
    "icd_T2Dex_ind=icd_T2Dex_ind_pre[['eid']].copy()\n",
    "icd_T2Dex_ind['icd_T2Dex_ind']=icd_T2Dex_ind_pre.drop('eid',axis=1).sum(axis=1)\n",
    "icd_T2Dex_ind.icd_T2Dex_ind=icd_T2Dex_ind.icd_T2Dex_ind.apply(lambda y: 1 if y>0 else y)\n",
    "\n"
   ]
  },
  {
   "cell_type": "code",
   "execution_count": 26,
   "metadata": {},
   "outputs": [
    {
     "name": "stdout",
     "output_type": "stream",
     "text": [
      "T1D freq:\n",
      "0    498954\n",
      "1      3648\n",
      "Name: icd_T1D_ind, dtype: int64\n",
      "\n",
      "T2D freq:\n",
      "0    478438\n",
      "1     24164\n",
      "Name: icd_T2D_ind, dtype: int64\n",
      "\n",
      "T2Dex freq:\n",
      "0    502320\n",
      "1       282\n",
      "Name: icd_T2Dex_ind, dtype: int64\n"
     ]
    }
   ],
   "source": [
    "print('T1D freq:')\n",
    "print(icd_T1D_ind.icd_T1D_ind.value_counts())\n",
    "print('\\nT2D freq:')\n",
    "print(icd_T2D_ind.icd_T2D_ind.value_counts())\n",
    "print('\\nT2Dex freq:')\n",
    "print(icd_T2Dex_ind.icd_T2Dex_ind.value_counts())"
   ]
  },
  {
   "cell_type": "code",
   "execution_count": 27,
   "metadata": {},
   "outputs": [],
   "source": [
    "icd_ind_list=[icd_T1D_ind,icd_T2D_ind,icd_T2Dex_ind]\n",
    "icd_ind=pd.concat(icd_ind_list,axis=1)\n",
    "icd_ind=icd_ind.loc[:,~icd_ind.columns.duplicated()] "
   ]
  },
  {
   "cell_type": "code",
   "execution_count": null,
   "metadata": {},
   "outputs": [],
   "source": []
  },
  {
   "cell_type": "code",
   "execution_count": 29,
   "metadata": {},
   "outputs": [],
   "source": [
    "### Add medication indicators\n",
    "#os.chdir('/temp_project/ukbb/data/i0')\n",
    "df_ind20003_T2D=pd.read_csv('/temp_project/ukbb/data/i0/varOutcome/T2D/meds_ind_T2D.csv')\n",
    "df_ind20003_T2D.columns=['eid','meds_T2D_ind']"
   ]
  },
  {
   "cell_type": "code",
   "execution_count": 30,
   "metadata": {},
   "outputs": [],
   "source": [
    "### Add other indicators: \n",
    "## 2443 Diabetes diagnosed by doctor\n",
    "## 6153 Medication for cholesterol, blood pressure, diabetes, or take exogenous hormones\t3=Insulin\n",
    "## 6177 Medication for cholesterol, blood pressure or diabetes\t3=Insulin\n",
    "## 20002 self-report noncancer illness T1D:1222   T2D:1223\n",
    "\n",
    "all_ind_list=[icd_ind, df_ind20003_T2D, df_ind2443, df_ind6153, df_ind6177, df_ind20002_T1D, df_ind20002_T2D]\n",
    "all_ind=pd.concat(all_ind_list,axis=1)\n",
    "all_ind=all_ind.loc[:,~all_ind.columns.duplicated()] "
   ]
  },
  {
   "cell_type": "code",
   "execution_count": 31,
   "metadata": {},
   "outputs": [],
   "source": [
    "all_ind.to_csv('/temp_project/ukbb/data/i0/varOutcome/T2D/all_DM_ind.csv', index=None)"
   ]
  },
  {
   "cell_type": "code",
   "execution_count": 32,
   "metadata": {},
   "outputs": [
    {
     "data": {
      "text/plain": [
       "['eid',\n",
       " 'icd_T1D_ind',\n",
       " 'icd_T2D_ind',\n",
       " 'icd_T2Dex_ind',\n",
       " 'meds_T2D_ind',\n",
       " 'ind2443',\n",
       " 'ind6153_insulin3',\n",
       " 'ind6177_insulin3',\n",
       " 'ind20002_T1D1222',\n",
       " 'ind20002_T2D1223']"
      ]
     },
     "execution_count": 32,
     "metadata": {},
     "output_type": "execute_result"
    }
   ],
   "source": [
    "list(all_ind.columns)"
   ]
  },
  {
   "cell_type": "code",
   "execution_count": 3,
   "metadata": {},
   "outputs": [],
   "source": [
    "all_ind = pd.read_csv('/temp_project/ukbb/data/i0/varOutcome/T2D/all_DM_ind.csv')"
   ]
  },
  {
   "cell_type": "code",
   "execution_count": 4,
   "metadata": {},
   "outputs": [],
   "source": [
    "cond1=all_ind.icd_T1D_ind==1\n",
    "cond2=all_ind.icd_T2D_ind==1\n",
    "cond3=all_ind.icd_T2Dex_ind==1\n",
    "cond4=all_ind.meds_T2D_ind==1"
   ]
  },
  {
   "cell_type": "code",
   "execution_count": 18,
   "metadata": {},
   "outputs": [],
   "source": [
    "with_dm_icd=all_ind[cond1 | cond2 | cond3]\n",
    "without_dm_icd=all_ind[~cond1 & ~cond2 & ~cond3]"
   ]
  },
  {
   "cell_type": "code",
   "execution_count": 6,
   "metadata": {},
   "outputs": [
    {
     "name": "stdout",
     "output_type": "stream",
     "text": [
      "with DM ICD code count: 25251\n",
      "w/o DM ICD code count: 477351\n"
     ]
    },
    {
     "data": {
      "text/plain": [
       "502602"
      ]
     },
     "execution_count": 6,
     "metadata": {},
     "output_type": "execute_result"
    }
   ],
   "source": [
    "print('with DM ICD code count: '+str(with_dm_icd.eid.count()))\n",
    "print('w/o DM ICD code count: '+str(without_dm_icd.eid.count()))\n",
    "    \n",
    "25251+477351"
   ]
  },
  {
   "cell_type": "code",
   "execution_count": 20,
   "metadata": {},
   "outputs": [
    {
     "name": "stdout",
     "output_type": "stream",
     "text": [
      "possible T2D count: 21449\n",
      "T1D or T2Dex count: 3802\n",
      "meds ind freq in possible T2D: \n"
     ]
    },
    {
     "data": {
      "text/plain": [
       "0    11880\n",
       "1     9569\n",
       "Name: meds_T2D_ind, dtype: int64"
      ]
     },
     "execution_count": 20,
     "metadata": {},
     "output_type": "execute_result"
    }
   ],
   "source": [
    "with_dm_icd_T2D=all_ind[~cond1 & cond2 & ~cond3]\n",
    "\n",
    "print('possible T2D count: '+str(with_dm_icd_T2D.eid.count()))\n",
    "print('T1D or T2Dex count: '+str(25251-with_dm_icd_T2D.icd_T2D_ind.count()))\n",
    "\n",
    "print('meds ind freq in possible T2D: ')\n",
    "with_dm_icd_T2D.meds_T2D_ind.value_counts()"
   ]
  },
  {
   "cell_type": "code",
   "execution_count": 21,
   "metadata": {},
   "outputs": [],
   "source": [
    "### save dataframe with any dm icd indicators\n",
    "with_dm_icd.to_csv('/temp_project/ukbb/data/i0/varOutcome/T2D/with_dm_icd.csv', index=None)\n",
    "### save dataframe possible T2D case\n",
    "with_dm_icd_T2D.to_csv('/temp_project/ukbb/data/i0/varOutcome/T2D/with_dm_icd_T2D.csv',index=None)"
   ]
  },
  {
   "cell_type": "code",
   "execution_count": null,
   "metadata": {},
   "outputs": [],
   "source": []
  },
  {
   "cell_type": "code",
   "execution_count": 23,
   "metadata": {},
   "outputs": [
    {
     "data": {
      "text/plain": [
       "21449"
      ]
     },
     "execution_count": 23,
     "metadata": {},
     "output_type": "execute_result"
    }
   ],
   "source": [
    "with_dm_icd_T2D=pd.read_csv('/temp_project/ukbb/data/i0/varOutcome/T2D/with_dm_icd_T2D.csv')\n",
    "with_dm_icd_T2D.eid.count()"
   ]
  },
  {
   "cell_type": "code",
   "execution_count": null,
   "metadata": {},
   "outputs": [],
   "source": []
  },
  {
   "cell_type": "code",
   "execution_count": 24,
   "metadata": {},
   "outputs": [],
   "source": [
    "### save T2D case p1\n",
    "\n",
    "T2D_case_p1=with_dm_icd_T2D[with_dm_icd_T2D.meds_T2D_ind==1]\n",
    "T2D_case_p1.to_csv('/temp_project/ukbb/data/i0/varOutcome/T2D/T2D_case_p1.csv',index=None)"
   ]
  },
  {
   "cell_type": "code",
   "execution_count": 15,
   "metadata": {},
   "outputs": [],
   "source": [
    "## 11880 need further lab info to confirm\n",
    "## 9569 is T2D case \n",
    "\n",
    "### save 11880 need further lab info to confirm\n",
    "\n",
    "with_T2D_possible_case_need_lab=with_dm_icd_T2D[with_dm_icd_T2D.meds_T2D_ind==0]\n",
    "with_T2D_possible_case_need_lab.to_csv('/temp_project/ukbb/data/i0/varOutcome/T2D/with_T2D_possible_case_need_lab.csv',index=None)"
   ]
  },
  {
   "cell_type": "code",
   "execution_count": null,
   "metadata": {},
   "outputs": [],
   "source": []
  },
  {
   "cell_type": "code",
   "execution_count": 39,
   "metadata": {},
   "outputs": [
    {
     "data": {
      "text/plain": [
       "['eid',\n",
       " 'icd_T1D_ind',\n",
       " 'icd_T2D_ind',\n",
       " 'icd_T2Dex_ind',\n",
       " 'meds_T2D_ind',\n",
       " 'ind2443',\n",
       " 'ind6153_insulin3',\n",
       " 'ind6177_insulin3',\n",
       " 'ind20002_T1D1222',\n",
       " 'ind20002_T2D1223']"
      ]
     },
     "execution_count": 39,
     "metadata": {},
     "output_type": "execute_result"
    }
   ],
   "source": [
    "## without ICD code\n",
    "#without_dm_icd.to_csv('/temp_project/ukbb/data/i0/varOutcome/T2D/without_dm_icd.csv',index=None)\n",
    "\n",
    "without_dm_icd=pd.read_csv('/temp_project/ukbb/data/i0/varOutcome/T2D/without_dm_icd.csv')\n",
    "\n",
    "\n",
    "list(without_dm_icd.columns)"
   ]
  },
  {
   "cell_type": "code",
   "execution_count": 40,
   "metadata": {},
   "outputs": [
    {
     "data": {
      "text/plain": [
       "477351"
      ]
     },
     "execution_count": 40,
     "metadata": {},
     "output_type": "execute_result"
    }
   ],
   "source": [
    "without_dm_icd.eid.count()"
   ]
  },
  {
   "cell_type": "code",
   "execution_count": 41,
   "metadata": {},
   "outputs": [
    {
     "data": {
      "text/html": [
       "<div>\n",
       "<style scoped>\n",
       "    .dataframe tbody tr th:only-of-type {\n",
       "        vertical-align: middle;\n",
       "    }\n",
       "\n",
       "    .dataframe tbody tr th {\n",
       "        vertical-align: top;\n",
       "    }\n",
       "\n",
       "    .dataframe thead th {\n",
       "        text-align: right;\n",
       "    }\n",
       "</style>\n",
       "<table border=\"1\" class=\"dataframe\">\n",
       "  <thead>\n",
       "    <tr style=\"text-align: right;\">\n",
       "      <th>ind20002_T2D1223</th>\n",
       "      <th>0</th>\n",
       "      <th>1</th>\n",
       "      <th>All</th>\n",
       "    </tr>\n",
       "    <tr>\n",
       "      <th>ind20002_T1D1222</th>\n",
       "      <th></th>\n",
       "      <th></th>\n",
       "      <th></th>\n",
       "    </tr>\n",
       "  </thead>\n",
       "  <tbody>\n",
       "    <tr>\n",
       "      <th>0</th>\n",
       "      <td>476248</td>\n",
       "      <td>1036</td>\n",
       "      <td>477284</td>\n",
       "    </tr>\n",
       "    <tr>\n",
       "      <th>1</th>\n",
       "      <td>64</td>\n",
       "      <td>3</td>\n",
       "      <td>67</td>\n",
       "    </tr>\n",
       "    <tr>\n",
       "      <th>All</th>\n",
       "      <td>476312</td>\n",
       "      <td>1039</td>\n",
       "      <td>477351</td>\n",
       "    </tr>\n",
       "  </tbody>\n",
       "</table>\n",
       "</div>"
      ],
      "text/plain": [
       "ind20002_T2D1223       0     1     All\n",
       "ind20002_T1D1222                      \n",
       "0                 476248  1036  477284\n",
       "1                     64     3      67\n",
       "All               476312  1039  477351"
      ]
     },
     "execution_count": 41,
     "metadata": {},
     "output_type": "execute_result"
    }
   ],
   "source": [
    "pd.crosstab(without_dm_icd.ind20002_T1D1222,without_dm_icd.ind20002_T2D1223, margins=True)"
   ]
  },
  {
   "cell_type": "code",
   "execution_count": 42,
   "metadata": {},
   "outputs": [],
   "source": [
    "\n",
    "wocond1=without_dm_icd.meds_T2D_ind==1\n",
    "wocond2=without_dm_icd.ind20002_T1D1222==1\n",
    "wocond3=without_dm_icd.ind20002_T2D1223==1\n",
    "\n",
    "wocond4=without_dm_icd.ind2443==1\n",
    "wocond5=without_dm_icd.ind6153_insulin3==1\n",
    "wocond6=without_dm_icd.ind6177_insulin3==1\n"
   ]
  },
  {
   "cell_type": "code",
   "execution_count": 44,
   "metadata": {},
   "outputs": [
    {
     "name": "stdout",
     "output_type": "stream",
     "text": [
      "self-report T2D and T2D meds (not T1D self-report): 598\n",
      "self-report T2D only (not T1D self-report): 438\n",
      "T2D meds only (not T1D self-report): 3703\n"
     ]
    }
   ],
   "source": [
    "print('self-report T2D and T2D meds (not T1D self-report): '+str(len(without_dm_icd[wocond1 & ~wocond2 & wocond3].eid.tolist())))\n",
    "print('self-report T2D only (not T1D self-report): '+str(len(without_dm_icd[~wocond1 & ~wocond2 & wocond3].eid.tolist())))\n",
    "print('T2D meds only (not T1D self-report): '+str(len(without_dm_icd[wocond1 & ~wocond2 & ~wocond3].eid.tolist())))\n",
    "\n",
    "without_dm_icd_self_report_T2D_only = without_dm_icd[~wocond1 & ~wocond2 & wocond3]\n",
    "without_dm_icd_T2D_meds_T2D_only = without_dm_icd[wocond1 & ~wocond2 & ~wocond3]\n",
    "\n",
    "without_dm_icd_self_report_T2D_only.to_csv('/temp_project/ukbb/data/i0/varOutcome/T2D/without_dm_icd_self_report_T2D_only.csv',index=None)\n",
    "without_dm_icd_T2D_meds_T2D_only.to_csv('/temp_project/ukbb/data/i0/varOutcome/T2D/without_dm_icd_T2D_meds_T2D_only.csv',index=None)\n",
    "\n"
   ]
  },
  {
   "cell_type": "code",
   "execution_count": 19,
   "metadata": {},
   "outputs": [],
   "source": [
    "\n",
    "### T2D_case_p2: 598 subjects\n",
    "\n",
    "T2D_case_p2=without_dm_icd[wocond1 & ~wocond2 & wocond3]\n",
    "T2D_case_p2.to_csv('/temp_project/ukbb/data/i0/varOutcome/T2D/T2D_case_p2.csv',index=None)"
   ]
  },
  {
   "cell_type": "code",
   "execution_count": 20,
   "metadata": {},
   "outputs": [
    {
     "name": "stdout",
     "output_type": "stream",
     "text": [
      "self report T2D or T2D meds count: 4739\n"
     ]
    },
    {
     "data": {
      "text/plain": [
       "1    4301\n",
       "0     438\n",
       "Name: meds_T2D_ind, dtype: int64"
      ]
     },
     "execution_count": 20,
     "metadata": {},
     "output_type": "execute_result"
    }
   ],
   "source": [
    "print('self report T2D or T2D meds count: '+str(without_dm_icd[(wocond1 | wocond3) & ~wocond2].eid.count()))\n",
    "without_dm_icd[(wocond1 | wocond3) & ~wocond2].meds_T2D_ind.value_counts()"
   ]
  },
  {
   "cell_type": "code",
   "execution_count": 21,
   "metadata": {},
   "outputs": [
    {
     "name": "stdout",
     "output_type": "stream",
     "text": [
      "self report T2D or T2D meds or fid2443 or fid6153 or fid6177 count: 8681\n"
     ]
    },
    {
     "data": {
      "text/plain": [
       "0    4380\n",
       "1    4301\n",
       "Name: meds_T2D_ind, dtype: int64"
      ]
     },
     "execution_count": 21,
     "metadata": {},
     "output_type": "execute_result"
    }
   ],
   "source": [
    "print('self report T2D or T2D meds or fid2443 or fid6153 or fid6177 count: '+str(without_dm_icd[(wocond1 | wocond3 | wocond4 | wocond5 | wocond6) & ~wocond2].eid.count()))\n",
    "without_dm_icd[(wocond1 | wocond3 | wocond4 | wocond5 | wocond6) & ~wocond2].meds_T2D_ind.value_counts()"
   ]
  },
  {
   "cell_type": "markdown",
   "metadata": {},
   "source": [
    "### Control group:\n",
    "\n",
    "w/o DM ICD (ctrl_pro1: 477351) \n",
    "\n",
    "--> no DM related meds/self-report/other vars (ctrl_pro2: 468602) \n",
    "\n",
    "--> no any family Hx (ctrl_pro4: 373775)\n",
    "\n",
    "--> visit count >=2  (ctrl_pro6: 85819)"
   ]
  },
  {
   "cell_type": "code",
   "execution_count": 45,
   "metadata": {},
   "outputs": [
    {
     "data": {
      "text/plain": [
       "0    497285\n",
       "1      5317\n",
       "Name: meds_insulin_ind, dtype: int64"
      ]
     },
     "execution_count": 45,
     "metadata": {},
     "output_type": "execute_result"
    }
   ],
   "source": [
    "### Add insulin medication indicator to w/o DM ICD\n",
    "#os.chdir('/temp_project/ukbb/data/i0')\n",
    "df_ind20003_insulin=pd.read_csv('/temp_project/ukbb/data/i0/varOutcome/T2D/meds_ind_insulin.csv')\n",
    "df_ind20003_insulin.columns=['eid','meds_insulin_ind']\n",
    "df_ind20003_insulin.meds_insulin_ind.value_counts()"
   ]
  },
  {
   "cell_type": "code",
   "execution_count": null,
   "metadata": {},
   "outputs": [],
   "source": []
  },
  {
   "cell_type": "code",
   "execution_count": 53,
   "metadata": {},
   "outputs": [
    {
     "name": "stdout",
     "output_type": "stream",
     "text": [
      "ctrl_pro1 count: 477351\n"
     ]
    }
   ],
   "source": [
    "\n",
    "ctrl_pro1 = pd.merge(without_dm_icd, df_ind20003_insulin, on='eid', how='left')\n",
    "\n",
    "inwocond1=ctrl_pro1.meds_T2D_ind==1\n",
    "inwocond2=ctrl_pro1.ind20002_T1D1222==1\n",
    "inwocond3=ctrl_pro1.ind20002_T2D1223==1\n",
    "\n",
    "inwocond4=ctrl_pro1.ind2443==1\n",
    "inwocond5=ctrl_pro1.ind6153_insulin3==1\n",
    "inwocond6=ctrl_pro1.ind6177_insulin3==1\n",
    "\n",
    "inwocond7=ctrl_pro1.meds_insulin_ind==1\n",
    "print('ctrl_pro1 count: '+str(ctrl_pro1.eid.count()))\n",
    "\n",
    "ctrl_pro1.to_csv('/temp_project/ukbb/data/i0/varOutcome/T2D/ctrl_pro1.csv')"
   ]
  },
  {
   "cell_type": "code",
   "execution_count": 54,
   "metadata": {},
   "outputs": [
    {
     "name": "stdout",
     "output_type": "stream",
     "text": [
      "ctrl_pro2 count: 468602\n"
     ]
    }
   ],
   "source": [
    "\n",
    "ctrl_pro2 = ctrl_pro1[~inwocond1 & ~inwocond2 & ~inwocond3 & ~inwocond4 & ~inwocond5 & ~inwocond6 & ~inwocond7 ]\n",
    "print('ctrl_pro2 count: '+str(ctrl_pro2.eid.count()))\n",
    "\n",
    "ctrl_pro2.to_csv('/temp_project/ukbb/data/i0/varOutcome/T2D/ctrl_pro2.csv')"
   ]
  },
  {
   "cell_type": "code",
   "execution_count": null,
   "metadata": {},
   "outputs": [],
   "source": [
    "## Family DM history\n",
    "20107\tCategorical (single)\t487865\tIllnesses of fatherUses data-coding 1010 compr...\t1010.0\n",
    "20110\tCategorical (single)\t493003\tIllnesses of motherUses data-coding 1010 compr...\t1010.0\n",
    "20111\tCategorical (single)\t433990\tIllnesses of siblingsUses data-coding 1010 com...\t1010.0\n",
    "20112\tCategorical (single)\t5044\tIllnesses of adopted fatherUses data-coding 10...\t1010.0\n",
    "20113\tCategorical (single)\t5432\tIllnesses of adopted motherUses data-coding 10...\t1010.0\n",
    "20114\tCategorical (single)\t3717\tIllnesses of adopted siblingsUses data-coding ...\t1010.0\n"
   ]
  },
  {
   "cell_type": "code",
   "execution_count": 55,
   "metadata": {},
   "outputs": [
    {
     "name": "stdout",
     "output_type": "stream",
     "text": [
      "fid 20107 is a single-measure categorical (single) variable, which is \n",
      "Illnesses of fatherUses data-coding 1010 comprises 18 Integer-valued members in a simple list.\n",
      "fid 20107  DM9 count: 44677 ind from 502602\n",
      "fid 20110 is a single-measure categorical (single) variable, which is \n",
      "Illnesses of motherUses data-coding 1010 comprises 18 Integer-valued members in a simple list.\n",
      "fid 20110  DM9 count: 47061 ind from 502602\n",
      "fid 20111 is a single-measure categorical (single) variable, which is \n",
      "Illnesses of siblingsUses data-coding 1010 comprises 18 Integer-valued members in a simple list.\n",
      "fid 20111  DM9 count: 36664 ind from 502602\n",
      "fid 20112 is a single-measure categorical (single) variable, which is \n",
      "Illnesses of adopted fatherUses data-coding 1010 comprises 18 Integer-valued members in a simple list.\n",
      "fid 20112  DM9 count: 303 ind from 502602\n",
      "fid 20113 is a single-measure categorical (single) variable, which is \n",
      "Illnesses of adopted motherUses data-coding 1010 comprises 18 Integer-valued members in a simple list.\n",
      "fid 20113  DM9 count: 424 ind from 502602\n",
      "fid 20114 is a single-measure categorical (single) variable, which is \n",
      "Illnesses of adopted siblingsUses data-coding 1010 comprises 18 Integer-valued members in a simple list.\n",
      "fid 20114  DM9 count: 211 ind from 502602\n"
     ]
    }
   ],
   "source": [
    "## Family DM history indicators\n",
    "df_ind20107_DM = mm_gen_ind_list(fid_in=20107,key_code_list=['9'],evt='DM')\n",
    "df_ind20110_DM = mm_gen_ind_list(fid_in=20110,key_code_list=['9'],evt='DM')\n",
    "df_ind20111_DM = mm_gen_ind_list(fid_in=20111,key_code_list=['9'],evt='DM')\n",
    "df_ind20112_DM = mm_gen_ind_list(fid_in=20112,key_code_list=['9'],evt='DM')\n",
    "df_ind20113_DM = mm_gen_ind_list(fid_in=20113,key_code_list=['9'],evt='DM')\n",
    "df_ind20114_DM = mm_gen_ind_list(fid_in=20114,key_code_list=['9'],evt='DM')\n"
   ]
  },
  {
   "cell_type": "code",
   "execution_count": 56,
   "metadata": {},
   "outputs": [
    {
     "data": {
      "text/plain": [
       "0    393127\n",
       "1    109475\n",
       "Name: fam_hx_ind, dtype: int64"
      ]
     },
     "execution_count": 56,
     "metadata": {},
     "output_type": "execute_result"
    }
   ],
   "source": [
    "df_fam_hx_list = [df_ind20107_DM, df_ind20110_DM, df_ind20111_DM, df_ind20112_DM, df_ind20113_DM, df_ind20114_DM ]\n",
    "\n",
    "df_fam_hx_pre=pd.concat(df_fam_hx_list, axis=1)\n",
    "df_fam_hx_pre=df_fam_hx_pre.loc[:,~df_fam_hx_pre.columns.duplicated()] \n",
    "df_fam_hx=df_fam_hx_pre[['eid']].copy()\n",
    "df_fam_hx['fam_hx_ind']=df_fam_hx_pre.drop('eid',axis=1).sum(axis=1)\n",
    "df_fam_hx.fam_hx_ind=df_fam_hx.fam_hx_ind.apply(lambda y: 1 if y>0 else y)\n",
    "\n",
    "df_fam_hx.fam_hx_ind.value_counts()"
   ]
  },
  {
   "cell_type": "code",
   "execution_count": 60,
   "metadata": {},
   "outputs": [
    {
     "data": {
      "text/plain": [
       "0    373775\n",
       "1     94827\n",
       "Name: fam_hx_ind, dtype: int64"
      ]
     },
     "execution_count": 60,
     "metadata": {},
     "output_type": "execute_result"
    }
   ],
   "source": [
    "ctrl_pro3=pd.merge(ctrl_pro2, df_fam_hx, on='eid', how='left')\n",
    "ctrl_pro3.to_csv('/temp_project/ukbb/data/i0/varOutcome/T2D/ctrl_pro3.csv')\n",
    "ctrl_pro3.fam_hx_ind.value_counts()\n",
    "\n"
   ]
  },
  {
   "cell_type": "code",
   "execution_count": null,
   "metadata": {},
   "outputs": [],
   "source": []
  },
  {
   "cell_type": "code",
   "execution_count": 61,
   "metadata": {},
   "outputs": [
    {
     "data": {
      "text/plain": [
       "0    373775\n",
       "Name: fam_hx_ind, dtype: int64"
      ]
     },
     "execution_count": 61,
     "metadata": {},
     "output_type": "execute_result"
    }
   ],
   "source": [
    "ctrl_pro4=ctrl_pro3[ctrl_pro3.fam_hx_ind==0]\n",
    "ctrl_pro4.to_csv('/temp_project/ukbb/data/i0/varOutcome/T2D/ctrl_pro4.csv')\n",
    "ctrl_pro4.fam_hx_ind.value_counts()\n",
    "\n"
   ]
  },
  {
   "cell_type": "code",
   "execution_count": 59,
   "metadata": {},
   "outputs": [
    {
     "data": {
      "text/plain": [
       "468602"
      ]
     },
     "execution_count": 59,
     "metadata": {},
     "output_type": "execute_result"
    }
   ],
   "source": [
    "373775+94827"
   ]
  },
  {
   "cell_type": "code",
   "execution_count": 62,
   "metadata": {},
   "outputs": [
    {
     "data": {
      "text/html": [
       "<div>\n",
       "<style scoped>\n",
       "    .dataframe tbody tr th:only-of-type {\n",
       "        vertical-align: middle;\n",
       "    }\n",
       "\n",
       "    .dataframe tbody tr th {\n",
       "        vertical-align: top;\n",
       "    }\n",
       "\n",
       "    .dataframe thead th {\n",
       "        text-align: right;\n",
       "    }\n",
       "</style>\n",
       "<table border=\"1\" class=\"dataframe\">\n",
       "  <thead>\n",
       "    <tr style=\"text-align: right;\">\n",
       "      <th></th>\n",
       "      <th>eid</th>\n",
       "      <th>visit_ct</th>\n",
       "    </tr>\n",
       "  </thead>\n",
       "  <tbody>\n",
       "    <tr>\n",
       "      <th>0</th>\n",
       "      <td>2935846</td>\n",
       "      <td>2</td>\n",
       "    </tr>\n",
       "    <tr>\n",
       "      <th>1</th>\n",
       "      <td>3077649</td>\n",
       "      <td>3</td>\n",
       "    </tr>\n",
       "    <tr>\n",
       "      <th>2</th>\n",
       "      <td>2304115</td>\n",
       "      <td>1</td>\n",
       "    </tr>\n",
       "    <tr>\n",
       "      <th>3</th>\n",
       "      <td>5151744</td>\n",
       "      <td>1</td>\n",
       "    </tr>\n",
       "    <tr>\n",
       "      <th>4</th>\n",
       "      <td>4609149</td>\n",
       "      <td>3</td>\n",
       "    </tr>\n",
       "  </tbody>\n",
       "</table>\n",
       "</div>"
      ],
      "text/plain": [
       "       eid  visit_ct\n",
       "0  2935846         2\n",
       "1  3077649         3\n",
       "2  2304115         1\n",
       "3  5151744         1\n",
       "4  4609149         3"
      ]
     },
     "execution_count": 62,
     "metadata": {},
     "output_type": "execute_result"
    }
   ],
   "source": [
    "### load hesin visit count data \n",
    "HES_visit_ct = pd.read_csv('/temp_project/HES/HES_baseline_visit_count.csv')\n",
    "HES_visit_ct.head()"
   ]
  },
  {
   "cell_type": "code",
   "execution_count": 63,
   "metadata": {},
   "outputs": [
    {
     "data": {
      "text/plain": [
       "373775"
      ]
     },
     "execution_count": 63,
     "metadata": {},
     "output_type": "execute_result"
    }
   ],
   "source": [
    "ctrl_pro5 = pd.merge(ctrl_pro4, HES_visit_ct, on='eid', how='left')\n",
    "ctrl_pro5.eid.count()"
   ]
  },
  {
   "cell_type": "code",
   "execution_count": 64,
   "metadata": {},
   "outputs": [
    {
     "data": {
      "text/plain": [
       "85819"
      ]
     },
     "execution_count": 64,
     "metadata": {},
     "output_type": "execute_result"
    }
   ],
   "source": [
    "ctrl_pro6 = ctrl_pro5[ctrl_pro5.visit_ct>=2]\n",
    "ctrl_pro6.eid.count()"
   ]
  },
  {
   "cell_type": "code",
   "execution_count": 65,
   "metadata": {},
   "outputs": [
    {
     "data": {
      "text/plain": [
       "'/temp_project/ukbb/data/i0/var_cas'"
      ]
     },
     "execution_count": 65,
     "metadata": {},
     "output_type": "execute_result"
    }
   ],
   "source": [
    "pwd()"
   ]
  },
  {
   "cell_type": "code",
   "execution_count": 66,
   "metadata": {},
   "outputs": [],
   "source": [
    "ctrl_pro6.to_csv('/temp_project/ukbb/data/i0/varOutcome/T2D/T2D_ctrl.csv', index=None)"
   ]
  },
  {
   "cell_type": "code",
   "execution_count": null,
   "metadata": {},
   "outputs": [],
   "source": []
  }
 ],
 "metadata": {
  "kernelspec": {
   "display_name": "Python 3",
   "language": "python",
   "name": "python3"
  },
  "language_info": {
   "codemirror_mode": {
    "name": "ipython",
    "version": 3
   },
   "file_extension": ".py",
   "mimetype": "text/x-python",
   "name": "python",
   "nbconvert_exporter": "python",
   "pygments_lexer": "ipython3",
   "version": "3.6.5"
  }
 },
 "nbformat": 4,
 "nbformat_minor": 2
}
